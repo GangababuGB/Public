{
 "cells": [
  {
   "cell_type": "code",
   "execution_count": 1,
   "id": "d80315ff",
   "metadata": {},
   "outputs": [],
   "source": [
    "import pandas as pd\n",
    "import numpy as np\n",
    "from sklearn.model_selection import train_test_split\n",
    "import tensorflow as tf\n",
    "from sklearn import preprocessing\n",
    "from tensorflow.keras.models import Sequential\n",
    "from tensorflow.keras.layers import Dense, Dropout, BatchNormalization\n",
    "from sklearn.metrics import accuracy_score, confusion_matrix, precision_score, recall_score, f1_score, precision_recall_curve, auc\n",
    "import matplotlib.pyplot as plt\n",
    "from tensorflow.keras import optimizers\n",
    "import seaborn as sns\n",
    "import matplotlib.pyplot as plt \n",
    "from keras_tuner.tuners import RandomSearch\n",
    "import hiplot as hip\n",
    "#conda install -c conda-forge hiplot\n",
    "from keras.utils.vis_utils import plot_model"
   ]
  },
  {
   "cell_type": "code",
   "execution_count": 2,
   "id": "87bdb7ba",
   "metadata": {},
   "outputs": [
    {
     "name": "stdout",
     "output_type": "stream",
     "text": [
      "2.7.0\n"
     ]
    }
   ],
   "source": [
    "print(tf.__version__)"
   ]
  },
  {
   "cell_type": "code",
   "execution_count": 3,
   "id": "9e4df795",
   "metadata": {},
   "outputs": [
    {
     "data": {
      "text/html": [
       "<div>\n",
       "<style scoped>\n",
       "    .dataframe tbody tr th:only-of-type {\n",
       "        vertical-align: middle;\n",
       "    }\n",
       "\n",
       "    .dataframe tbody tr th {\n",
       "        vertical-align: top;\n",
       "    }\n",
       "\n",
       "    .dataframe thead th {\n",
       "        text-align: right;\n",
       "    }\n",
       "</style>\n",
       "<table border=\"1\" class=\"dataframe\">\n",
       "  <thead>\n",
       "    <tr style=\"text-align: right;\">\n",
       "      <th></th>\n",
       "      <th>TS</th>\n",
       "      <th>xs1</th>\n",
       "      <th>xs2</th>\n",
       "      <th>xs3</th>\n",
       "      <th>xs4</th>\n",
       "      <th>xs5</th>\n",
       "      <th>xs6</th>\n",
       "      <th>xs7</th>\n",
       "      <th>xs8</th>\n",
       "      <th>label</th>\n",
       "    </tr>\n",
       "  </thead>\n",
       "  <tbody>\n",
       "    <tr>\n",
       "      <th>11143</th>\n",
       "      <td>03/09/2022 05:30:38 PM</td>\n",
       "      <td>22.360545</td>\n",
       "      <td>62.441708</td>\n",
       "      <td>614.275778</td>\n",
       "      <td>91.316984</td>\n",
       "      <td>111.261258</td>\n",
       "      <td>337.652206</td>\n",
       "      <td>608.626105</td>\n",
       "      <td>93.236732</td>\n",
       "      <td>0</td>\n",
       "    </tr>\n",
       "    <tr>\n",
       "      <th>11144</th>\n",
       "      <td>03/09/2022 05:30:39 PM</td>\n",
       "      <td>22.378963</td>\n",
       "      <td>60.832924</td>\n",
       "      <td>615.603485</td>\n",
       "      <td>90.670284</td>\n",
       "      <td>111.390261</td>\n",
       "      <td>338.368133</td>\n",
       "      <td>614.853440</td>\n",
       "      <td>92.449471</td>\n",
       "      <td>3</td>\n",
       "    </tr>\n",
       "    <tr>\n",
       "      <th>11145</th>\n",
       "      <td>03/09/2022 05:30:40 PM</td>\n",
       "      <td>22.115642</td>\n",
       "      <td>61.879360</td>\n",
       "      <td>603.981455</td>\n",
       "      <td>92.154777</td>\n",
       "      <td>111.429463</td>\n",
       "      <td>335.943793</td>\n",
       "      <td>619.911271</td>\n",
       "      <td>93.524759</td>\n",
       "      <td>0</td>\n",
       "    </tr>\n",
       "    <tr>\n",
       "      <th>11146</th>\n",
       "      <td>03/09/2022 05:30:41 PM</td>\n",
       "      <td>21.294801</td>\n",
       "      <td>60.977528</td>\n",
       "      <td>606.264567</td>\n",
       "      <td>92.715570</td>\n",
       "      <td>111.441063</td>\n",
       "      <td>339.222134</td>\n",
       "      <td>601.457418</td>\n",
       "      <td>92.225605</td>\n",
       "      <td>0</td>\n",
       "    </tr>\n",
       "    <tr>\n",
       "      <th>11147</th>\n",
       "      <td>03/09/2022 05:30:42 PM</td>\n",
       "      <td>21.655784</td>\n",
       "      <td>60.989786</td>\n",
       "      <td>602.392391</td>\n",
       "      <td>92.910869</td>\n",
       "      <td>111.520200</td>\n",
       "      <td>333.786280</td>\n",
       "      <td>601.532498</td>\n",
       "      <td>91.121459</td>\n",
       "      <td>0</td>\n",
       "    </tr>\n",
       "  </tbody>\n",
       "</table>\n",
       "</div>"
      ],
      "text/plain": [
       "                           TS        xs1        xs2         xs3        xs4  \\\n",
       "11143  03/09/2022 05:30:38 PM  22.360545  62.441708  614.275778  91.316984   \n",
       "11144  03/09/2022 05:30:39 PM  22.378963  60.832924  615.603485  90.670284   \n",
       "11145  03/09/2022 05:30:40 PM  22.115642  61.879360  603.981455  92.154777   \n",
       "11146  03/09/2022 05:30:41 PM  21.294801  60.977528  606.264567  92.715570   \n",
       "11147  03/09/2022 05:30:42 PM  21.655784  60.989786  602.392391  92.910869   \n",
       "\n",
       "              xs5         xs6         xs7        xs8  label  \n",
       "11143  111.261258  337.652206  608.626105  93.236732      0  \n",
       "11144  111.390261  338.368133  614.853440  92.449471      3  \n",
       "11145  111.429463  335.943793  619.911271  93.524759      0  \n",
       "11146  111.441063  339.222134  601.457418  92.225605      0  \n",
       "11147  111.520200  333.786280  601.532498  91.121459      0  "
      ]
     },
     "execution_count": 3,
     "metadata": {},
     "output_type": "execute_result"
    }
   ],
   "source": [
    "df = pd.read_csv(r'E:\\Code_Vauld\\IOT_GEN_PLOT2\\1m8c8s8L_AutoMan_Anomaly\\sensor_IOT_ok.csv')\n",
    "df.tail(5)"
   ]
  },
  {
   "cell_type": "code",
   "execution_count": 4,
   "id": "9ca7514c",
   "metadata": {},
   "outputs": [
    {
     "data": {
      "text/html": [
       "<div>\n",
       "<style scoped>\n",
       "    .dataframe tbody tr th:only-of-type {\n",
       "        vertical-align: middle;\n",
       "    }\n",
       "\n",
       "    .dataframe tbody tr th {\n",
       "        vertical-align: top;\n",
       "    }\n",
       "\n",
       "    .dataframe thead th {\n",
       "        text-align: right;\n",
       "    }\n",
       "</style>\n",
       "<table border=\"1\" class=\"dataframe\">\n",
       "  <thead>\n",
       "    <tr style=\"text-align: right;\">\n",
       "      <th></th>\n",
       "      <th>count</th>\n",
       "      <th>unique</th>\n",
       "      <th>top</th>\n",
       "      <th>freq</th>\n",
       "      <th>mean</th>\n",
       "      <th>std</th>\n",
       "      <th>min</th>\n",
       "      <th>25%</th>\n",
       "      <th>50%</th>\n",
       "      <th>75%</th>\n",
       "      <th>max</th>\n",
       "    </tr>\n",
       "  </thead>\n",
       "  <tbody>\n",
       "    <tr>\n",
       "      <th>TS</th>\n",
       "      <td>11148</td>\n",
       "      <td>11148</td>\n",
       "      <td>03/09/2022 02:17:13 PM</td>\n",
       "      <td>1</td>\n",
       "      <td>NaN</td>\n",
       "      <td>NaN</td>\n",
       "      <td>NaN</td>\n",
       "      <td>NaN</td>\n",
       "      <td>NaN</td>\n",
       "      <td>NaN</td>\n",
       "      <td>NaN</td>\n",
       "    </tr>\n",
       "    <tr>\n",
       "      <th>xs1</th>\n",
       "      <td>11148.0</td>\n",
       "      <td>NaN</td>\n",
       "      <td>NaN</td>\n",
       "      <td>NaN</td>\n",
       "      <td>21.54897</td>\n",
       "      <td>0.583528</td>\n",
       "      <td>20.550409</td>\n",
       "      <td>21.052107</td>\n",
       "      <td>21.537718</td>\n",
       "      <td>22.045423</td>\n",
       "      <td>27.839009</td>\n",
       "    </tr>\n",
       "    <tr>\n",
       "      <th>xs2</th>\n",
       "      <td>11148.0</td>\n",
       "      <td>NaN</td>\n",
       "      <td>NaN</td>\n",
       "      <td>NaN</td>\n",
       "      <td>61.546329</td>\n",
       "      <td>0.593023</td>\n",
       "      <td>60.550082</td>\n",
       "      <td>61.036585</td>\n",
       "      <td>61.547124</td>\n",
       "      <td>62.039461</td>\n",
       "      <td>66.873661</td>\n",
       "    </tr>\n",
       "    <tr>\n",
       "      <th>xs3</th>\n",
       "      <td>11148.0</td>\n",
       "      <td>NaN</td>\n",
       "      <td>NaN</td>\n",
       "      <td>NaN</td>\n",
       "      <td>610.536744</td>\n",
       "      <td>5.82749</td>\n",
       "      <td>600.551494</td>\n",
       "      <td>605.581675</td>\n",
       "      <td>610.43256</td>\n",
       "      <td>615.454066</td>\n",
       "      <td>672.973467</td>\n",
       "    </tr>\n",
       "    <tr>\n",
       "      <th>xs4</th>\n",
       "      <td>11148.0</td>\n",
       "      <td>NaN</td>\n",
       "      <td>NaN</td>\n",
       "      <td>NaN</td>\n",
       "      <td>92.067083</td>\n",
       "      <td>0.891504</td>\n",
       "      <td>90.550414</td>\n",
       "      <td>91.310898</td>\n",
       "      <td>92.071592</td>\n",
       "      <td>92.82138</td>\n",
       "      <td>99.324656</td>\n",
       "    </tr>\n",
       "    <tr>\n",
       "      <th>xs5</th>\n",
       "      <td>11148.0</td>\n",
       "      <td>NaN</td>\n",
       "      <td>NaN</td>\n",
       "      <td>NaN</td>\n",
       "      <td>111.045578</td>\n",
       "      <td>0.288501</td>\n",
       "      <td>110.550006</td>\n",
       "      <td>110.795257</td>\n",
       "      <td>111.046586</td>\n",
       "      <td>111.291546</td>\n",
       "      <td>111.549988</td>\n",
       "    </tr>\n",
       "    <tr>\n",
       "      <th>xs6</th>\n",
       "      <td>11148.0</td>\n",
       "      <td>NaN</td>\n",
       "      <td>NaN</td>\n",
       "      <td>NaN</td>\n",
       "      <td>340.588304</td>\n",
       "      <td>5.756236</td>\n",
       "      <td>330.550856</td>\n",
       "      <td>335.608906</td>\n",
       "      <td>340.589028</td>\n",
       "      <td>345.579716</td>\n",
       "      <td>354.891147</td>\n",
       "    </tr>\n",
       "    <tr>\n",
       "      <th>xs7</th>\n",
       "      <td>11148.0</td>\n",
       "      <td>NaN</td>\n",
       "      <td>NaN</td>\n",
       "      <td>NaN</td>\n",
       "      <td>610.587991</td>\n",
       "      <td>5.821717</td>\n",
       "      <td>600.552907</td>\n",
       "      <td>605.636415</td>\n",
       "      <td>610.529193</td>\n",
       "      <td>615.520487</td>\n",
       "      <td>669.978879</td>\n",
       "    </tr>\n",
       "    <tr>\n",
       "      <th>xs8</th>\n",
       "      <td>11148.0</td>\n",
       "      <td>NaN</td>\n",
       "      <td>NaN</td>\n",
       "      <td>NaN</td>\n",
       "      <td>92.044615</td>\n",
       "      <td>0.883438</td>\n",
       "      <td>90.550388</td>\n",
       "      <td>91.288106</td>\n",
       "      <td>92.035702</td>\n",
       "      <td>92.790584</td>\n",
       "      <td>99.802652</td>\n",
       "    </tr>\n",
       "    <tr>\n",
       "      <th>label</th>\n",
       "      <td>11148.0</td>\n",
       "      <td>NaN</td>\n",
       "      <td>NaN</td>\n",
       "      <td>NaN</td>\n",
       "      <td>0.662002</td>\n",
       "      <td>1.807662</td>\n",
       "      <td>0.0</td>\n",
       "      <td>0.0</td>\n",
       "      <td>0.0</td>\n",
       "      <td>0.0</td>\n",
       "      <td>8.0</td>\n",
       "    </tr>\n",
       "  </tbody>\n",
       "</table>\n",
       "</div>"
      ],
      "text/plain": [
       "         count unique                     top freq        mean       std  \\\n",
       "TS       11148  11148  03/09/2022 02:17:13 PM    1         NaN       NaN   \n",
       "xs1    11148.0    NaN                     NaN  NaN    21.54897  0.583528   \n",
       "xs2    11148.0    NaN                     NaN  NaN   61.546329  0.593023   \n",
       "xs3    11148.0    NaN                     NaN  NaN  610.536744   5.82749   \n",
       "xs4    11148.0    NaN                     NaN  NaN   92.067083  0.891504   \n",
       "xs5    11148.0    NaN                     NaN  NaN  111.045578  0.288501   \n",
       "xs6    11148.0    NaN                     NaN  NaN  340.588304  5.756236   \n",
       "xs7    11148.0    NaN                     NaN  NaN  610.587991  5.821717   \n",
       "xs8    11148.0    NaN                     NaN  NaN   92.044615  0.883438   \n",
       "label  11148.0    NaN                     NaN  NaN    0.662002  1.807662   \n",
       "\n",
       "              min         25%         50%         75%         max  \n",
       "TS            NaN         NaN         NaN         NaN         NaN  \n",
       "xs1     20.550409   21.052107   21.537718   22.045423   27.839009  \n",
       "xs2     60.550082   61.036585   61.547124   62.039461   66.873661  \n",
       "xs3    600.551494  605.581675   610.43256  615.454066  672.973467  \n",
       "xs4     90.550414   91.310898   92.071592    92.82138   99.324656  \n",
       "xs5    110.550006  110.795257  111.046586  111.291546  111.549988  \n",
       "xs6    330.550856  335.608906  340.589028  345.579716  354.891147  \n",
       "xs7    600.552907  605.636415  610.529193  615.520487  669.978879  \n",
       "xs8     90.550388   91.288106   92.035702   92.790584   99.802652  \n",
       "label         0.0         0.0         0.0         0.0         8.0  "
      ]
     },
     "execution_count": 4,
     "metadata": {},
     "output_type": "execute_result"
    }
   ],
   "source": [
    "df.describe(include='all').T"
   ]
  },
  {
   "cell_type": "code",
   "execution_count": 5,
   "id": "dd9c9bbd",
   "metadata": {},
   "outputs": [],
   "source": [
    "#df.set_index('TS', inplace = True)"
   ]
  },
  {
   "cell_type": "code",
   "execution_count": 6,
   "id": "5e20f808",
   "metadata": {},
   "outputs": [],
   "source": [
    "#Drop time - Interpret as part of model\n",
    "df = df.drop(\"TS\", axis = 1)"
   ]
  },
  {
   "cell_type": "code",
   "execution_count": 7,
   "id": "a1b1bce3",
   "metadata": {},
   "outputs": [
    {
     "data": {
      "text/plain": [
       "label    2.805029\n",
       "xs2      0.377692\n",
       "xs4      0.323413\n",
       "xs8      0.304086\n",
       "xs7      0.262329\n",
       "xs3      0.261782\n",
       "xs1      0.180545\n",
       "xs5      0.012289\n",
       "xs6     -0.005937\n",
       "dtype: float64"
      ]
     },
     "execution_count": 7,
     "metadata": {},
     "output_type": "execute_result"
    }
   ],
   "source": [
    "df.skew().sort_values(ascending=False)"
   ]
  },
  {
   "cell_type": "code",
   "execution_count": 8,
   "id": "1174e294",
   "metadata": {},
   "outputs": [
    {
     "data": {
      "text/plain": [
       "label    6.787438\n",
       "xs2      1.694047\n",
       "xs7      1.296335\n",
       "xs3      1.062812\n",
       "xs4      0.984761\n",
       "xs8      0.919190\n",
       "xs1      0.349930\n",
       "xs6     -1.197418\n",
       "xs5     -1.197700\n",
       "dtype: float64"
      ]
     },
     "execution_count": 8,
     "metadata": {},
     "output_type": "execute_result"
    }
   ],
   "source": [
    "df.kurt().sort_values(ascending=False)"
   ]
  },
  {
   "cell_type": "code",
   "execution_count": 9,
   "id": "fe256085",
   "metadata": {},
   "outputs": [
    {
     "data": {
      "text/plain": [
       "xs6     -0.012780\n",
       "xs7     -0.006681\n",
       "xs3      0.000711\n",
       "xs1      0.000772\n",
       "xs5      0.011555\n",
       "xs2      0.017917\n",
       "xs4      0.024305\n",
       "xs8      0.039384\n",
       "label    1.000000\n",
       "Name: label, dtype: float64"
      ]
     },
     "execution_count": 9,
     "metadata": {},
     "output_type": "execute_result"
    }
   ],
   "source": [
    "# No strong correlations\n",
    "df.corr()['label'].sort_values()"
   ]
  },
  {
   "cell_type": "code",
   "execution_count": 10,
   "id": "3d4d45e6",
   "metadata": {
    "scrolled": false
   },
   "outputs": [
    {
     "data": {
      "image/png": "[encoded data removed]",
      "text/plain": [
       "<Figure size 1080x576 with 1 Axes>"
      ]
     },
     "metadata": {
      "needs_background": "light"
     },
     "output_type": "display_data"
    }
   ],
   "source": [
    "# No correlation between Principal Components as expected\n",
    "corr = abs(df.corr()) # correlation matrix\n",
    "lower_triangle = np.tril(corr, k = -1)  # select only the lower triangle of the correlation matrix\n",
    "mask = lower_triangle == 0  # to mask the upper triangle in the following heatmap\n",
    "\n",
    "plt.figure(figsize = (15,8))  # setting the figure size\n",
    "sns.set_style(style = 'white')  # Setting it to white so that we do not see the grid lines\n",
    "sns.heatmap(lower_triangle, center=0.5, cmap= 'Blues', annot= True, xticklabels = corr.index, yticklabels = corr.columns,\n",
    "            cbar= False, linewidths= 1, mask = mask,fmt='.2g')   # Da Heatmap\n",
    "plt.xticks(rotation = 50)   # Aesthetic purposes\n",
    "plt.yticks(rotation = 20)   # Aesthetic purposes\n",
    "plt.show()"
   ]
  },
  {
   "cell_type": "code",
   "execution_count": 11,
   "id": "4b5f7bf0",
   "metadata": {},
   "outputs": [
    {
     "data": {
      "text/plain": [
       "Index(['xs1', 'xs2', 'xs3', 'xs4', 'xs5', 'xs6', 'xs7', 'xs8', 'label'], dtype='object')"
      ]
     },
     "execution_count": 11,
     "metadata": {},
     "output_type": "execute_result"
    }
   ],
   "source": [
    "df.columns"
   ]
  },
  {
   "cell_type": "code",
   "execution_count": 12,
   "id": "67c86418",
   "metadata": {},
   "outputs": [],
   "source": [
    "# Check distributions for Class 0 vs 1\n",
    "normal = df[df.label==0]\n",
    "aly_xs1 = df[df.label==1]\n",
    "aly_xs2 = df[df.label==2]\n",
    "aly_xs3 = df[df.label==3]\n",
    "aly_xs4 = df[df.label==4]\n",
    "aly_xs5 = df[df.label==5]"
   ]
  },
  {
   "cell_type": "code",
   "execution_count": 13,
   "id": "25cc184d",
   "metadata": {},
   "outputs": [
    {
     "data": {
      "text/html": [
       "<div>\n",
       "<style scoped>\n",
       "    .dataframe tbody tr th:only-of-type {\n",
       "        vertical-align: middle;\n",
       "    }\n",
       "\n",
       "    .dataframe tbody tr th {\n",
       "        vertical-align: top;\n",
       "    }\n",
       "\n",
       "    .dataframe thead th {\n",
       "        text-align: right;\n",
       "    }\n",
       "</style>\n",
       "<table border=\"1\" class=\"dataframe\">\n",
       "  <thead>\n",
       "    <tr style=\"text-align: right;\">\n",
       "      <th></th>\n",
       "      <th>count</th>\n",
       "      <th>mean</th>\n",
       "      <th>std</th>\n",
       "      <th>min</th>\n",
       "      <th>25%</th>\n",
       "      <th>50%</th>\n",
       "      <th>75%</th>\n",
       "      <th>max</th>\n",
       "    </tr>\n",
       "  </thead>\n",
       "  <tbody>\n",
       "    <tr>\n",
       "      <th>xs1</th>\n",
       "      <td>9477.0</td>\n",
       "      <td>21.546583</td>\n",
       "      <td>0.579211</td>\n",
       "      <td>20.550409</td>\n",
       "      <td>21.050352</td>\n",
       "      <td>21.538258</td>\n",
       "      <td>22.045631</td>\n",
       "      <td>22.549948</td>\n",
       "    </tr>\n",
       "    <tr>\n",
       "      <th>xs2</th>\n",
       "      <td>9477.0</td>\n",
       "      <td>61.539839</td>\n",
       "      <td>0.578529</td>\n",
       "      <td>60.550082</td>\n",
       "      <td>61.034255</td>\n",
       "      <td>61.541243</td>\n",
       "      <td>62.035493</td>\n",
       "      <td>62.549886</td>\n",
       "    </tr>\n",
       "    <tr>\n",
       "      <th>xs3</th>\n",
       "      <td>9477.0</td>\n",
       "      <td>610.525160</td>\n",
       "      <td>5.747481</td>\n",
       "      <td>600.551494</td>\n",
       "      <td>605.568084</td>\n",
       "      <td>610.457642</td>\n",
       "      <td>615.460719</td>\n",
       "      <td>620.538192</td>\n",
       "    </tr>\n",
       "    <tr>\n",
       "      <th>xs4</th>\n",
       "      <td>9477.0</td>\n",
       "      <td>92.056988</td>\n",
       "      <td>0.865226</td>\n",
       "      <td>90.550414</td>\n",
       "      <td>91.300789</td>\n",
       "      <td>92.073395</td>\n",
       "      <td>92.813011</td>\n",
       "      <td>93.549672</td>\n",
       "    </tr>\n",
       "    <tr>\n",
       "      <th>xs5</th>\n",
       "      <td>9477.0</td>\n",
       "      <td>111.043971</td>\n",
       "      <td>0.287700</td>\n",
       "      <td>110.550066</td>\n",
       "      <td>110.793245</td>\n",
       "      <td>111.043820</td>\n",
       "      <td>111.287151</td>\n",
       "      <td>111.549939</td>\n",
       "    </tr>\n",
       "    <tr>\n",
       "      <th>xs6</th>\n",
       "      <td>9477.0</td>\n",
       "      <td>340.603156</td>\n",
       "      <td>5.739649</td>\n",
       "      <td>330.550856</td>\n",
       "      <td>335.618819</td>\n",
       "      <td>340.601903</td>\n",
       "      <td>345.590307</td>\n",
       "      <td>350.548966</td>\n",
       "    </tr>\n",
       "    <tr>\n",
       "      <th>xs7</th>\n",
       "      <td>9477.0</td>\n",
       "      <td>610.608239</td>\n",
       "      <td>5.745124</td>\n",
       "      <td>600.552907</td>\n",
       "      <td>605.664709</td>\n",
       "      <td>610.567268</td>\n",
       "      <td>615.610069</td>\n",
       "      <td>620.549196</td>\n",
       "    </tr>\n",
       "    <tr>\n",
       "      <th>xs8</th>\n",
       "      <td>9477.0</td>\n",
       "      <td>92.033245</td>\n",
       "      <td>0.863429</td>\n",
       "      <td>90.550388</td>\n",
       "      <td>91.283488</td>\n",
       "      <td>92.023242</td>\n",
       "      <td>92.785394</td>\n",
       "      <td>93.549707</td>\n",
       "    </tr>\n",
       "    <tr>\n",
       "      <th>label</th>\n",
       "      <td>9477.0</td>\n",
       "      <td>0.000000</td>\n",
       "      <td>0.000000</td>\n",
       "      <td>0.000000</td>\n",
       "      <td>0.000000</td>\n",
       "      <td>0.000000</td>\n",
       "      <td>0.000000</td>\n",
       "      <td>0.000000</td>\n",
       "    </tr>\n",
       "  </tbody>\n",
       "</table>\n",
       "</div>"
      ],
      "text/plain": [
       "        count        mean       std         min         25%         50%  \\\n",
       "xs1    9477.0   21.546583  0.579211   20.550409   21.050352   21.538258   \n",
       "xs2    9477.0   61.539839  0.578529   60.550082   61.034255   61.541243   \n",
       "xs3    9477.0  610.525160  5.747481  600.551494  605.568084  610.457642   \n",
       "xs4    9477.0   92.056988  0.865226   90.550414   91.300789   92.073395   \n",
       "xs5    9477.0  111.043971  0.287700  110.550066  110.793245  111.043820   \n",
       "xs6    9477.0  340.603156  5.739649  330.550856  335.618819  340.601903   \n",
       "xs7    9477.0  610.608239  5.745124  600.552907  605.664709  610.567268   \n",
       "xs8    9477.0   92.033245  0.863429   90.550388   91.283488   92.023242   \n",
       "label  9477.0    0.000000  0.000000    0.000000    0.000000    0.000000   \n",
       "\n",
       "              75%         max  \n",
       "xs1     22.045631   22.549948  \n",
       "xs2     62.035493   62.549886  \n",
       "xs3    615.460719  620.538192  \n",
       "xs4     92.813011   93.549672  \n",
       "xs5    111.287151  111.549939  \n",
       "xs6    345.590307  350.548966  \n",
       "xs7    615.610069  620.549196  \n",
       "xs8     92.785394   93.549707  \n",
       "label    0.000000    0.000000  "
      ]
     },
     "execution_count": 13,
     "metadata": {},
     "output_type": "execute_result"
    }
   ],
   "source": [
    "normal.describe().T"
   ]
  },
  {
   "cell_type": "code",
   "execution_count": 14,
   "id": "f366dd0d",
   "metadata": {},
   "outputs": [
    {
     "data": {
      "text/html": [
       "<div>\n",
       "<style scoped>\n",
       "    .dataframe tbody tr th:only-of-type {\n",
       "        vertical-align: middle;\n",
       "    }\n",
       "\n",
       "    .dataframe tbody tr th {\n",
       "        vertical-align: top;\n",
       "    }\n",
       "\n",
       "    .dataframe thead th {\n",
       "        text-align: right;\n",
       "    }\n",
       "</style>\n",
       "<table border=\"1\" class=\"dataframe\">\n",
       "  <thead>\n",
       "    <tr style=\"text-align: right;\">\n",
       "      <th></th>\n",
       "      <th>count</th>\n",
       "      <th>mean</th>\n",
       "      <th>std</th>\n",
       "      <th>min</th>\n",
       "      <th>25%</th>\n",
       "      <th>50%</th>\n",
       "      <th>75%</th>\n",
       "      <th>max</th>\n",
       "    </tr>\n",
       "  </thead>\n",
       "  <tbody>\n",
       "    <tr>\n",
       "      <th>xs1</th>\n",
       "      <td>222.0</td>\n",
       "      <td>21.621950</td>\n",
       "      <td>0.788025</td>\n",
       "      <td>20.578535</td>\n",
       "      <td>21.122580</td>\n",
       "      <td>21.553493</td>\n",
       "      <td>22.036891</td>\n",
       "      <td>27.839009</td>\n",
       "    </tr>\n",
       "    <tr>\n",
       "      <th>xs2</th>\n",
       "      <td>222.0</td>\n",
       "      <td>61.568897</td>\n",
       "      <td>0.578816</td>\n",
       "      <td>60.569103</td>\n",
       "      <td>61.012771</td>\n",
       "      <td>61.647374</td>\n",
       "      <td>62.076545</td>\n",
       "      <td>62.546528</td>\n",
       "    </tr>\n",
       "    <tr>\n",
       "      <th>xs3</th>\n",
       "      <td>222.0</td>\n",
       "      <td>610.494692</td>\n",
       "      <td>5.923802</td>\n",
       "      <td>600.556646</td>\n",
       "      <td>605.693508</td>\n",
       "      <td>610.497367</td>\n",
       "      <td>615.874176</td>\n",
       "      <td>620.080832</td>\n",
       "    </tr>\n",
       "    <tr>\n",
       "      <th>xs4</th>\n",
       "      <td>222.0</td>\n",
       "      <td>92.094067</td>\n",
       "      <td>0.880942</td>\n",
       "      <td>90.554565</td>\n",
       "      <td>91.343565</td>\n",
       "      <td>92.126839</td>\n",
       "      <td>92.871779</td>\n",
       "      <td>94.467974</td>\n",
       "    </tr>\n",
       "    <tr>\n",
       "      <th>xs5</th>\n",
       "      <td>222.0</td>\n",
       "      <td>111.067987</td>\n",
       "      <td>0.295759</td>\n",
       "      <td>110.554449</td>\n",
       "      <td>110.828574</td>\n",
       "      <td>111.090638</td>\n",
       "      <td>111.309920</td>\n",
       "      <td>111.549842</td>\n",
       "    </tr>\n",
       "    <tr>\n",
       "      <th>xs6</th>\n",
       "      <td>222.0</td>\n",
       "      <td>340.389347</td>\n",
       "      <td>5.635293</td>\n",
       "      <td>330.607748</td>\n",
       "      <td>336.132492</td>\n",
       "      <td>340.210703</td>\n",
       "      <td>345.099458</td>\n",
       "      <td>350.509710</td>\n",
       "    </tr>\n",
       "    <tr>\n",
       "      <th>xs7</th>\n",
       "      <td>222.0</td>\n",
       "      <td>610.925168</td>\n",
       "      <td>5.528953</td>\n",
       "      <td>600.699352</td>\n",
       "      <td>606.465808</td>\n",
       "      <td>610.903925</td>\n",
       "      <td>616.131916</td>\n",
       "      <td>620.485314</td>\n",
       "    </tr>\n",
       "    <tr>\n",
       "      <th>xs8</th>\n",
       "      <td>222.0</td>\n",
       "      <td>92.086708</td>\n",
       "      <td>0.832387</td>\n",
       "      <td>90.561614</td>\n",
       "      <td>91.368690</td>\n",
       "      <td>92.126209</td>\n",
       "      <td>92.797057</td>\n",
       "      <td>93.517701</td>\n",
       "    </tr>\n",
       "    <tr>\n",
       "      <th>label</th>\n",
       "      <td>222.0</td>\n",
       "      <td>1.000000</td>\n",
       "      <td>0.000000</td>\n",
       "      <td>1.000000</td>\n",
       "      <td>1.000000</td>\n",
       "      <td>1.000000</td>\n",
       "      <td>1.000000</td>\n",
       "      <td>1.000000</td>\n",
       "    </tr>\n",
       "  </tbody>\n",
       "</table>\n",
       "</div>"
      ],
      "text/plain": [
       "       count        mean       std         min         25%         50%  \\\n",
       "xs1    222.0   21.621950  0.788025   20.578535   21.122580   21.553493   \n",
       "xs2    222.0   61.568897  0.578816   60.569103   61.012771   61.647374   \n",
       "xs3    222.0  610.494692  5.923802  600.556646  605.693508  610.497367   \n",
       "xs4    222.0   92.094067  0.880942   90.554565   91.343565   92.126839   \n",
       "xs5    222.0  111.067987  0.295759  110.554449  110.828574  111.090638   \n",
       "xs6    222.0  340.389347  5.635293  330.607748  336.132492  340.210703   \n",
       "xs7    222.0  610.925168  5.528953  600.699352  606.465808  610.903925   \n",
       "xs8    222.0   92.086708  0.832387   90.561614   91.368690   92.126209   \n",
       "label  222.0    1.000000  0.000000    1.000000    1.000000    1.000000   \n",
       "\n",
       "              75%         max  \n",
       "xs1     22.036891   27.839009  \n",
       "xs2     62.076545   62.546528  \n",
       "xs3    615.874176  620.080832  \n",
       "xs4     92.871779   94.467974  \n",
       "xs5    111.309920  111.549842  \n",
       "xs6    345.099458  350.509710  \n",
       "xs7    616.131916  620.485314  \n",
       "xs8     92.797057   93.517701  \n",
       "label    1.000000    1.000000  "
      ]
     },
     "execution_count": 14,
     "metadata": {},
     "output_type": "execute_result"
    }
   ],
   "source": [
    "aly_xs1.describe().T"
   ]
  },
  {
   "cell_type": "code",
   "execution_count": 15,
   "id": "c3487169",
   "metadata": {},
   "outputs": [
    {
     "data": {
      "text/html": [
       "<div>\n",
       "<style scoped>\n",
       "    .dataframe tbody tr th:only-of-type {\n",
       "        vertical-align: middle;\n",
       "    }\n",
       "\n",
       "    .dataframe tbody tr th {\n",
       "        vertical-align: top;\n",
       "    }\n",
       "\n",
       "    .dataframe thead th {\n",
       "        text-align: right;\n",
       "    }\n",
       "</style>\n",
       "<table border=\"1\" class=\"dataframe\">\n",
       "  <thead>\n",
       "    <tr style=\"text-align: right;\">\n",
       "      <th></th>\n",
       "      <th>count</th>\n",
       "      <th>mean</th>\n",
       "      <th>std</th>\n",
       "      <th>min</th>\n",
       "      <th>25%</th>\n",
       "      <th>50%</th>\n",
       "      <th>75%</th>\n",
       "      <th>max</th>\n",
       "    </tr>\n",
       "  </thead>\n",
       "  <tbody>\n",
       "    <tr>\n",
       "      <th>xs1</th>\n",
       "      <td>235.0</td>\n",
       "      <td>21.557788</td>\n",
       "      <td>0.578779</td>\n",
       "      <td>20.559286</td>\n",
       "      <td>21.064315</td>\n",
       "      <td>21.532330</td>\n",
       "      <td>22.084086</td>\n",
       "      <td>22.547837</td>\n",
       "    </tr>\n",
       "    <tr>\n",
       "      <th>xs2</th>\n",
       "      <td>235.0</td>\n",
       "      <td>61.577237</td>\n",
       "      <td>0.585159</td>\n",
       "      <td>60.582683</td>\n",
       "      <td>61.028447</td>\n",
       "      <td>61.526823</td>\n",
       "      <td>62.107132</td>\n",
       "      <td>62.542729</td>\n",
       "    </tr>\n",
       "    <tr>\n",
       "      <th>xs3</th>\n",
       "      <td>235.0</td>\n",
       "      <td>610.487905</td>\n",
       "      <td>6.221508</td>\n",
       "      <td>600.646461</td>\n",
       "      <td>605.065031</td>\n",
       "      <td>610.324552</td>\n",
       "      <td>615.838671</td>\n",
       "      <td>640.769065</td>\n",
       "    </tr>\n",
       "    <tr>\n",
       "      <th>xs4</th>\n",
       "      <td>235.0</td>\n",
       "      <td>92.084568</td>\n",
       "      <td>0.877038</td>\n",
       "      <td>90.559427</td>\n",
       "      <td>91.351051</td>\n",
       "      <td>92.043932</td>\n",
       "      <td>92.885817</td>\n",
       "      <td>93.534196</td>\n",
       "    </tr>\n",
       "    <tr>\n",
       "      <th>xs5</th>\n",
       "      <td>235.0</td>\n",
       "      <td>111.034620</td>\n",
       "      <td>0.289370</td>\n",
       "      <td>110.551314</td>\n",
       "      <td>110.772995</td>\n",
       "      <td>111.049469</td>\n",
       "      <td>111.290779</td>\n",
       "      <td>111.543442</td>\n",
       "    </tr>\n",
       "    <tr>\n",
       "      <th>xs6</th>\n",
       "      <td>235.0</td>\n",
       "      <td>340.663001</td>\n",
       "      <td>5.829233</td>\n",
       "      <td>330.570515</td>\n",
       "      <td>335.692032</td>\n",
       "      <td>340.431149</td>\n",
       "      <td>345.587054</td>\n",
       "      <td>350.540524</td>\n",
       "    </tr>\n",
       "    <tr>\n",
       "      <th>xs7</th>\n",
       "      <td>235.0</td>\n",
       "      <td>609.493586</td>\n",
       "      <td>5.968205</td>\n",
       "      <td>600.600622</td>\n",
       "      <td>604.287012</td>\n",
       "      <td>609.153894</td>\n",
       "      <td>614.635372</td>\n",
       "      <td>620.527113</td>\n",
       "    </tr>\n",
       "    <tr>\n",
       "      <th>xs8</th>\n",
       "      <td>235.0</td>\n",
       "      <td>91.964880</td>\n",
       "      <td>0.865867</td>\n",
       "      <td>90.550528</td>\n",
       "      <td>91.171760</td>\n",
       "      <td>91.979787</td>\n",
       "      <td>92.629775</td>\n",
       "      <td>93.541824</td>\n",
       "    </tr>\n",
       "    <tr>\n",
       "      <th>label</th>\n",
       "      <td>235.0</td>\n",
       "      <td>5.000000</td>\n",
       "      <td>0.000000</td>\n",
       "      <td>5.000000</td>\n",
       "      <td>5.000000</td>\n",
       "      <td>5.000000</td>\n",
       "      <td>5.000000</td>\n",
       "      <td>5.000000</td>\n",
       "    </tr>\n",
       "  </tbody>\n",
       "</table>\n",
       "</div>"
      ],
      "text/plain": [
       "       count        mean       std         min         25%         50%  \\\n",
       "xs1    235.0   21.557788  0.578779   20.559286   21.064315   21.532330   \n",
       "xs2    235.0   61.577237  0.585159   60.582683   61.028447   61.526823   \n",
       "xs3    235.0  610.487905  6.221508  600.646461  605.065031  610.324552   \n",
       "xs4    235.0   92.084568  0.877038   90.559427   91.351051   92.043932   \n",
       "xs5    235.0  111.034620  0.289370  110.551314  110.772995  111.049469   \n",
       "xs6    235.0  340.663001  5.829233  330.570515  335.692032  340.431149   \n",
       "xs7    235.0  609.493586  5.968205  600.600622  604.287012  609.153894   \n",
       "xs8    235.0   91.964880  0.865867   90.550528   91.171760   91.979787   \n",
       "label  235.0    5.000000  0.000000    5.000000    5.000000    5.000000   \n",
       "\n",
       "              75%         max  \n",
       "xs1     22.084086   22.547837  \n",
       "xs2     62.107132   62.542729  \n",
       "xs3    615.838671  640.769065  \n",
       "xs4     92.885817   93.534196  \n",
       "xs5    111.290779  111.543442  \n",
       "xs6    345.587054  350.540524  \n",
       "xs7    614.635372  620.527113  \n",
       "xs8     92.629775   93.541824  \n",
       "label    5.000000    5.000000  "
      ]
     },
     "execution_count": 15,
     "metadata": {},
     "output_type": "execute_result"
    }
   ],
   "source": [
    "aly_xs5.describe().T"
   ]
  },
  {
   "cell_type": "markdown",
   "id": "70fe047a",
   "metadata": {},
   "source": [
    "# Split data into Train & Test Data for Modelling"
   ]
  },
  {
   "cell_type": "code",
   "execution_count": 16,
   "id": "a39b5cd1",
   "metadata": {},
   "outputs": [],
   "source": [
    "X_data = df.iloc[:, :-1]"
   ]
  },
  {
   "cell_type": "code",
   "execution_count": 17,
   "id": "29d8e7fa",
   "metadata": {},
   "outputs": [],
   "source": [
    "y_data = df.iloc[:, -1]"
   ]
  },
  {
   "cell_type": "code",
   "execution_count": 18,
   "id": "e48312fa",
   "metadata": {},
   "outputs": [
    {
     "data": {
      "text/plain": [
       "((11148, 8), (11148,))"
      ]
     },
     "execution_count": 18,
     "metadata": {},
     "output_type": "execute_result"
    }
   ],
   "source": [
    "X_data.shape,y_data.shape"
   ]
  },
  {
   "cell_type": "code",
   "execution_count": 19,
   "id": "21e10898",
   "metadata": {},
   "outputs": [
    {
     "data": {
      "text/plain": [
       "0    85.010764\n",
       "5     2.108001\n",
       "1     1.991389\n",
       "2     1.982418\n",
       "4     1.937567\n",
       "8     1.803014\n",
       "6     1.749193\n",
       "3     1.722282\n",
       "7     1.695371\n",
       "Name: label, dtype: float64"
      ]
     },
     "execution_count": 19,
     "metadata": {},
     "output_type": "execute_result"
    }
   ],
   "source": [
    "y_data.value_counts()/y_data.shape[0]*100\n",
    "#Imbalanced Dataset"
   ]
  },
  {
   "cell_type": "code",
   "execution_count": 20,
   "id": "4e7c2ea3",
   "metadata": {},
   "outputs": [
    {
     "data": {
      "text/plain": [
       "0    9477\n",
       "5     235\n",
       "1     222\n",
       "2     221\n",
       "4     216\n",
       "8     201\n",
       "6     195\n",
       "3     192\n",
       "7     189\n",
       "Name: label, dtype: int64"
      ]
     },
     "execution_count": 20,
     "metadata": {},
     "output_type": "execute_result"
    }
   ],
   "source": [
    "y_data.value_counts()"
   ]
  },
  {
   "cell_type": "code",
   "execution_count": 21,
   "id": "dcb9481b",
   "metadata": {},
   "outputs": [],
   "source": [
    "X_train, X_test, y_train, y_test = train_test_split(X_data, y_data, test_size = 0.2, random_state = 7)"
   ]
  },
  {
   "cell_type": "code",
   "execution_count": 22,
   "id": "b94d2bcd",
   "metadata": {},
   "outputs": [],
   "source": [
    "X_train = preprocessing.normalize(X_train)\n",
    "X_test = preprocessing.normalize(X_test)"
   ]
  },
  {
   "cell_type": "code",
   "execution_count": 23,
   "id": "f2af58bd",
   "metadata": {},
   "outputs": [
    {
     "data": {
      "text/html": [
       "<div>\n",
       "<style scoped>\n",
       "    .dataframe tbody tr th:only-of-type {\n",
       "        vertical-align: middle;\n",
       "    }\n",
       "\n",
       "    .dataframe tbody tr th {\n",
       "        vertical-align: top;\n",
       "    }\n",
       "\n",
       "    .dataframe thead th {\n",
       "        text-align: right;\n",
       "    }\n",
       "</style>\n",
       "<table border=\"1\" class=\"dataframe\">\n",
       "  <thead>\n",
       "    <tr style=\"text-align: right;\">\n",
       "      <th></th>\n",
       "      <th>count</th>\n",
       "      <th>mean</th>\n",
       "      <th>std</th>\n",
       "      <th>min</th>\n",
       "      <th>25%</th>\n",
       "      <th>50%</th>\n",
       "      <th>75%</th>\n",
       "      <th>max</th>\n",
       "    </tr>\n",
       "  </thead>\n",
       "  <tbody>\n",
       "    <tr>\n",
       "      <th>0</th>\n",
       "      <td>8918.0</td>\n",
       "      <td>0.022773</td>\n",
       "      <td>0.000634</td>\n",
       "      <td>0.021212</td>\n",
       "      <td>0.022242</td>\n",
       "      <td>0.022767</td>\n",
       "      <td>0.023296</td>\n",
       "      <td>0.029365</td>\n",
       "    </tr>\n",
       "    <tr>\n",
       "      <th>1</th>\n",
       "      <td>8918.0</td>\n",
       "      <td>0.065059</td>\n",
       "      <td>0.000734</td>\n",
       "      <td>0.061919</td>\n",
       "      <td>0.064509</td>\n",
       "      <td>0.065063</td>\n",
       "      <td>0.065596</td>\n",
       "      <td>0.071195</td>\n",
       "    </tr>\n",
       "    <tr>\n",
       "      <th>2</th>\n",
       "      <td>8918.0</td>\n",
       "      <td>0.645289</td>\n",
       "      <td>0.004658</td>\n",
       "      <td>0.617871</td>\n",
       "      <td>0.641886</td>\n",
       "      <td>0.645241</td>\n",
       "      <td>0.648654</td>\n",
       "      <td>0.674428</td>\n",
       "    </tr>\n",
       "    <tr>\n",
       "      <th>3</th>\n",
       "      <td>8918.0</td>\n",
       "      <td>0.097312</td>\n",
       "      <td>0.001102</td>\n",
       "      <td>0.092715</td>\n",
       "      <td>0.096498</td>\n",
       "      <td>0.097322</td>\n",
       "      <td>0.098110</td>\n",
       "      <td>0.105367</td>\n",
       "    </tr>\n",
       "    <tr>\n",
       "      <th>4</th>\n",
       "      <td>8918.0</td>\n",
       "      <td>0.117375</td>\n",
       "      <td>0.000760</td>\n",
       "      <td>0.112484</td>\n",
       "      <td>0.116839</td>\n",
       "      <td>0.117371</td>\n",
       "      <td>0.117913</td>\n",
       "      <td>0.119755</td>\n",
       "    </tr>\n",
       "    <tr>\n",
       "      <th>5</th>\n",
       "      <td>8918.0</td>\n",
       "      <td>0.359972</td>\n",
       "      <td>0.005654</td>\n",
       "      <td>0.337346</td>\n",
       "      <td>0.355359</td>\n",
       "      <td>0.360014</td>\n",
       "      <td>0.364603</td>\n",
       "      <td>0.373827</td>\n",
       "    </tr>\n",
       "    <tr>\n",
       "      <th>6</th>\n",
       "      <td>8918.0</td>\n",
       "      <td>0.645352</td>\n",
       "      <td>0.004657</td>\n",
       "      <td>0.620630</td>\n",
       "      <td>0.641989</td>\n",
       "      <td>0.645379</td>\n",
       "      <td>0.648727</td>\n",
       "      <td>0.681357</td>\n",
       "    </tr>\n",
       "    <tr>\n",
       "      <th>7</th>\n",
       "      <td>8918.0</td>\n",
       "      <td>0.097292</td>\n",
       "      <td>0.001090</td>\n",
       "      <td>0.093427</td>\n",
       "      <td>0.096488</td>\n",
       "      <td>0.097290</td>\n",
       "      <td>0.098091</td>\n",
       "      <td>0.105653</td>\n",
       "    </tr>\n",
       "  </tbody>\n",
       "</table>\n",
       "</div>"
      ],
      "text/plain": [
       "    count      mean       std       min       25%       50%       75%  \\\n",
       "0  8918.0  0.022773  0.000634  0.021212  0.022242  0.022767  0.023296   \n",
       "1  8918.0  0.065059  0.000734  0.061919  0.064509  0.065063  0.065596   \n",
       "2  8918.0  0.645289  0.004658  0.617871  0.641886  0.645241  0.648654   \n",
       "3  8918.0  0.097312  0.001102  0.092715  0.096498  0.097322  0.098110   \n",
       "4  8918.0  0.117375  0.000760  0.112484  0.116839  0.117371  0.117913   \n",
       "5  8918.0  0.359972  0.005654  0.337346  0.355359  0.360014  0.364603   \n",
       "6  8918.0  0.645352  0.004657  0.620630  0.641989  0.645379  0.648727   \n",
       "7  8918.0  0.097292  0.001090  0.093427  0.096488  0.097290  0.098091   \n",
       "\n",
       "        max  \n",
       "0  0.029365  \n",
       "1  0.071195  \n",
       "2  0.674428  \n",
       "3  0.105367  \n",
       "4  0.119755  \n",
       "5  0.373827  \n",
       "6  0.681357  \n",
       "7  0.105653  "
      ]
     },
     "execution_count": 23,
     "metadata": {},
     "output_type": "execute_result"
    }
   ],
   "source": [
    "pd.DataFrame(X_train).describe().T"
   ]
  },
  {
   "cell_type": "code",
   "execution_count": 24,
   "id": "a9ee0d5a",
   "metadata": {},
   "outputs": [
    {
     "name": "stdout",
     "output_type": "stream",
     "text": [
      "(8918, 8)\n",
      "(8918,)\n",
      "(2230, 8)\n",
      "(2230,)\n"
     ]
    }
   ],
   "source": [
    "print(X_train.shape)\n",
    "print(y_train.shape)\n",
    "print(X_test.shape)\n",
    "print(y_test.shape)"
   ]
  },
  {
   "cell_type": "markdown",
   "id": "44cc083d",
   "metadata": {},
   "source": [
    "# Creating a model\n",
    "Keras model object can be created with Sequential class\n",
    "\n",
    "At the outset, the model is empty per se. It is completed by adding additional layers and compilation"
   ]
  },
  {
   "cell_type": "code",
   "execution_count": 25,
   "id": "55a45645",
   "metadata": {},
   "outputs": [],
   "source": [
    "tf.keras.backend.clear_session()"
   ]
  },
  {
   "cell_type": "code",
   "execution_count": 26,
   "id": "4004db66",
   "metadata": {},
   "outputs": [],
   "source": [
    "model = Sequential()"
   ]
  },
  {
   "cell_type": "markdown",
   "id": "29d0026f",
   "metadata": {},
   "source": [
    "# Adding layers [layers and activations]\n",
    "Keras layers can be added to the model\n",
    "\n",
    "Adding layers are like stacking lego blocks one by one\n",
    "\n",
    "It should be noted that as this is a classification problem, sigmoid layer (softmax for multi-class problems) should be added"
   ]
  },
  {
   "cell_type": "code",
   "execution_count": 27,
   "id": "c20f8b0c",
   "metadata": {},
   "outputs": [],
   "source": [
    "model.add(Dense(8, input_shape = (8,), activation = 'relu'))\n",
    "model.add(Dense(32, activation = 'relu'))\n",
    "model.add(Dense(1, activation = 'relu'))\n",
    "# method.add - add dense layer - fully connected, Play with ,kernel_initializer=,bias_initializer="
   ]
  },
  {
   "cell_type": "markdown",
   "id": "ddfac3b9",
   "metadata": {},
   "source": [
    "Model compile [optimizers and loss functions]\n",
    "\n",
    "Keras model should be \"compiled\" prior to training\n",
    "\n",
    "Types of loss (function) and optimizer should be designated"
   ]
  },
  {
   "cell_type": "code",
   "execution_count": 28,
   "id": "d82b5146",
   "metadata": {},
   "outputs": [],
   "source": [
    "sgd = optimizers.Adam(learning_rate = 0.001)\n",
    "#Optimization Function"
   ]
  },
  {
   "cell_type": "code",
   "execution_count": 29,
   "id": "ad327cae",
   "metadata": {},
   "outputs": [],
   "source": [
    "model.compile(optimizer = sgd, loss = 'CategoricalCrossentropy', metrics=['accuracy'])\n",
    "# Loss for compare and gives us the error,"
   ]
  },
  {
   "cell_type": "code",
   "execution_count": 30,
   "id": "d1bbb7e6",
   "metadata": {},
   "outputs": [
    {
     "name": "stdout",
     "output_type": "stream",
     "text": [
      "Model: \"sequential\"\n",
      "_________________________________________________________________\n",
      " Layer (type)                Output Shape              Param #   \n",
      "=================================================================\n",
      " dense (Dense)               (None, 8)                 72        \n",
      "                                                                 \n",
      " dense_1 (Dense)             (None, 32)                288       \n",
      "                                                                 \n",
      " dense_2 (Dense)             (None, 1)                 33        \n",
      "                                                                 \n",
      "=================================================================\n",
      "Total params: 393\n",
      "Trainable params: 393\n",
      "Non-trainable params: 0\n",
      "_________________________________________________________________\n"
     ]
    }
   ],
   "source": [
    "model.summary()"
   ]
  },
  {
   "cell_type": "markdown",
   "id": "6b89ecd3",
   "metadata": {},
   "source": [
    "## Training the model"
   ]
  },
  {
   "cell_type": "code",
   "execution_count": 31,
   "id": "7e072fe5",
   "metadata": {},
   "outputs": [
    {
     "name": "stdout",
     "output_type": "stream",
     "text": [
      "Epoch 1/50\n",
      "11/11 [==============================] - 1s 22ms/step - loss: 7.7150e-08 - accuracy: 0.8517 - val_loss: 8.9273e-08 - val_accuracy: 0.8352\n",
      "Epoch 2/50\n",
      "11/11 [==============================] - 0s 4ms/step - loss: 7.7150e-08 - accuracy: 0.8517 - val_loss: 8.9273e-08 - val_accuracy: 0.8352\n",
      "Epoch 3/50\n",
      "11/11 [==============================] - 0s 3ms/step - loss: 7.7150e-08 - accuracy: 0.8517 - val_loss: 8.9273e-08 - val_accuracy: 0.8352\n",
      "Epoch 4/50\n",
      "11/11 [==============================] - 0s 4ms/step - loss: 7.7150e-08 - accuracy: 0.8517 - val_loss: 8.9273e-08 - val_accuracy: 0.8352\n",
      "Epoch 5/50\n",
      "11/11 [==============================] - 0s 3ms/step - loss: 7.7150e-08 - accuracy: 0.8517 - val_loss: 8.9273e-08 - val_accuracy: 0.8352\n",
      "Epoch 6/50\n",
      "11/11 [==============================] - 0s 3ms/step - loss: 7.7150e-08 - accuracy: 0.8517 - val_loss: 8.9273e-08 - val_accuracy: 0.8352\n",
      "Epoch 7/50\n",
      "11/11 [==============================] - 0s 4ms/step - loss: 7.7150e-08 - accuracy: 0.8517 - val_loss: 8.9273e-08 - val_accuracy: 0.8352\n",
      "Epoch 8/50\n",
      "11/11 [==============================] - 0s 4ms/step - loss: 7.7150e-08 - accuracy: 0.8517 - val_loss: 8.9273e-08 - val_accuracy: 0.8352\n",
      "Epoch 9/50\n",
      "11/11 [==============================] - 0s 3ms/step - loss: 7.7150e-08 - accuracy: 0.8517 - val_loss: 8.9273e-08 - val_accuracy: 0.8352\n",
      "Epoch 10/50\n",
      "11/11 [==============================] - 0s 4ms/step - loss: 7.7150e-08 - accuracy: 0.8517 - val_loss: 8.9273e-08 - val_accuracy: 0.8352\n",
      "Epoch 11/50\n",
      "11/11 [==============================] - 0s 3ms/step - loss: 7.7150e-08 - accuracy: 0.8517 - val_loss: 8.9273e-08 - val_accuracy: 0.8352\n",
      "Epoch 12/50\n",
      "11/11 [==============================] - 0s 4ms/step - loss: 7.7150e-08 - accuracy: 0.8517 - val_loss: 8.9273e-08 - val_accuracy: 0.8352\n",
      "Epoch 13/50\n",
      "11/11 [==============================] - 0s 7ms/step - loss: 7.7150e-08 - accuracy: 0.8517 - val_loss: 8.9273e-08 - val_accuracy: 0.8352\n",
      "Epoch 14/50\n",
      "11/11 [==============================] - 0s 4ms/step - loss: 7.7150e-08 - accuracy: 0.8517 - val_loss: 8.9273e-08 - val_accuracy: 0.8352\n",
      "Epoch 15/50\n",
      "11/11 [==============================] - 0s 4ms/step - loss: 7.7150e-08 - accuracy: 0.8517 - val_loss: 8.9273e-08 - val_accuracy: 0.8352\n",
      "Epoch 16/50\n",
      "11/11 [==============================] - 0s 5ms/step - loss: 7.7150e-08 - accuracy: 0.8517 - val_loss: 8.9273e-08 - val_accuracy: 0.8352\n",
      "Epoch 17/50\n",
      "11/11 [==============================] - 0s 4ms/step - loss: 7.7150e-08 - accuracy: 0.8517 - val_loss: 8.9273e-08 - val_accuracy: 0.8352\n",
      "Epoch 18/50\n",
      "11/11 [==============================] - 0s 4ms/step - loss: 7.7150e-08 - accuracy: 0.8517 - val_loss: 8.9273e-08 - val_accuracy: 0.8352\n",
      "Epoch 19/50\n",
      "11/11 [==============================] - 0s 4ms/step - loss: 7.7150e-08 - accuracy: 0.8517 - val_loss: 8.9273e-08 - val_accuracy: 0.8352\n",
      "Epoch 20/50\n",
      "11/11 [==============================] - 0s 4ms/step - loss: 7.7150e-08 - accuracy: 0.8517 - val_loss: 8.9273e-08 - val_accuracy: 0.8352\n",
      "Epoch 21/50\n",
      "11/11 [==============================] - 0s 4ms/step - loss: 7.7150e-08 - accuracy: 0.8517 - val_loss: 8.9273e-08 - val_accuracy: 0.8352\n",
      "Epoch 22/50\n",
      "11/11 [==============================] - 0s 4ms/step - loss: 7.7150e-08 - accuracy: 0.8517 - val_loss: 8.9273e-08 - val_accuracy: 0.8352\n",
      "Epoch 23/50\n",
      "11/11 [==============================] - 0s 6ms/step - loss: 7.7150e-08 - accuracy: 0.8517 - val_loss: 8.9273e-08 - val_accuracy: 0.8352\n",
      "Epoch 24/50\n",
      "11/11 [==============================] - 0s 4ms/step - loss: 7.7150e-08 - accuracy: 0.8517 - val_loss: 8.9273e-08 - val_accuracy: 0.8352\n",
      "Epoch 25/50\n",
      "11/11 [==============================] - 0s 4ms/step - loss: 7.7150e-08 - accuracy: 0.8517 - val_loss: 8.9273e-08 - val_accuracy: 0.8352\n",
      "Epoch 26/50\n",
      "11/11 [==============================] - 0s 4ms/step - loss: 7.7150e-08 - accuracy: 0.8517 - val_loss: 8.9273e-08 - val_accuracy: 0.8352\n",
      "Epoch 27/50\n",
      "11/11 [==============================] - 0s 4ms/step - loss: 7.7150e-08 - accuracy: 0.8517 - val_loss: 8.9273e-08 - val_accuracy: 0.8352\n",
      "Epoch 28/50\n",
      "11/11 [==============================] - 0s 4ms/step - loss: 7.7150e-08 - accuracy: 0.8517 - val_loss: 8.9273e-08 - val_accuracy: 0.8352\n",
      "Epoch 29/50\n",
      "11/11 [==============================] - 0s 4ms/step - loss: 7.7150e-08 - accuracy: 0.8517 - val_loss: 8.9273e-08 - val_accuracy: 0.8352\n",
      "Epoch 30/50\n",
      "11/11 [==============================] - 0s 5ms/step - loss: 7.7150e-08 - accuracy: 0.8517 - val_loss: 8.9273e-08 - val_accuracy: 0.8352\n",
      "Epoch 31/50\n",
      "11/11 [==============================] - 0s 4ms/step - loss: 7.7150e-08 - accuracy: 0.8517 - val_loss: 8.9273e-08 - val_accuracy: 0.8352\n",
      "Epoch 32/50\n",
      "11/11 [==============================] - 0s 5ms/step - loss: 7.7150e-08 - accuracy: 0.8517 - val_loss: 8.9273e-08 - val_accuracy: 0.8352\n",
      "Epoch 33/50\n",
      "11/11 [==============================] - 0s 4ms/step - loss: 7.7150e-08 - accuracy: 0.8517 - val_loss: 8.9273e-08 - val_accuracy: 0.8352\n",
      "Epoch 34/50\n",
      "11/11 [==============================] - 0s 4ms/step - loss: 7.7150e-08 - accuracy: 0.8517 - val_loss: 8.9273e-08 - val_accuracy: 0.8352\n",
      "Epoch 35/50\n",
      "11/11 [==============================] - 0s 4ms/step - loss: 7.7150e-08 - accuracy: 0.8517 - val_loss: 8.9273e-08 - val_accuracy: 0.8352\n",
      "Epoch 36/50\n",
      "11/11 [==============================] - 0s 4ms/step - loss: 7.7150e-08 - accuracy: 0.8517 - val_loss: 8.9273e-08 - val_accuracy: 0.8352\n",
      "Epoch 37/50\n",
      "11/11 [==============================] - 0s 4ms/step - loss: 7.7150e-08 - accuracy: 0.8517 - val_loss: 8.9273e-08 - val_accuracy: 0.8352\n",
      "Epoch 38/50\n",
      "11/11 [==============================] - 0s 4ms/step - loss: 7.7150e-08 - accuracy: 0.8517 - val_loss: 8.9273e-08 - val_accuracy: 0.8352\n",
      "Epoch 39/50\n",
      "11/11 [==============================] - 0s 4ms/step - loss: 7.7150e-08 - accuracy: 0.8517 - val_loss: 8.9273e-08 - val_accuracy: 0.8352\n",
      "Epoch 40/50\n",
      "11/11 [==============================] - 0s 5ms/step - loss: 7.7150e-08 - accuracy: 0.8517 - val_loss: 8.9273e-08 - val_accuracy: 0.8352\n",
      "Epoch 41/50\n",
      "11/11 [==============================] - 0s 4ms/step - loss: 7.7150e-08 - accuracy: 0.8517 - val_loss: 8.9273e-08 - val_accuracy: 0.8352\n",
      "Epoch 42/50\n",
      "11/11 [==============================] - 0s 4ms/step - loss: 7.7150e-08 - accuracy: 0.8517 - val_loss: 8.9273e-08 - val_accuracy: 0.8352\n",
      "Epoch 43/50\n",
      "11/11 [==============================] - 0s 4ms/step - loss: 7.7150e-08 - accuracy: 0.8517 - val_loss: 8.9273e-08 - val_accuracy: 0.8352\n",
      "Epoch 44/50\n",
      "11/11 [==============================] - 0s 5ms/step - loss: 7.7150e-08 - accuracy: 0.8517 - val_loss: 8.9273e-08 - val_accuracy: 0.8352\n",
      "Epoch 45/50\n",
      "11/11 [==============================] - 0s 4ms/step - loss: 7.7150e-08 - accuracy: 0.8517 - val_loss: 8.9273e-08 - val_accuracy: 0.8352\n",
      "Epoch 46/50\n",
      "11/11 [==============================] - 0s 5ms/step - loss: 7.7150e-08 - accuracy: 0.8517 - val_loss: 8.9273e-08 - val_accuracy: 0.8352\n",
      "Epoch 47/50\n",
      "11/11 [==============================] - 0s 4ms/step - loss: 7.7150e-08 - accuracy: 0.8517 - val_loss: 8.9273e-08 - val_accuracy: 0.8352\n",
      "Epoch 48/50\n",
      "11/11 [==============================] - 0s 4ms/step - loss: 7.7150e-08 - accuracy: 0.8517 - val_loss: 8.9273e-08 - val_accuracy: 0.8352\n",
      "Epoch 49/50\n",
      "11/11 [==============================] - 0s 4ms/step - loss: 7.7150e-08 - accuracy: 0.8517 - val_loss: 8.9273e-08 - val_accuracy: 0.8352\n",
      "Epoch 50/50\n",
      "11/11 [==============================] - 0s 4ms/step - loss: 7.7150e-08 - accuracy: 0.8517 - val_loss: 8.9273e-08 - val_accuracy: 0.8352\n"
     ]
    }
   ],
   "source": [
    "history = model.fit(X_train, y_train.values, batch_size = 700, epochs = 50, verbose = 1,validation_split=0.2)\n",
    "# Training the model, You can use class_weight as a paramter for imbalanced here if no Over/Under Sampling performed"
   ]
  },
  {
   "cell_type": "code",
   "execution_count": 32,
   "id": "fc353861",
   "metadata": {},
   "outputs": [],
   "source": [
    "hist  = pd.DataFrame(history.history)\n",
    "hist['epoch'] = history.epoch"
   ]
  },
  {
   "cell_type": "code",
   "execution_count": 33,
   "id": "22c06fe1",
   "metadata": {},
   "outputs": [
    {
     "data": {
      "text/plain": [
       "<matplotlib.legend.Legend at 0x21246c91760>"
      ]
     },
     "execution_count": 33,
     "metadata": {},
     "output_type": "execute_result"
    },
    {
     "data": {
      "image/png": "[encoded data removed]",
      "text/plain": [
       "<Figure size 432x288 with 1 Axes>"
      ]
     },
     "metadata": {},
     "output_type": "display_data"
    }
   ],
   "source": [
    "plt.plot(hist['loss'])\n",
    "plt.plot(hist['val_loss'])\n",
    "plt.legend((\"train\" , \"valid\") , loc =0)"
   ]
  },
  {
   "cell_type": "code",
   "execution_count": 34,
   "id": "d890faf4",
   "metadata": {},
   "outputs": [
    {
     "data": {
      "text/plain": [
       "<matplotlib.legend.Legend at 0x21246d123a0>"
      ]
     },
     "execution_count": 34,
     "metadata": {},
     "output_type": "execute_result"
    },
    {
     "data": {
      "image/png": "[encoded data removed]",
      "text/plain": [
       "<Figure size 432x288 with 1 Axes>"
      ]
     },
     "metadata": {},
     "output_type": "display_data"
    }
   ],
   "source": [
    "plt.plot(hist['accuracy'])\n",
    "plt.plot(hist['val_accuracy'])\n",
    "plt.legend((\"train\" , \"valid\") , loc =0)"
   ]
  },
  {
   "cell_type": "code",
   "execution_count": 35,
   "id": "fc9f87e5",
   "metadata": {},
   "outputs": [
    {
     "data": {
      "image/png": "[encoded data removed]",
      "text/plain": [
       "<IPython.core.display.Image object>"
      ]
     },
     "execution_count": 35,
     "metadata": {},
     "output_type": "execute_result"
    }
   ],
   "source": [
    "# Show the Model created\n",
    "plot_model(model, to_file='model_plot.png', show_shapes=True, show_layer_names=True)"
   ]
  },
  {
   "cell_type": "markdown",
   "id": "7d37ca1c",
   "metadata": {},
   "source": [
    "# How loss moves around with each epoch\n",
    "data_vis = [{'epoch': idx, \n",
    "         'loss': history.history['loss'][idx],  \n",
    "         'val_loss': history.history['val_loss'][idx], \n",
    "         'accuracy': history.history['accuracy'][idx], \n",
    "         'val_accuracy': history.history['val_accuracy'][idx]\n",
    "         } for idx in range(20)]\n",
    "hip.Experiment.from_iterable(data_vis).display()"
   ]
  },
  {
   "cell_type": "markdown",
   "id": "c0042f24",
   "metadata": {},
   "source": [
    "## Evaluation\n",
    "Keras model can be evaluated with evaluate() function\n",
    "\n",
    "Evaluation results are contained in a list"
   ]
  },
  {
   "cell_type": "code",
   "execution_count": 36,
   "id": "130dece5",
   "metadata": {},
   "outputs": [
    {
     "name": "stdout",
     "output_type": "stream",
     "text": [
      "70/70 [==============================] - 0s 869us/step - loss: 7.6283e-08 - accuracy: 0.8570\n"
     ]
    }
   ],
   "source": [
    "results = model.evaluate(X_test, y_test.values)"
   ]
  },
  {
   "cell_type": "code",
   "execution_count": 37,
   "id": "d51f6bc4",
   "metadata": {},
   "outputs": [
    {
     "name": "stdout",
     "output_type": "stream",
     "text": [
      "['loss', 'accuracy']\n",
      "[7.62832570444516e-08, 0.8569507002830505]\n"
     ]
    }
   ],
   "source": [
    "print(model.metrics_names)\n",
    "print(results) "
   ]
  },
  {
   "cell_type": "code",
   "execution_count": 41,
   "id": "ffb9c419",
   "metadata": {},
   "outputs": [],
   "source": [
    "from sklearn.metrics import confusion_matrix"
   ]
  },
  {
   "cell_type": "markdown",
   "id": "8366f6a5",
   "metadata": {},
   "source": [
    "## Confusion Matrix"
   ]
  },
  {
   "cell_type": "code",
   "execution_count": 50,
   "id": "f808d2b6",
   "metadata": {},
   "outputs": [
    {
     "name": "stdout",
     "output_type": "stream",
     "text": [
      "70/70 [==============================] - 0s 884us/step - loss: 7.6283e-08 - accuracy: 0.8570\n",
      "Accuracy Model1 (Dropout): [7.62832570444516e-08, 0.8569507002830505]\n"
     ]
    }
   ],
   "source": [
    "Y_pred_cls = model.predict(X_test)\n",
    "print('Accuracy Model1 (Dropout): '+ str(model.evaluate(X_test,y_test.values)))"
   ]
  },
  {
   "cell_type": "markdown",
   "id": "ce177b2d",
   "metadata": {},
   "source": [
    "'''\n",
    "print('Recall_score: ' + str(recall_score(y_test.values,Y_pred_cls)))\n",
    "print('Precision_score: ' + str(precision_score(y_test.values, Y_pred_cls,average='weighted')))\n",
    "print('F-score: ' + str(f1_score(y_test.values,Y_pred_cls,average='weighted')))\n",
    "#confusion_matrix(y_test.values, Y_pred_cls)\n",
    "#recall and precision high, Our model doing well\n",
    "'''"
   ]
  },
  {
   "cell_type": "code",
   "execution_count": 51,
   "id": "70520588",
   "metadata": {
    "scrolled": false
   },
   "outputs": [
    {
     "name": "stdout",
     "output_type": "stream",
     "text": [
      "Accuracy Model1 (Dropout): 0.8569506726457399\n"
     ]
    }
   ],
   "source": [
    "# Predict using Threshold - Increase Probability increase threshold\n",
    "pred_y = model.predict(X_test)\n",
    "y_pred = (pred_y > 0.8)\n",
    "print('Accuracy Model1 (Dropout): '+ str(accuracy_score(y_test.values,y_pred)))"
   ]
  },
  {
   "cell_type": "markdown",
   "id": "4c0270a3",
   "metadata": {},
   "source": [
    "#str(model.evaluate(X_test,y_test.values)[1]))\n",
    "print('Recall_score: ' + str(recall_score(y_test.values,y_pred)))\n",
    "print('Precision_score: ' + str(precision_score(y_test.values, y_pred)))\n",
    "print('F-score: ' + str(f1_score(y_test.values,y_pred)))\n",
    "confusion_matrix(y_test.values, y_pred)"
   ]
  },
  {
   "cell_type": "code",
   "execution_count": 53,
   "id": "717a75bf",
   "metadata": {},
   "outputs": [],
   "source": [
    "#confusion_matrix(y_test.values, Y_pred_cls)"
   ]
  },
  {
   "cell_type": "code",
   "execution_count": 47,
   "id": "f9ee23a2",
   "metadata": {},
   "outputs": [
    {
     "data": {
      "text/plain": [
       "array([[1911,    0,    0,    0,    0,    0,    0,    0,    0],\n",
       "       [  42,    0,    0,    0,    0,    0,    0,    0,    0],\n",
       "       [  40,    0,    0,    0,    0,    0,    0,    0,    0],\n",
       "       [  37,    0,    0,    0,    0,    0,    0,    0,    0],\n",
       "       [  46,    0,    0,    0,    0,    0,    0,    0,    0],\n",
       "       [  40,    0,    0,    0,    0,    0,    0,    0,    0],\n",
       "       [  34,    0,    0,    0,    0,    0,    0,    0,    0],\n",
       "       [  34,    0,    0,    0,    0,    0,    0,    0,    0],\n",
       "       [  46,    0,    0,    0,    0,    0,    0,    0,    0]],\n",
       "      dtype=int64)"
      ]
     },
     "execution_count": 47,
     "metadata": {},
     "output_type": "execute_result"
    }
   ],
   "source": [
    "confusion_matrix(y_test.values, y_pred)"
   ]
  },
  {
   "cell_type": "code",
   "execution_count": null,
   "id": "f462e302",
   "metadata": {},
   "outputs": [],
   "source": [
    "cm"
   ]
  },
  {
   "cell_type": "markdown",
   "id": "d069db3f",
   "metadata": {},
   "source": [
    "ValueError: Target is multiclass but average='binary'. Please choose another average setting, one of [None, 'micro', 'macro', 'weighted'].\n"
   ]
  },
  {
   "cell_type": "markdown",
   "id": "feac2203",
   "metadata": {},
   "source": [
    "## Keras Functional API"
   ]
  },
  {
   "cell_type": "code",
   "execution_count": 54,
   "id": "396f030f",
   "metadata": {},
   "outputs": [],
   "source": [
    "# Keras Functional API - better use cases when we work on Computer Vision / Embedding problems.\n",
    "from keras.layers import Input\n",
    "from keras.layers import concatenate\n",
    "from keras import Model\n",
    "inputs = Input(shape=(8,)) \n",
    "dense_relu_1 = Dense(32, activation='relu')(inputs) \n",
    "dense_sigmoid_1 = Dense(32, activation='relu')(inputs) \n",
    "dense_relu_2 = Dense(32, activation='relu')(dense_relu_1)\n",
    "dense_tanh_2 = Dense(32, activation='relu')(dense_sigmoid_1)\n",
    "concat = concatenate([dense_relu_2, dense_tanh_2]) #concatenate these two nodes into one large vector\n",
    "outputs = Dense(1)(concat) #pass concat into an outputs layer\n",
    "model_func = Model(inputs=inputs, outputs=outputs, name='nonlinear_model') #compile inputs and outputs into one Model"
   ]
  },
  {
   "cell_type": "code",
   "execution_count": 55,
   "id": "6af91f6b",
   "metadata": {},
   "outputs": [
    {
     "name": "stdout",
     "output_type": "stream",
     "text": [
      "Model: \"nonlinear_model\"\n",
      "__________________________________________________________________________________________________\n",
      " Layer (type)                   Output Shape         Param #     Connected to                     \n",
      "==================================================================================================\n",
      " input_1 (InputLayer)           [(None, 8)]          0           []                               \n",
      "                                                                                                  \n",
      " dense_3 (Dense)                (None, 32)           288         ['input_1[0][0]']                \n",
      "                                                                                                  \n",
      " dense_4 (Dense)                (None, 32)           288         ['input_1[0][0]']                \n",
      "                                                                                                  \n",
      " dense_5 (Dense)                (None, 32)           1056        ['dense_3[0][0]']                \n",
      "                                                                                                  \n",
      " dense_6 (Dense)                (None, 32)           1056        ['dense_4[0][0]']                \n",
      "                                                                                                  \n",
      " concatenate (Concatenate)      (None, 64)           0           ['dense_5[0][0]',                \n",
      "                                                                  'dense_6[0][0]']                \n",
      "                                                                                                  \n",
      " dense_7 (Dense)                (None, 1)            65          ['concatenate[0][0]']            \n",
      "                                                                                                  \n",
      "==================================================================================================\n",
      "Total params: 2,753\n",
      "Trainable params: 2,753\n",
      "Non-trainable params: 0\n",
      "__________________________________________________________________________________________________\n",
      "None\n"
     ]
    }
   ],
   "source": [
    "# summarize layers\n",
    "print(model_func.summary())"
   ]
  },
  {
   "cell_type": "code",
   "execution_count": 56,
   "id": "8fb8d6d4",
   "metadata": {},
   "outputs": [
    {
     "data": {
      "image/png": "[encoded data removed]",
      "text/plain": [
       "<IPython.core.display.Image object>"
      ]
     },
     "execution_count": 56,
     "metadata": {},
     "output_type": "execute_result"
    }
   ],
   "source": [
    "# plot graph - using same input layer across multiple hidden layers\n",
    "plot_model(model_func, to_file='Model_Functional_API.png')"
   ]
  },
  {
   "cell_type": "code",
   "execution_count": 60,
   "id": "1714615e",
   "metadata": {},
   "outputs": [],
   "source": [
    "sgd = optimizers.Adam(learning_rate = 0.001)\n",
    "model_func.compile(optimizer = sgd, loss = 'categorical_crossentropy', metrics=['accuracy'])\n",
    "history = model_func.fit(X_train, y_train.values, batch_size = 700, epochs = 50, validation_split=0.2,verbose=0)"
   ]
  },
  {
   "cell_type": "code",
   "execution_count": 61,
   "id": "62c1dcea",
   "metadata": {},
   "outputs": [],
   "source": [
    "hist  = pd.DataFrame(history.history)\n",
    "hist['epoch'] = history.epoch"
   ]
  },
  {
   "cell_type": "code",
   "execution_count": 62,
   "id": "2e2cac28",
   "metadata": {},
   "outputs": [
    {
     "data": {
      "text/plain": [
       "<matplotlib.legend.Legend at 0x2124b8fef40>"
      ]
     },
     "execution_count": 62,
     "metadata": {},
     "output_type": "execute_result"
    },
    {
     "data": {
      "image/png": "[encoded data removed]",
      "text/plain": [
       "<Figure size 432x288 with 1 Axes>"
      ]
     },
     "metadata": {},
     "output_type": "display_data"
    }
   ],
   "source": [
    "# Functional API Network doesnt reduce error\n",
    "plt.plot(hist['loss'])\n",
    "plt.plot(hist['val_loss'])\n",
    "plt.legend((\"train\" , \"valid\") , loc =0)"
   ]
  },
  {
   "cell_type": "code",
   "execution_count": 63,
   "id": "1ba5c505",
   "metadata": {},
   "outputs": [
    {
     "data": {
      "text/plain": [
       "<matplotlib.legend.Legend at 0x2124b979220>"
      ]
     },
     "execution_count": 63,
     "metadata": {},
     "output_type": "execute_result"
    },
    {
     "data": {
      "image/png": "[encoded data removed]",
      "text/plain": [
       "<Figure size 432x288 with 1 Axes>"
      ]
     },
     "metadata": {},
     "output_type": "display_data"
    }
   ],
   "source": [
    "plt.plot(hist['accuracy'])\n",
    "plt.plot(hist['val_accuracy'])\n",
    "plt.legend((\"train\" , \"valid\") , loc =0)"
   ]
  },
  {
   "cell_type": "code",
   "execution_count": 64,
   "id": "92d38ee4",
   "metadata": {},
   "outputs": [
    {
     "name": "stdout",
     "output_type": "stream",
     "text": [
      "70/70 [==============================] - 0s 1ms/step - loss: 7.6283e-08 - accuracy: 0.8570\n",
      "['loss', 'accuracy']\n",
      "[7.62832570444516e-08, 0.8569507002830505]\n"
     ]
    }
   ],
   "source": [
    "results = model_func.evaluate(X_test, y_test.values)\n",
    "print(model_func.metrics_names)\n",
    "print(results)"
   ]
  }
 ],
 "metadata": {
  "kernelspec": {
   "display_name": "Python 3 (ipykernel)",
   "language": "python",
   "name": "python3"
  },
  "language_info": {
   "codemirror_mode": {
    "name": "ipython",
    "version": 3
   },
   "file_extension": ".py",
   "mimetype": "text/x-python",
   "name": "python",
   "nbconvert_exporter": "python",
   "pygments_lexer": "ipython3",
   "version": "3.9.7"
  }
 },
 "nbformat": 4,
 "nbformat_minor": 5
}
