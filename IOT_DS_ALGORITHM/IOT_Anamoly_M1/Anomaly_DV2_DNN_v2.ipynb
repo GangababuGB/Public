{
  "cells": [
    {
      "cell_type": "code",
      "execution_count": 1,
      "id": "d80315ff",
      "metadata": {
        "id": "d80315ff"
      },
      "outputs": [],
      "source": [
        "import pandas as pd\n",
        "import numpy as np\n",
        "from sklearn.model_selection import train_test_split\n",
        "import tensorflow as tf\n",
        "from sklearn import preprocessing\n",
        "from tensorflow.keras.models import Sequential\n",
        "from tensorflow.keras.layers import Dense, Dropout, BatchNormalization\n",
        "from sklearn.metrics import accuracy_score, confusion_matrix, precision_score, recall_score, f1_score, precision_recall_curve, auc\n",
        "import matplotlib.pyplot as plt\n",
        "from tensorflow.keras import optimizers\n",
        "import seaborn as sns\n",
        "import matplotlib.pyplot as plt \n",
        "from keras_tuner.tuners import RandomSearch\n",
        "#import hiplot as hip\n",
        "#conda install -c conda-forge hiplot\n",
        "from keras.utils.vis_utils import plot_model"
      ]
    },
    {
      "cell_type": "code",
      "source": [
        "# pip install keras_tuner"
      ],
      "metadata": {
        "id": "klsqIwWwuYzp"
      },
      "id": "klsqIwWwuYzp",
      "execution_count": 2,
      "outputs": []
    },
    {
      "cell_type": "code",
      "execution_count": 3,
      "id": "87bdb7ba",
      "metadata": {
        "colab": {
          "base_uri": "https://localhost:8080/"
        },
        "id": "87bdb7ba",
        "outputId": "bb3cf017-dc40-41c3-84e0-ef616d608764"
      },
      "outputs": [
        {
          "output_type": "stream",
          "name": "stdout",
          "text": [
            "2.8.0\n"
          ]
        }
      ],
      "source": [
        "print(tf.__version__)"
      ]
    },
    {
      "cell_type": "code",
      "execution_count": 4,
      "id": "9e4df795",
      "metadata": {
        "colab": {
          "base_uri": "https://localhost:8080/",
          "height": 444
        },
        "id": "9e4df795",
        "outputId": "60bb5c5f-34a1-4b22-d4f1-75dbfec6b86a"
      },
      "outputs": [
        {
          "output_type": "execute_result",
          "data": {
            "text/html": [
              "\n",
              "  <div id=\"df-8c81a77c-5f62-4481-bb43-be7a949a57d9\">\n",
              "    <div class=\"colab-df-container\">\n",
              "      <div>\n",
              "<style scoped>\n",
              "    .dataframe tbody tr th:only-of-type {\n",
              "        vertical-align: middle;\n",
              "    }\n",
              "\n",
              "    .dataframe tbody tr th {\n",
              "        vertical-align: top;\n",
              "    }\n",
              "\n",
              "    .dataframe thead th {\n",
              "        text-align: right;\n",
              "    }\n",
              "</style>\n",
              "<table border=\"1\" class=\"dataframe\">\n",
              "  <thead>\n",
              "    <tr style=\"text-align: right;\">\n",
              "      <th></th>\n",
              "      <th>TS</th>\n",
              "      <th>xs1</th>\n",
              "      <th>xs2</th>\n",
              "      <th>xs3</th>\n",
              "      <th>xs4</th>\n",
              "      <th>xs5</th>\n",
              "      <th>xs6</th>\n",
              "      <th>xs7</th>\n",
              "      <th>xs8</th>\n",
              "      <th>label</th>\n",
              "    </tr>\n",
              "  </thead>\n",
              "  <tbody>\n",
              "    <tr>\n",
              "      <th>11143</th>\n",
              "      <td>03/09/2022 05:30:38 PM</td>\n",
              "      <td>22.360545</td>\n",
              "      <td>62.441708</td>\n",
              "      <td>614.275778</td>\n",
              "      <td>91.316984</td>\n",
              "      <td>111.261258</td>\n",
              "      <td>337.652206</td>\n",
              "      <td>608.626105</td>\n",
              "      <td>93.236732</td>\n",
              "      <td>0</td>\n",
              "    </tr>\n",
              "    <tr>\n",
              "      <th>11144</th>\n",
              "      <td>03/09/2022 05:30:39 PM</td>\n",
              "      <td>22.378963</td>\n",
              "      <td>60.832924</td>\n",
              "      <td>615.603485</td>\n",
              "      <td>90.670284</td>\n",
              "      <td>111.390261</td>\n",
              "      <td>338.368133</td>\n",
              "      <td>614.853440</td>\n",
              "      <td>92.449471</td>\n",
              "      <td>3</td>\n",
              "    </tr>\n",
              "    <tr>\n",
              "      <th>11145</th>\n",
              "      <td>03/09/2022 05:30:40 PM</td>\n",
              "      <td>22.115642</td>\n",
              "      <td>61.879360</td>\n",
              "      <td>603.981455</td>\n",
              "      <td>92.154777</td>\n",
              "      <td>111.429463</td>\n",
              "      <td>335.943793</td>\n",
              "      <td>619.911271</td>\n",
              "      <td>93.524759</td>\n",
              "      <td>0</td>\n",
              "    </tr>\n",
              "    <tr>\n",
              "      <th>11146</th>\n",
              "      <td>03/09/2022 05:30:41 PM</td>\n",
              "      <td>21.294801</td>\n",
              "      <td>60.977528</td>\n",
              "      <td>606.264567</td>\n",
              "      <td>92.715570</td>\n",
              "      <td>111.441063</td>\n",
              "      <td>339.222134</td>\n",
              "      <td>601.457418</td>\n",
              "      <td>92.225605</td>\n",
              "      <td>0</td>\n",
              "    </tr>\n",
              "    <tr>\n",
              "      <th>11147</th>\n",
              "      <td>03/09/2022 05:30:42 PM</td>\n",
              "      <td>21.655784</td>\n",
              "      <td>60.989786</td>\n",
              "      <td>602.392391</td>\n",
              "      <td>92.910869</td>\n",
              "      <td>111.520200</td>\n",
              "      <td>333.786280</td>\n",
              "      <td>601.532498</td>\n",
              "      <td>91.121459</td>\n",
              "      <td>0</td>\n",
              "    </tr>\n",
              "  </tbody>\n",
              "</table>\n",
              "</div>\n",
              "      <button class=\"colab-df-convert\" onclick=\"convertToInteractive('df-8c81a77c-5f62-4481-bb43-be7a949a57d9')\"\n",
              "              title=\"Convert this dataframe to an interactive table.\"\n",
              "              style=\"display:none;\">\n",
              "        \n",
              "  <svg xmlns=\"http://www.w3.org/2000/svg\" height=\"24px\"viewBox=\"0 0 24 24\"\n",
              "       width=\"24px\">\n",
              "    <path d=\"M0 0h24v24H0V0z\" fill=\"none\"/>\n",
              "    <path d=\"M18.56 5.44l.94 2.06.94-2.06 2.06-.94-2.06-.94-.94-2.06-.94 2.06-2.06.94zm-11 1L8.5 8.5l.94-2.06 2.06-.94-2.06-.94L8.5 2.5l-.94 2.06-2.06.94zm10 10l.94 2.06.94-2.06 2.06-.94-2.06-.94-.94-2.06-.94 2.06-2.06.94z\"/><path d=\"M17.41 7.96l-1.37-1.37c-.4-.4-.92-.59-1.43-.59-.52 0-1.04.2-1.43.59L10.3 9.45l-7.72 7.72c-.78.78-.78 2.05 0 2.83L4 21.41c.39.39.9.59 1.41.59.51 0 1.02-.2 1.41-.59l7.78-7.78 2.81-2.81c.8-.78.8-2.07 0-2.86zM5.41 20L4 18.59l7.72-7.72 1.47 1.35L5.41 20z\"/>\n",
              "  </svg>\n",
              "      </button>\n",
              "      \n",
              "  <style>\n",
              "    .colab-df-container {\n",
              "      display:flex;\n",
              "      flex-wrap:wrap;\n",
              "      gap: 12px;\n",
              "    }\n",
              "\n",
              "    .colab-df-convert {\n",
              "      background-color: #E8F0FE;\n",
              "      border: none;\n",
              "      border-radius: 50%;\n",
              "      cursor: pointer;\n",
              "      display: none;\n",
              "      fill: #1967D2;\n",
              "      height: 32px;\n",
              "      padding: 0 0 0 0;\n",
              "      width: 32px;\n",
              "    }\n",
              "\n",
              "    .colab-df-convert:hover {\n",
              "      background-color: #E2EBFA;\n",
              "      box-shadow: 0px 1px 2px rgba(60, 64, 67, 0.3), 0px 1px 3px 1px rgba(60, 64, 67, 0.15);\n",
              "      fill: #174EA6;\n",
              "    }\n",
              "\n",
              "    [theme=dark] .colab-df-convert {\n",
              "      background-color: #3B4455;\n",
              "      fill: #D2E3FC;\n",
              "    }\n",
              "\n",
              "    [theme=dark] .colab-df-convert:hover {\n",
              "      background-color: #434B5C;\n",
              "      box-shadow: 0px 1px 3px 1px rgba(0, 0, 0, 0.15);\n",
              "      filter: drop-shadow(0px 1px 2px rgba(0, 0, 0, 0.3));\n",
              "      fill: #FFFFFF;\n",
              "    }\n",
              "  </style>\n",
              "\n",
              "      <script>\n",
              "        const buttonEl =\n",
              "          document.querySelector('#df-8c81a77c-5f62-4481-bb43-be7a949a57d9 button.colab-df-convert');\n",
              "        buttonEl.style.display =\n",
              "          google.colab.kernel.accessAllowed ? 'block' : 'none';\n",
              "\n",
              "        async function convertToInteractive(key) {\n",
              "          const element = document.querySelector('#df-8c81a77c-5f62-4481-bb43-be7a949a57d9');\n",
              "          const dataTable =\n",
              "            await google.colab.kernel.invokeFunction('convertToInteractive',\n",
              "                                                     [key], {});\n",
              "          if (!dataTable) return;\n",
              "\n",
              "          const docLinkHtml = 'Like what you see? Visit the ' +\n",
              "            '<a target=\"_blank\" href=https://colab.research.google.com/notebooks/data_table.ipynb>data table notebook</a>'\n",
              "            + ' to learn more about interactive tables.';\n",
              "          element.innerHTML = '';\n",
              "          dataTable['output_type'] = 'display_data';\n",
              "          await google.colab.output.renderOutput(dataTable, element);\n",
              "          const docLink = document.createElement('div');\n",
              "          docLink.innerHTML = docLinkHtml;\n",
              "          element.appendChild(docLink);\n",
              "        }\n",
              "      </script>\n",
              "    </div>\n",
              "  </div>\n",
              "  "
            ],
            "text/plain": [
              "                           TS        xs1        xs2         xs3        xs4  \\\n",
              "11143  03/09/2022 05:30:38 PM  22.360545  62.441708  614.275778  91.316984   \n",
              "11144  03/09/2022 05:30:39 PM  22.378963  60.832924  615.603485  90.670284   \n",
              "11145  03/09/2022 05:30:40 PM  22.115642  61.879360  603.981455  92.154777   \n",
              "11146  03/09/2022 05:30:41 PM  21.294801  60.977528  606.264567  92.715570   \n",
              "11147  03/09/2022 05:30:42 PM  21.655784  60.989786  602.392391  92.910869   \n",
              "\n",
              "              xs5         xs6         xs7        xs8  label  \n",
              "11143  111.261258  337.652206  608.626105  93.236732      0  \n",
              "11144  111.390261  338.368133  614.853440  92.449471      3  \n",
              "11145  111.429463  335.943793  619.911271  93.524759      0  \n",
              "11146  111.441063  339.222134  601.457418  92.225605      0  \n",
              "11147  111.520200  333.786280  601.532498  91.121459      0  "
            ]
          },
          "metadata": {},
          "execution_count": 4
        }
      ],
      "source": [
        "url = 'https://raw.githubusercontent.com/GangababuGB/Public/master/IOT_DS_ALGORITHM/IOT_Anamoly_M1/sensor_IOT_ok.csv'\n",
        "df = pd.read_csv(url)\n",
        "df.tail(5)"
      ]
    },
    {
      "cell_type": "code",
      "execution_count": 5,
      "id": "9ca7514c",
      "metadata": {
        "colab": {
          "base_uri": "https://localhost:8080/",
          "height": 462
        },
        "id": "9ca7514c",
        "outputId": "e730e79c-aabf-4911-9ab8-f13428b20f5a"
      },
      "outputs": [
        {
          "output_type": "execute_result",
          "data": {
            "text/html": [
              "\n",
              "  <div id=\"df-a255d018-28ec-4ef2-a374-f3893c27ce77\">\n",
              "    <div class=\"colab-df-container\">\n",
              "      <div>\n",
              "<style scoped>\n",
              "    .dataframe tbody tr th:only-of-type {\n",
              "        vertical-align: middle;\n",
              "    }\n",
              "\n",
              "    .dataframe tbody tr th {\n",
              "        vertical-align: top;\n",
              "    }\n",
              "\n",
              "    .dataframe thead th {\n",
              "        text-align: right;\n",
              "    }\n",
              "</style>\n",
              "<table border=\"1\" class=\"dataframe\">\n",
              "  <thead>\n",
              "    <tr style=\"text-align: right;\">\n",
              "      <th></th>\n",
              "      <th>count</th>\n",
              "      <th>unique</th>\n",
              "      <th>top</th>\n",
              "      <th>freq</th>\n",
              "      <th>mean</th>\n",
              "      <th>std</th>\n",
              "      <th>min</th>\n",
              "      <th>25%</th>\n",
              "      <th>50%</th>\n",
              "      <th>75%</th>\n",
              "      <th>max</th>\n",
              "    </tr>\n",
              "  </thead>\n",
              "  <tbody>\n",
              "    <tr>\n",
              "      <th>TS</th>\n",
              "      <td>11148</td>\n",
              "      <td>11148</td>\n",
              "      <td>03/09/2022 02:17:13 PM</td>\n",
              "      <td>1</td>\n",
              "      <td>NaN</td>\n",
              "      <td>NaN</td>\n",
              "      <td>NaN</td>\n",
              "      <td>NaN</td>\n",
              "      <td>NaN</td>\n",
              "      <td>NaN</td>\n",
              "      <td>NaN</td>\n",
              "    </tr>\n",
              "    <tr>\n",
              "      <th>xs1</th>\n",
              "      <td>11148.0</td>\n",
              "      <td>NaN</td>\n",
              "      <td>NaN</td>\n",
              "      <td>NaN</td>\n",
              "      <td>21.54897</td>\n",
              "      <td>0.583528</td>\n",
              "      <td>20.550409</td>\n",
              "      <td>21.052107</td>\n",
              "      <td>21.537718</td>\n",
              "      <td>22.045423</td>\n",
              "      <td>27.839009</td>\n",
              "    </tr>\n",
              "    <tr>\n",
              "      <th>xs2</th>\n",
              "      <td>11148.0</td>\n",
              "      <td>NaN</td>\n",
              "      <td>NaN</td>\n",
              "      <td>NaN</td>\n",
              "      <td>61.546329</td>\n",
              "      <td>0.593023</td>\n",
              "      <td>60.550082</td>\n",
              "      <td>61.036585</td>\n",
              "      <td>61.547124</td>\n",
              "      <td>62.039461</td>\n",
              "      <td>66.873661</td>\n",
              "    </tr>\n",
              "    <tr>\n",
              "      <th>xs3</th>\n",
              "      <td>11148.0</td>\n",
              "      <td>NaN</td>\n",
              "      <td>NaN</td>\n",
              "      <td>NaN</td>\n",
              "      <td>610.536744</td>\n",
              "      <td>5.82749</td>\n",
              "      <td>600.551494</td>\n",
              "      <td>605.581675</td>\n",
              "      <td>610.43256</td>\n",
              "      <td>615.454066</td>\n",
              "      <td>672.973467</td>\n",
              "    </tr>\n",
              "    <tr>\n",
              "      <th>xs4</th>\n",
              "      <td>11148.0</td>\n",
              "      <td>NaN</td>\n",
              "      <td>NaN</td>\n",
              "      <td>NaN</td>\n",
              "      <td>92.067083</td>\n",
              "      <td>0.891504</td>\n",
              "      <td>90.550414</td>\n",
              "      <td>91.310898</td>\n",
              "      <td>92.071592</td>\n",
              "      <td>92.82138</td>\n",
              "      <td>99.324656</td>\n",
              "    </tr>\n",
              "    <tr>\n",
              "      <th>xs5</th>\n",
              "      <td>11148.0</td>\n",
              "      <td>NaN</td>\n",
              "      <td>NaN</td>\n",
              "      <td>NaN</td>\n",
              "      <td>111.045578</td>\n",
              "      <td>0.288501</td>\n",
              "      <td>110.550006</td>\n",
              "      <td>110.795257</td>\n",
              "      <td>111.046586</td>\n",
              "      <td>111.291546</td>\n",
              "      <td>111.549988</td>\n",
              "    </tr>\n",
              "    <tr>\n",
              "      <th>xs6</th>\n",
              "      <td>11148.0</td>\n",
              "      <td>NaN</td>\n",
              "      <td>NaN</td>\n",
              "      <td>NaN</td>\n",
              "      <td>340.588304</td>\n",
              "      <td>5.756236</td>\n",
              "      <td>330.550856</td>\n",
              "      <td>335.608906</td>\n",
              "      <td>340.589028</td>\n",
              "      <td>345.579716</td>\n",
              "      <td>354.891147</td>\n",
              "    </tr>\n",
              "    <tr>\n",
              "      <th>xs7</th>\n",
              "      <td>11148.0</td>\n",
              "      <td>NaN</td>\n",
              "      <td>NaN</td>\n",
              "      <td>NaN</td>\n",
              "      <td>610.587991</td>\n",
              "      <td>5.821717</td>\n",
              "      <td>600.552907</td>\n",
              "      <td>605.636415</td>\n",
              "      <td>610.529193</td>\n",
              "      <td>615.520487</td>\n",
              "      <td>669.978879</td>\n",
              "    </tr>\n",
              "    <tr>\n",
              "      <th>xs8</th>\n",
              "      <td>11148.0</td>\n",
              "      <td>NaN</td>\n",
              "      <td>NaN</td>\n",
              "      <td>NaN</td>\n",
              "      <td>92.044615</td>\n",
              "      <td>0.883438</td>\n",
              "      <td>90.550388</td>\n",
              "      <td>91.288106</td>\n",
              "      <td>92.035702</td>\n",
              "      <td>92.790584</td>\n",
              "      <td>99.802652</td>\n",
              "    </tr>\n",
              "    <tr>\n",
              "      <th>label</th>\n",
              "      <td>11148.0</td>\n",
              "      <td>NaN</td>\n",
              "      <td>NaN</td>\n",
              "      <td>NaN</td>\n",
              "      <td>0.662002</td>\n",
              "      <td>1.807662</td>\n",
              "      <td>0.0</td>\n",
              "      <td>0.0</td>\n",
              "      <td>0.0</td>\n",
              "      <td>0.0</td>\n",
              "      <td>8.0</td>\n",
              "    </tr>\n",
              "  </tbody>\n",
              "</table>\n",
              "</div>\n",
              "      <button class=\"colab-df-convert\" onclick=\"convertToInteractive('df-a255d018-28ec-4ef2-a374-f3893c27ce77')\"\n",
              "              title=\"Convert this dataframe to an interactive table.\"\n",
              "              style=\"display:none;\">\n",
              "        \n",
              "  <svg xmlns=\"http://www.w3.org/2000/svg\" height=\"24px\"viewBox=\"0 0 24 24\"\n",
              "       width=\"24px\">\n",
              "    <path d=\"M0 0h24v24H0V0z\" fill=\"none\"/>\n",
              "    <path d=\"M18.56 5.44l.94 2.06.94-2.06 2.06-.94-2.06-.94-.94-2.06-.94 2.06-2.06.94zm-11 1L8.5 8.5l.94-2.06 2.06-.94-2.06-.94L8.5 2.5l-.94 2.06-2.06.94zm10 10l.94 2.06.94-2.06 2.06-.94-2.06-.94-.94-2.06-.94 2.06-2.06.94z\"/><path d=\"M17.41 7.96l-1.37-1.37c-.4-.4-.92-.59-1.43-.59-.52 0-1.04.2-1.43.59L10.3 9.45l-7.72 7.72c-.78.78-.78 2.05 0 2.83L4 21.41c.39.39.9.59 1.41.59.51 0 1.02-.2 1.41-.59l7.78-7.78 2.81-2.81c.8-.78.8-2.07 0-2.86zM5.41 20L4 18.59l7.72-7.72 1.47 1.35L5.41 20z\"/>\n",
              "  </svg>\n",
              "      </button>\n",
              "      \n",
              "  <style>\n",
              "    .colab-df-container {\n",
              "      display:flex;\n",
              "      flex-wrap:wrap;\n",
              "      gap: 12px;\n",
              "    }\n",
              "\n",
              "    .colab-df-convert {\n",
              "      background-color: #E8F0FE;\n",
              "      border: none;\n",
              "      border-radius: 50%;\n",
              "      cursor: pointer;\n",
              "      display: none;\n",
              "      fill: #1967D2;\n",
              "      height: 32px;\n",
              "      padding: 0 0 0 0;\n",
              "      width: 32px;\n",
              "    }\n",
              "\n",
              "    .colab-df-convert:hover {\n",
              "      background-color: #E2EBFA;\n",
              "      box-shadow: 0px 1px 2px rgba(60, 64, 67, 0.3), 0px 1px 3px 1px rgba(60, 64, 67, 0.15);\n",
              "      fill: #174EA6;\n",
              "    }\n",
              "\n",
              "    [theme=dark] .colab-df-convert {\n",
              "      background-color: #3B4455;\n",
              "      fill: #D2E3FC;\n",
              "    }\n",
              "\n",
              "    [theme=dark] .colab-df-convert:hover {\n",
              "      background-color: #434B5C;\n",
              "      box-shadow: 0px 1px 3px 1px rgba(0, 0, 0, 0.15);\n",
              "      filter: drop-shadow(0px 1px 2px rgba(0, 0, 0, 0.3));\n",
              "      fill: #FFFFFF;\n",
              "    }\n",
              "  </style>\n",
              "\n",
              "      <script>\n",
              "        const buttonEl =\n",
              "          document.querySelector('#df-a255d018-28ec-4ef2-a374-f3893c27ce77 button.colab-df-convert');\n",
              "        buttonEl.style.display =\n",
              "          google.colab.kernel.accessAllowed ? 'block' : 'none';\n",
              "\n",
              "        async function convertToInteractive(key) {\n",
              "          const element = document.querySelector('#df-a255d018-28ec-4ef2-a374-f3893c27ce77');\n",
              "          const dataTable =\n",
              "            await google.colab.kernel.invokeFunction('convertToInteractive',\n",
              "                                                     [key], {});\n",
              "          if (!dataTable) return;\n",
              "\n",
              "          const docLinkHtml = 'Like what you see? Visit the ' +\n",
              "            '<a target=\"_blank\" href=https://colab.research.google.com/notebooks/data_table.ipynb>data table notebook</a>'\n",
              "            + ' to learn more about interactive tables.';\n",
              "          element.innerHTML = '';\n",
              "          dataTable['output_type'] = 'display_data';\n",
              "          await google.colab.output.renderOutput(dataTable, element);\n",
              "          const docLink = document.createElement('div');\n",
              "          docLink.innerHTML = docLinkHtml;\n",
              "          element.appendChild(docLink);\n",
              "        }\n",
              "      </script>\n",
              "    </div>\n",
              "  </div>\n",
              "  "
            ],
            "text/plain": [
              "         count unique                     top freq        mean       std  \\\n",
              "TS       11148  11148  03/09/2022 02:17:13 PM    1         NaN       NaN   \n",
              "xs1    11148.0    NaN                     NaN  NaN    21.54897  0.583528   \n",
              "xs2    11148.0    NaN                     NaN  NaN   61.546329  0.593023   \n",
              "xs3    11148.0    NaN                     NaN  NaN  610.536744   5.82749   \n",
              "xs4    11148.0    NaN                     NaN  NaN   92.067083  0.891504   \n",
              "xs5    11148.0    NaN                     NaN  NaN  111.045578  0.288501   \n",
              "xs6    11148.0    NaN                     NaN  NaN  340.588304  5.756236   \n",
              "xs7    11148.0    NaN                     NaN  NaN  610.587991  5.821717   \n",
              "xs8    11148.0    NaN                     NaN  NaN   92.044615  0.883438   \n",
              "label  11148.0    NaN                     NaN  NaN    0.662002  1.807662   \n",
              "\n",
              "              min         25%         50%         75%         max  \n",
              "TS            NaN         NaN         NaN         NaN         NaN  \n",
              "xs1     20.550409   21.052107   21.537718   22.045423   27.839009  \n",
              "xs2     60.550082   61.036585   61.547124   62.039461   66.873661  \n",
              "xs3    600.551494  605.581675   610.43256  615.454066  672.973467  \n",
              "xs4     90.550414   91.310898   92.071592    92.82138   99.324656  \n",
              "xs5    110.550006  110.795257  111.046586  111.291546  111.549988  \n",
              "xs6    330.550856  335.608906  340.589028  345.579716  354.891147  \n",
              "xs7    600.552907  605.636415  610.529193  615.520487  669.978879  \n",
              "xs8     90.550388   91.288106   92.035702   92.790584   99.802652  \n",
              "label         0.0         0.0         0.0         0.0         8.0  "
            ]
          },
          "metadata": {},
          "execution_count": 5
        }
      ],
      "source": [
        "df.describe(include='all').T"
      ]
    },
    {
      "cell_type": "code",
      "execution_count": 6,
      "id": "dd9c9bbd",
      "metadata": {
        "id": "dd9c9bbd"
      },
      "outputs": [],
      "source": [
        "#df.set_index('TS', inplace = True)"
      ]
    },
    {
      "cell_type": "code",
      "execution_count": 7,
      "id": "5e20f808",
      "metadata": {
        "id": "5e20f808"
      },
      "outputs": [],
      "source": [
        "#Drop time - Interpret as part of model\n",
        "df = df.drop(\"TS\", axis = 1)"
      ]
    },
    {
      "cell_type": "code",
      "execution_count": 8,
      "id": "a1b1bce3",
      "metadata": {
        "colab": {
          "base_uri": "https://localhost:8080/"
        },
        "id": "a1b1bce3",
        "outputId": "acf392d4-9c32-4eab-cc94-f6a2d4510f02"
      },
      "outputs": [
        {
          "output_type": "execute_result",
          "data": {
            "text/plain": [
              "label    2.805029\n",
              "xs2      0.377692\n",
              "xs4      0.323413\n",
              "xs8      0.304086\n",
              "xs7      0.262329\n",
              "xs3      0.261782\n",
              "xs1      0.180545\n",
              "xs5      0.012289\n",
              "xs6     -0.005937\n",
              "dtype: float64"
            ]
          },
          "metadata": {},
          "execution_count": 8
        }
      ],
      "source": [
        "df.skew().sort_values(ascending=False)"
      ]
    },
    {
      "cell_type": "code",
      "execution_count": 9,
      "id": "1174e294",
      "metadata": {
        "colab": {
          "base_uri": "https://localhost:8080/"
        },
        "id": "1174e294",
        "outputId": "bb4ca0f7-1132-4191-9949-e1a2fd8647f2"
      },
      "outputs": [
        {
          "output_type": "execute_result",
          "data": {
            "text/plain": [
              "label    6.787438\n",
              "xs2      1.694047\n",
              "xs7      1.296335\n",
              "xs3      1.062812\n",
              "xs4      0.984761\n",
              "xs8      0.919190\n",
              "xs1      0.349930\n",
              "xs6     -1.197418\n",
              "xs5     -1.197700\n",
              "dtype: float64"
            ]
          },
          "metadata": {},
          "execution_count": 9
        }
      ],
      "source": [
        "df.kurt().sort_values(ascending=False)"
      ]
    },
    {
      "cell_type": "code",
      "execution_count": 10,
      "id": "fe256085",
      "metadata": {
        "colab": {
          "base_uri": "https://localhost:8080/"
        },
        "id": "fe256085",
        "outputId": "4c86b5b9-f01b-4795-d0f0-f858fa5a015e"
      },
      "outputs": [
        {
          "output_type": "execute_result",
          "data": {
            "text/plain": [
              "xs6     -0.012780\n",
              "xs7     -0.006681\n",
              "xs3      0.000711\n",
              "xs1      0.000772\n",
              "xs5      0.011555\n",
              "xs2      0.017917\n",
              "xs4      0.024305\n",
              "xs8      0.039384\n",
              "label    1.000000\n",
              "Name: label, dtype: float64"
            ]
          },
          "metadata": {},
          "execution_count": 10
        }
      ],
      "source": [
        "# No strong correlations\n",
        "df.corr()['label'].sort_values()"
      ]
    },
    {
      "cell_type": "code",
      "execution_count": 11,
      "id": "3d4d45e6",
      "metadata": {
        "scrolled": false,
        "colab": {
          "base_uri": "https://localhost:8080/",
          "height": 425
        },
        "id": "3d4d45e6",
        "outputId": "eb772916-ea6e-4334-e43a-f3eb720f7d7a"
      },
      "outputs": [
        {
          "output_type": "display_data",
          "data": {
            "image/png": "[encoded data removed]",
            "text/plain": [
              "<Figure size 1080x576 with 1 Axes>"
            ]
          },
          "metadata": {
            "needs_background": "light"
          }
        }
      ],
      "source": [
        "# No correlation between Principal Components as expected\n",
        "corr = abs(df.corr()) # correlation matrix\n",
        "lower_triangle = np.tril(corr, k = -1)  # select only the lower triangle of the correlation matrix\n",
        "mask = lower_triangle == 0  # to mask the upper triangle in the following heatmap\n",
        "\n",
        "plt.figure(figsize = (15,8))  # setting the figure size\n",
        "sns.set_style(style = 'white')  # Setting it to white so that we do not see the grid lines\n",
        "sns.heatmap(lower_triangle, center=0.5, cmap= 'Blues', annot= True, xticklabels = corr.index, yticklabels = corr.columns,\n",
        "            cbar= False, linewidths= 1, mask = mask,fmt='.2g')   # Da Heatmap\n",
        "plt.xticks(rotation = 50)   # Aesthetic purposes\n",
        "plt.yticks(rotation = 20)   # Aesthetic purposes\n",
        "plt.show()"
      ]
    },
    {
      "cell_type": "code",
      "execution_count": 12,
      "id": "4b5f7bf0",
      "metadata": {
        "colab": {
          "base_uri": "https://localhost:8080/"
        },
        "id": "4b5f7bf0",
        "outputId": "44ed5fcc-d2e1-47c3-a10c-bd32b7ffec12"
      },
      "outputs": [
        {
          "output_type": "execute_result",
          "data": {
            "text/plain": [
              "Index(['xs1', 'xs2', 'xs3', 'xs4', 'xs5', 'xs6', 'xs7', 'xs8', 'label'], dtype='object')"
            ]
          },
          "metadata": {},
          "execution_count": 12
        }
      ],
      "source": [
        "df.columns"
      ]
    },
    {
      "cell_type": "code",
      "execution_count": 13,
      "id": "67c86418",
      "metadata": {
        "id": "67c86418"
      },
      "outputs": [],
      "source": [
        "# Check distributions for Class 0 vs 1\n",
        "normal = df[df.label==0]\n",
        "aly_xs1 = df[df.label==1]\n",
        "aly_xs2 = df[df.label==2]\n",
        "aly_xs3 = df[df.label==3]\n",
        "aly_xs4 = df[df.label==4]\n",
        "aly_xs5 = df[df.label==5]"
      ]
    },
    {
      "cell_type": "code",
      "execution_count": 14,
      "id": "25cc184d",
      "metadata": {
        "colab": {
          "base_uri": "https://localhost:8080/",
          "height": 331
        },
        "id": "25cc184d",
        "outputId": "daf31f76-3f6a-41ab-9371-c0e41416ca59"
      },
      "outputs": [
        {
          "output_type": "execute_result",
          "data": {
            "text/html": [
              "\n",
              "  <div id=\"df-5b0f47e7-83d2-4f59-9496-4b823929938e\">\n",
              "    <div class=\"colab-df-container\">\n",
              "      <div>\n",
              "<style scoped>\n",
              "    .dataframe tbody tr th:only-of-type {\n",
              "        vertical-align: middle;\n",
              "    }\n",
              "\n",
              "    .dataframe tbody tr th {\n",
              "        vertical-align: top;\n",
              "    }\n",
              "\n",
              "    .dataframe thead th {\n",
              "        text-align: right;\n",
              "    }\n",
              "</style>\n",
              "<table border=\"1\" class=\"dataframe\">\n",
              "  <thead>\n",
              "    <tr style=\"text-align: right;\">\n",
              "      <th></th>\n",
              "      <th>count</th>\n",
              "      <th>mean</th>\n",
              "      <th>std</th>\n",
              "      <th>min</th>\n",
              "      <th>25%</th>\n",
              "      <th>50%</th>\n",
              "      <th>75%</th>\n",
              "      <th>max</th>\n",
              "    </tr>\n",
              "  </thead>\n",
              "  <tbody>\n",
              "    <tr>\n",
              "      <th>xs1</th>\n",
              "      <td>9477.0</td>\n",
              "      <td>21.546583</td>\n",
              "      <td>0.579211</td>\n",
              "      <td>20.550409</td>\n",
              "      <td>21.050352</td>\n",
              "      <td>21.538258</td>\n",
              "      <td>22.045631</td>\n",
              "      <td>22.549948</td>\n",
              "    </tr>\n",
              "    <tr>\n",
              "      <th>xs2</th>\n",
              "      <td>9477.0</td>\n",
              "      <td>61.539839</td>\n",
              "      <td>0.578529</td>\n",
              "      <td>60.550082</td>\n",
              "      <td>61.034255</td>\n",
              "      <td>61.541243</td>\n",
              "      <td>62.035493</td>\n",
              "      <td>62.549886</td>\n",
              "    </tr>\n",
              "    <tr>\n",
              "      <th>xs3</th>\n",
              "      <td>9477.0</td>\n",
              "      <td>610.525160</td>\n",
              "      <td>5.747481</td>\n",
              "      <td>600.551494</td>\n",
              "      <td>605.568084</td>\n",
              "      <td>610.457642</td>\n",
              "      <td>615.460719</td>\n",
              "      <td>620.538192</td>\n",
              "    </tr>\n",
              "    <tr>\n",
              "      <th>xs4</th>\n",
              "      <td>9477.0</td>\n",
              "      <td>92.056988</td>\n",
              "      <td>0.865226</td>\n",
              "      <td>90.550414</td>\n",
              "      <td>91.300789</td>\n",
              "      <td>92.073395</td>\n",
              "      <td>92.813011</td>\n",
              "      <td>93.549672</td>\n",
              "    </tr>\n",
              "    <tr>\n",
              "      <th>xs5</th>\n",
              "      <td>9477.0</td>\n",
              "      <td>111.043971</td>\n",
              "      <td>0.287700</td>\n",
              "      <td>110.550066</td>\n",
              "      <td>110.793245</td>\n",
              "      <td>111.043820</td>\n",
              "      <td>111.287151</td>\n",
              "      <td>111.549939</td>\n",
              "    </tr>\n",
              "    <tr>\n",
              "      <th>xs6</th>\n",
              "      <td>9477.0</td>\n",
              "      <td>340.603156</td>\n",
              "      <td>5.739649</td>\n",
              "      <td>330.550856</td>\n",
              "      <td>335.618819</td>\n",
              "      <td>340.601903</td>\n",
              "      <td>345.590307</td>\n",
              "      <td>350.548966</td>\n",
              "    </tr>\n",
              "    <tr>\n",
              "      <th>xs7</th>\n",
              "      <td>9477.0</td>\n",
              "      <td>610.608239</td>\n",
              "      <td>5.745124</td>\n",
              "      <td>600.552907</td>\n",
              "      <td>605.664709</td>\n",
              "      <td>610.567268</td>\n",
              "      <td>615.610069</td>\n",
              "      <td>620.549196</td>\n",
              "    </tr>\n",
              "    <tr>\n",
              "      <th>xs8</th>\n",
              "      <td>9477.0</td>\n",
              "      <td>92.033245</td>\n",
              "      <td>0.863429</td>\n",
              "      <td>90.550388</td>\n",
              "      <td>91.283488</td>\n",
              "      <td>92.023242</td>\n",
              "      <td>92.785394</td>\n",
              "      <td>93.549707</td>\n",
              "    </tr>\n",
              "    <tr>\n",
              "      <th>label</th>\n",
              "      <td>9477.0</td>\n",
              "      <td>0.000000</td>\n",
              "      <td>0.000000</td>\n",
              "      <td>0.000000</td>\n",
              "      <td>0.000000</td>\n",
              "      <td>0.000000</td>\n",
              "      <td>0.000000</td>\n",
              "      <td>0.000000</td>\n",
              "    </tr>\n",
              "  </tbody>\n",
              "</table>\n",
              "</div>\n",
              "      <button class=\"colab-df-convert\" onclick=\"convertToInteractive('df-5b0f47e7-83d2-4f59-9496-4b823929938e')\"\n",
              "              title=\"Convert this dataframe to an interactive table.\"\n",
              "              style=\"display:none;\">\n",
              "        \n",
              "  <svg xmlns=\"http://www.w3.org/2000/svg\" height=\"24px\"viewBox=\"0 0 24 24\"\n",
              "       width=\"24px\">\n",
              "    <path d=\"M0 0h24v24H0V0z\" fill=\"none\"/>\n",
              "    <path d=\"M18.56 5.44l.94 2.06.94-2.06 2.06-.94-2.06-.94-.94-2.06-.94 2.06-2.06.94zm-11 1L8.5 8.5l.94-2.06 2.06-.94-2.06-.94L8.5 2.5l-.94 2.06-2.06.94zm10 10l.94 2.06.94-2.06 2.06-.94-2.06-.94-.94-2.06-.94 2.06-2.06.94z\"/><path d=\"M17.41 7.96l-1.37-1.37c-.4-.4-.92-.59-1.43-.59-.52 0-1.04.2-1.43.59L10.3 9.45l-7.72 7.72c-.78.78-.78 2.05 0 2.83L4 21.41c.39.39.9.59 1.41.59.51 0 1.02-.2 1.41-.59l7.78-7.78 2.81-2.81c.8-.78.8-2.07 0-2.86zM5.41 20L4 18.59l7.72-7.72 1.47 1.35L5.41 20z\"/>\n",
              "  </svg>\n",
              "      </button>\n",
              "      \n",
              "  <style>\n",
              "    .colab-df-container {\n",
              "      display:flex;\n",
              "      flex-wrap:wrap;\n",
              "      gap: 12px;\n",
              "    }\n",
              "\n",
              "    .colab-df-convert {\n",
              "      background-color: #E8F0FE;\n",
              "      border: none;\n",
              "      border-radius: 50%;\n",
              "      cursor: pointer;\n",
              "      display: none;\n",
              "      fill: #1967D2;\n",
              "      height: 32px;\n",
              "      padding: 0 0 0 0;\n",
              "      width: 32px;\n",
              "    }\n",
              "\n",
              "    .colab-df-convert:hover {\n",
              "      background-color: #E2EBFA;\n",
              "      box-shadow: 0px 1px 2px rgba(60, 64, 67, 0.3), 0px 1px 3px 1px rgba(60, 64, 67, 0.15);\n",
              "      fill: #174EA6;\n",
              "    }\n",
              "\n",
              "    [theme=dark] .colab-df-convert {\n",
              "      background-color: #3B4455;\n",
              "      fill: #D2E3FC;\n",
              "    }\n",
              "\n",
              "    [theme=dark] .colab-df-convert:hover {\n",
              "      background-color: #434B5C;\n",
              "      box-shadow: 0px 1px 3px 1px rgba(0, 0, 0, 0.15);\n",
              "      filter: drop-shadow(0px 1px 2px rgba(0, 0, 0, 0.3));\n",
              "      fill: #FFFFFF;\n",
              "    }\n",
              "  </style>\n",
              "\n",
              "      <script>\n",
              "        const buttonEl =\n",
              "          document.querySelector('#df-5b0f47e7-83d2-4f59-9496-4b823929938e button.colab-df-convert');\n",
              "        buttonEl.style.display =\n",
              "          google.colab.kernel.accessAllowed ? 'block' : 'none';\n",
              "\n",
              "        async function convertToInteractive(key) {\n",
              "          const element = document.querySelector('#df-5b0f47e7-83d2-4f59-9496-4b823929938e');\n",
              "          const dataTable =\n",
              "            await google.colab.kernel.invokeFunction('convertToInteractive',\n",
              "                                                     [key], {});\n",
              "          if (!dataTable) return;\n",
              "\n",
              "          const docLinkHtml = 'Like what you see? Visit the ' +\n",
              "            '<a target=\"_blank\" href=https://colab.research.google.com/notebooks/data_table.ipynb>data table notebook</a>'\n",
              "            + ' to learn more about interactive tables.';\n",
              "          element.innerHTML = '';\n",
              "          dataTable['output_type'] = 'display_data';\n",
              "          await google.colab.output.renderOutput(dataTable, element);\n",
              "          const docLink = document.createElement('div');\n",
              "          docLink.innerHTML = docLinkHtml;\n",
              "          element.appendChild(docLink);\n",
              "        }\n",
              "      </script>\n",
              "    </div>\n",
              "  </div>\n",
              "  "
            ],
            "text/plain": [
              "        count        mean       std         min         25%         50%  \\\n",
              "xs1    9477.0   21.546583  0.579211   20.550409   21.050352   21.538258   \n",
              "xs2    9477.0   61.539839  0.578529   60.550082   61.034255   61.541243   \n",
              "xs3    9477.0  610.525160  5.747481  600.551494  605.568084  610.457642   \n",
              "xs4    9477.0   92.056988  0.865226   90.550414   91.300789   92.073395   \n",
              "xs5    9477.0  111.043971  0.287700  110.550066  110.793245  111.043820   \n",
              "xs6    9477.0  340.603156  5.739649  330.550856  335.618819  340.601903   \n",
              "xs7    9477.0  610.608239  5.745124  600.552907  605.664709  610.567268   \n",
              "xs8    9477.0   92.033245  0.863429   90.550388   91.283488   92.023242   \n",
              "label  9477.0    0.000000  0.000000    0.000000    0.000000    0.000000   \n",
              "\n",
              "              75%         max  \n",
              "xs1     22.045631   22.549948  \n",
              "xs2     62.035493   62.549886  \n",
              "xs3    615.460719  620.538192  \n",
              "xs4     92.813011   93.549672  \n",
              "xs5    111.287151  111.549939  \n",
              "xs6    345.590307  350.548966  \n",
              "xs7    615.610069  620.549196  \n",
              "xs8     92.785394   93.549707  \n",
              "label    0.000000    0.000000  "
            ]
          },
          "metadata": {},
          "execution_count": 14
        }
      ],
      "source": [
        "normal.describe().T"
      ]
    },
    {
      "cell_type": "code",
      "execution_count": 15,
      "id": "f366dd0d",
      "metadata": {
        "colab": {
          "base_uri": "https://localhost:8080/",
          "height": 331
        },
        "id": "f366dd0d",
        "outputId": "ea0bc96b-a993-494d-81d3-3ee74501f8e8"
      },
      "outputs": [
        {
          "output_type": "execute_result",
          "data": {
            "text/html": [
              "\n",
              "  <div id=\"df-1029e4d9-847c-4e86-8720-cf04075169b1\">\n",
              "    <div class=\"colab-df-container\">\n",
              "      <div>\n",
              "<style scoped>\n",
              "    .dataframe tbody tr th:only-of-type {\n",
              "        vertical-align: middle;\n",
              "    }\n",
              "\n",
              "    .dataframe tbody tr th {\n",
              "        vertical-align: top;\n",
              "    }\n",
              "\n",
              "    .dataframe thead th {\n",
              "        text-align: right;\n",
              "    }\n",
              "</style>\n",
              "<table border=\"1\" class=\"dataframe\">\n",
              "  <thead>\n",
              "    <tr style=\"text-align: right;\">\n",
              "      <th></th>\n",
              "      <th>count</th>\n",
              "      <th>mean</th>\n",
              "      <th>std</th>\n",
              "      <th>min</th>\n",
              "      <th>25%</th>\n",
              "      <th>50%</th>\n",
              "      <th>75%</th>\n",
              "      <th>max</th>\n",
              "    </tr>\n",
              "  </thead>\n",
              "  <tbody>\n",
              "    <tr>\n",
              "      <th>xs1</th>\n",
              "      <td>222.0</td>\n",
              "      <td>21.621950</td>\n",
              "      <td>0.788025</td>\n",
              "      <td>20.578535</td>\n",
              "      <td>21.122580</td>\n",
              "      <td>21.553493</td>\n",
              "      <td>22.036891</td>\n",
              "      <td>27.839009</td>\n",
              "    </tr>\n",
              "    <tr>\n",
              "      <th>xs2</th>\n",
              "      <td>222.0</td>\n",
              "      <td>61.568897</td>\n",
              "      <td>0.578816</td>\n",
              "      <td>60.569103</td>\n",
              "      <td>61.012771</td>\n",
              "      <td>61.647374</td>\n",
              "      <td>62.076545</td>\n",
              "      <td>62.546528</td>\n",
              "    </tr>\n",
              "    <tr>\n",
              "      <th>xs3</th>\n",
              "      <td>222.0</td>\n",
              "      <td>610.494692</td>\n",
              "      <td>5.923802</td>\n",
              "      <td>600.556646</td>\n",
              "      <td>605.693508</td>\n",
              "      <td>610.497367</td>\n",
              "      <td>615.874176</td>\n",
              "      <td>620.080832</td>\n",
              "    </tr>\n",
              "    <tr>\n",
              "      <th>xs4</th>\n",
              "      <td>222.0</td>\n",
              "      <td>92.094067</td>\n",
              "      <td>0.880942</td>\n",
              "      <td>90.554565</td>\n",
              "      <td>91.343565</td>\n",
              "      <td>92.126839</td>\n",
              "      <td>92.871779</td>\n",
              "      <td>94.467974</td>\n",
              "    </tr>\n",
              "    <tr>\n",
              "      <th>xs5</th>\n",
              "      <td>222.0</td>\n",
              "      <td>111.067987</td>\n",
              "      <td>0.295759</td>\n",
              "      <td>110.554449</td>\n",
              "      <td>110.828574</td>\n",
              "      <td>111.090638</td>\n",
              "      <td>111.309920</td>\n",
              "      <td>111.549842</td>\n",
              "    </tr>\n",
              "    <tr>\n",
              "      <th>xs6</th>\n",
              "      <td>222.0</td>\n",
              "      <td>340.389347</td>\n",
              "      <td>5.635293</td>\n",
              "      <td>330.607748</td>\n",
              "      <td>336.132492</td>\n",
              "      <td>340.210703</td>\n",
              "      <td>345.099458</td>\n",
              "      <td>350.509710</td>\n",
              "    </tr>\n",
              "    <tr>\n",
              "      <th>xs7</th>\n",
              "      <td>222.0</td>\n",
              "      <td>610.925168</td>\n",
              "      <td>5.528953</td>\n",
              "      <td>600.699352</td>\n",
              "      <td>606.465808</td>\n",
              "      <td>610.903925</td>\n",
              "      <td>616.131916</td>\n",
              "      <td>620.485314</td>\n",
              "    </tr>\n",
              "    <tr>\n",
              "      <th>xs8</th>\n",
              "      <td>222.0</td>\n",
              "      <td>92.086708</td>\n",
              "      <td>0.832387</td>\n",
              "      <td>90.561614</td>\n",
              "      <td>91.368690</td>\n",
              "      <td>92.126209</td>\n",
              "      <td>92.797057</td>\n",
              "      <td>93.517701</td>\n",
              "    </tr>\n",
              "    <tr>\n",
              "      <th>label</th>\n",
              "      <td>222.0</td>\n",
              "      <td>1.000000</td>\n",
              "      <td>0.000000</td>\n",
              "      <td>1.000000</td>\n",
              "      <td>1.000000</td>\n",
              "      <td>1.000000</td>\n",
              "      <td>1.000000</td>\n",
              "      <td>1.000000</td>\n",
              "    </tr>\n",
              "  </tbody>\n",
              "</table>\n",
              "</div>\n",
              "      <button class=\"colab-df-convert\" onclick=\"convertToInteractive('df-1029e4d9-847c-4e86-8720-cf04075169b1')\"\n",
              "              title=\"Convert this dataframe to an interactive table.\"\n",
              "              style=\"display:none;\">\n",
              "        \n",
              "  <svg xmlns=\"http://www.w3.org/2000/svg\" height=\"24px\"viewBox=\"0 0 24 24\"\n",
              "       width=\"24px\">\n",
              "    <path d=\"M0 0h24v24H0V0z\" fill=\"none\"/>\n",
              "    <path d=\"M18.56 5.44l.94 2.06.94-2.06 2.06-.94-2.06-.94-.94-2.06-.94 2.06-2.06.94zm-11 1L8.5 8.5l.94-2.06 2.06-.94-2.06-.94L8.5 2.5l-.94 2.06-2.06.94zm10 10l.94 2.06.94-2.06 2.06-.94-2.06-.94-.94-2.06-.94 2.06-2.06.94z\"/><path d=\"M17.41 7.96l-1.37-1.37c-.4-.4-.92-.59-1.43-.59-.52 0-1.04.2-1.43.59L10.3 9.45l-7.72 7.72c-.78.78-.78 2.05 0 2.83L4 21.41c.39.39.9.59 1.41.59.51 0 1.02-.2 1.41-.59l7.78-7.78 2.81-2.81c.8-.78.8-2.07 0-2.86zM5.41 20L4 18.59l7.72-7.72 1.47 1.35L5.41 20z\"/>\n",
              "  </svg>\n",
              "      </button>\n",
              "      \n",
              "  <style>\n",
              "    .colab-df-container {\n",
              "      display:flex;\n",
              "      flex-wrap:wrap;\n",
              "      gap: 12px;\n",
              "    }\n",
              "\n",
              "    .colab-df-convert {\n",
              "      background-color: #E8F0FE;\n",
              "      border: none;\n",
              "      border-radius: 50%;\n",
              "      cursor: pointer;\n",
              "      display: none;\n",
              "      fill: #1967D2;\n",
              "      height: 32px;\n",
              "      padding: 0 0 0 0;\n",
              "      width: 32px;\n",
              "    }\n",
              "\n",
              "    .colab-df-convert:hover {\n",
              "      background-color: #E2EBFA;\n",
              "      box-shadow: 0px 1px 2px rgba(60, 64, 67, 0.3), 0px 1px 3px 1px rgba(60, 64, 67, 0.15);\n",
              "      fill: #174EA6;\n",
              "    }\n",
              "\n",
              "    [theme=dark] .colab-df-convert {\n",
              "      background-color: #3B4455;\n",
              "      fill: #D2E3FC;\n",
              "    }\n",
              "\n",
              "    [theme=dark] .colab-df-convert:hover {\n",
              "      background-color: #434B5C;\n",
              "      box-shadow: 0px 1px 3px 1px rgba(0, 0, 0, 0.15);\n",
              "      filter: drop-shadow(0px 1px 2px rgba(0, 0, 0, 0.3));\n",
              "      fill: #FFFFFF;\n",
              "    }\n",
              "  </style>\n",
              "\n",
              "      <script>\n",
              "        const buttonEl =\n",
              "          document.querySelector('#df-1029e4d9-847c-4e86-8720-cf04075169b1 button.colab-df-convert');\n",
              "        buttonEl.style.display =\n",
              "          google.colab.kernel.accessAllowed ? 'block' : 'none';\n",
              "\n",
              "        async function convertToInteractive(key) {\n",
              "          const element = document.querySelector('#df-1029e4d9-847c-4e86-8720-cf04075169b1');\n",
              "          const dataTable =\n",
              "            await google.colab.kernel.invokeFunction('convertToInteractive',\n",
              "                                                     [key], {});\n",
              "          if (!dataTable) return;\n",
              "\n",
              "          const docLinkHtml = 'Like what you see? Visit the ' +\n",
              "            '<a target=\"_blank\" href=https://colab.research.google.com/notebooks/data_table.ipynb>data table notebook</a>'\n",
              "            + ' to learn more about interactive tables.';\n",
              "          element.innerHTML = '';\n",
              "          dataTable['output_type'] = 'display_data';\n",
              "          await google.colab.output.renderOutput(dataTable, element);\n",
              "          const docLink = document.createElement('div');\n",
              "          docLink.innerHTML = docLinkHtml;\n",
              "          element.appendChild(docLink);\n",
              "        }\n",
              "      </script>\n",
              "    </div>\n",
              "  </div>\n",
              "  "
            ],
            "text/plain": [
              "       count        mean       std         min         25%         50%  \\\n",
              "xs1    222.0   21.621950  0.788025   20.578535   21.122580   21.553493   \n",
              "xs2    222.0   61.568897  0.578816   60.569103   61.012771   61.647374   \n",
              "xs3    222.0  610.494692  5.923802  600.556646  605.693508  610.497367   \n",
              "xs4    222.0   92.094067  0.880942   90.554565   91.343565   92.126839   \n",
              "xs5    222.0  111.067987  0.295759  110.554449  110.828574  111.090638   \n",
              "xs6    222.0  340.389347  5.635293  330.607748  336.132492  340.210703   \n",
              "xs7    222.0  610.925168  5.528953  600.699352  606.465808  610.903925   \n",
              "xs8    222.0   92.086708  0.832387   90.561614   91.368690   92.126209   \n",
              "label  222.0    1.000000  0.000000    1.000000    1.000000    1.000000   \n",
              "\n",
              "              75%         max  \n",
              "xs1     22.036891   27.839009  \n",
              "xs2     62.076545   62.546528  \n",
              "xs3    615.874176  620.080832  \n",
              "xs4     92.871779   94.467974  \n",
              "xs5    111.309920  111.549842  \n",
              "xs6    345.099458  350.509710  \n",
              "xs7    616.131916  620.485314  \n",
              "xs8     92.797057   93.517701  \n",
              "label    1.000000    1.000000  "
            ]
          },
          "metadata": {},
          "execution_count": 15
        }
      ],
      "source": [
        "aly_xs1.describe().T"
      ]
    },
    {
      "cell_type": "code",
      "execution_count": 16,
      "id": "c3487169",
      "metadata": {
        "colab": {
          "base_uri": "https://localhost:8080/",
          "height": 331
        },
        "id": "c3487169",
        "outputId": "6039976f-e4d2-4534-c34c-5e87de262843"
      },
      "outputs": [
        {
          "output_type": "execute_result",
          "data": {
            "text/html": [
              "\n",
              "  <div id=\"df-525d92b8-809f-4a80-93b7-feddafa5e4be\">\n",
              "    <div class=\"colab-df-container\">\n",
              "      <div>\n",
              "<style scoped>\n",
              "    .dataframe tbody tr th:only-of-type {\n",
              "        vertical-align: middle;\n",
              "    }\n",
              "\n",
              "    .dataframe tbody tr th {\n",
              "        vertical-align: top;\n",
              "    }\n",
              "\n",
              "    .dataframe thead th {\n",
              "        text-align: right;\n",
              "    }\n",
              "</style>\n",
              "<table border=\"1\" class=\"dataframe\">\n",
              "  <thead>\n",
              "    <tr style=\"text-align: right;\">\n",
              "      <th></th>\n",
              "      <th>count</th>\n",
              "      <th>mean</th>\n",
              "      <th>std</th>\n",
              "      <th>min</th>\n",
              "      <th>25%</th>\n",
              "      <th>50%</th>\n",
              "      <th>75%</th>\n",
              "      <th>max</th>\n",
              "    </tr>\n",
              "  </thead>\n",
              "  <tbody>\n",
              "    <tr>\n",
              "      <th>xs1</th>\n",
              "      <td>235.0</td>\n",
              "      <td>21.557788</td>\n",
              "      <td>0.578779</td>\n",
              "      <td>20.559286</td>\n",
              "      <td>21.064315</td>\n",
              "      <td>21.532330</td>\n",
              "      <td>22.084086</td>\n",
              "      <td>22.547837</td>\n",
              "    </tr>\n",
              "    <tr>\n",
              "      <th>xs2</th>\n",
              "      <td>235.0</td>\n",
              "      <td>61.577237</td>\n",
              "      <td>0.585159</td>\n",
              "      <td>60.582683</td>\n",
              "      <td>61.028447</td>\n",
              "      <td>61.526823</td>\n",
              "      <td>62.107132</td>\n",
              "      <td>62.542729</td>\n",
              "    </tr>\n",
              "    <tr>\n",
              "      <th>xs3</th>\n",
              "      <td>235.0</td>\n",
              "      <td>610.487905</td>\n",
              "      <td>6.221508</td>\n",
              "      <td>600.646461</td>\n",
              "      <td>605.065031</td>\n",
              "      <td>610.324552</td>\n",
              "      <td>615.838671</td>\n",
              "      <td>640.769065</td>\n",
              "    </tr>\n",
              "    <tr>\n",
              "      <th>xs4</th>\n",
              "      <td>235.0</td>\n",
              "      <td>92.084568</td>\n",
              "      <td>0.877038</td>\n",
              "      <td>90.559427</td>\n",
              "      <td>91.351051</td>\n",
              "      <td>92.043932</td>\n",
              "      <td>92.885817</td>\n",
              "      <td>93.534196</td>\n",
              "    </tr>\n",
              "    <tr>\n",
              "      <th>xs5</th>\n",
              "      <td>235.0</td>\n",
              "      <td>111.034620</td>\n",
              "      <td>0.289370</td>\n",
              "      <td>110.551314</td>\n",
              "      <td>110.772995</td>\n",
              "      <td>111.049469</td>\n",
              "      <td>111.290779</td>\n",
              "      <td>111.543442</td>\n",
              "    </tr>\n",
              "    <tr>\n",
              "      <th>xs6</th>\n",
              "      <td>235.0</td>\n",
              "      <td>340.663001</td>\n",
              "      <td>5.829233</td>\n",
              "      <td>330.570515</td>\n",
              "      <td>335.692032</td>\n",
              "      <td>340.431149</td>\n",
              "      <td>345.587054</td>\n",
              "      <td>350.540524</td>\n",
              "    </tr>\n",
              "    <tr>\n",
              "      <th>xs7</th>\n",
              "      <td>235.0</td>\n",
              "      <td>609.493586</td>\n",
              "      <td>5.968205</td>\n",
              "      <td>600.600622</td>\n",
              "      <td>604.287012</td>\n",
              "      <td>609.153894</td>\n",
              "      <td>614.635372</td>\n",
              "      <td>620.527113</td>\n",
              "    </tr>\n",
              "    <tr>\n",
              "      <th>xs8</th>\n",
              "      <td>235.0</td>\n",
              "      <td>91.964880</td>\n",
              "      <td>0.865867</td>\n",
              "      <td>90.550528</td>\n",
              "      <td>91.171760</td>\n",
              "      <td>91.979787</td>\n",
              "      <td>92.629775</td>\n",
              "      <td>93.541824</td>\n",
              "    </tr>\n",
              "    <tr>\n",
              "      <th>label</th>\n",
              "      <td>235.0</td>\n",
              "      <td>5.000000</td>\n",
              "      <td>0.000000</td>\n",
              "      <td>5.000000</td>\n",
              "      <td>5.000000</td>\n",
              "      <td>5.000000</td>\n",
              "      <td>5.000000</td>\n",
              "      <td>5.000000</td>\n",
              "    </tr>\n",
              "  </tbody>\n",
              "</table>\n",
              "</div>\n",
              "      <button class=\"colab-df-convert\" onclick=\"convertToInteractive('df-525d92b8-809f-4a80-93b7-feddafa5e4be')\"\n",
              "              title=\"Convert this dataframe to an interactive table.\"\n",
              "              style=\"display:none;\">\n",
              "        \n",
              "  <svg xmlns=\"http://www.w3.org/2000/svg\" height=\"24px\"viewBox=\"0 0 24 24\"\n",
              "       width=\"24px\">\n",
              "    <path d=\"M0 0h24v24H0V0z\" fill=\"none\"/>\n",
              "    <path d=\"M18.56 5.44l.94 2.06.94-2.06 2.06-.94-2.06-.94-.94-2.06-.94 2.06-2.06.94zm-11 1L8.5 8.5l.94-2.06 2.06-.94-2.06-.94L8.5 2.5l-.94 2.06-2.06.94zm10 10l.94 2.06.94-2.06 2.06-.94-2.06-.94-.94-2.06-.94 2.06-2.06.94z\"/><path d=\"M17.41 7.96l-1.37-1.37c-.4-.4-.92-.59-1.43-.59-.52 0-1.04.2-1.43.59L10.3 9.45l-7.72 7.72c-.78.78-.78 2.05 0 2.83L4 21.41c.39.39.9.59 1.41.59.51 0 1.02-.2 1.41-.59l7.78-7.78 2.81-2.81c.8-.78.8-2.07 0-2.86zM5.41 20L4 18.59l7.72-7.72 1.47 1.35L5.41 20z\"/>\n",
              "  </svg>\n",
              "      </button>\n",
              "      \n",
              "  <style>\n",
              "    .colab-df-container {\n",
              "      display:flex;\n",
              "      flex-wrap:wrap;\n",
              "      gap: 12px;\n",
              "    }\n",
              "\n",
              "    .colab-df-convert {\n",
              "      background-color: #E8F0FE;\n",
              "      border: none;\n",
              "      border-radius: 50%;\n",
              "      cursor: pointer;\n",
              "      display: none;\n",
              "      fill: #1967D2;\n",
              "      height: 32px;\n",
              "      padding: 0 0 0 0;\n",
              "      width: 32px;\n",
              "    }\n",
              "\n",
              "    .colab-df-convert:hover {\n",
              "      background-color: #E2EBFA;\n",
              "      box-shadow: 0px 1px 2px rgba(60, 64, 67, 0.3), 0px 1px 3px 1px rgba(60, 64, 67, 0.15);\n",
              "      fill: #174EA6;\n",
              "    }\n",
              "\n",
              "    [theme=dark] .colab-df-convert {\n",
              "      background-color: #3B4455;\n",
              "      fill: #D2E3FC;\n",
              "    }\n",
              "\n",
              "    [theme=dark] .colab-df-convert:hover {\n",
              "      background-color: #434B5C;\n",
              "      box-shadow: 0px 1px 3px 1px rgba(0, 0, 0, 0.15);\n",
              "      filter: drop-shadow(0px 1px 2px rgba(0, 0, 0, 0.3));\n",
              "      fill: #FFFFFF;\n",
              "    }\n",
              "  </style>\n",
              "\n",
              "      <script>\n",
              "        const buttonEl =\n",
              "          document.querySelector('#df-525d92b8-809f-4a80-93b7-feddafa5e4be button.colab-df-convert');\n",
              "        buttonEl.style.display =\n",
              "          google.colab.kernel.accessAllowed ? 'block' : 'none';\n",
              "\n",
              "        async function convertToInteractive(key) {\n",
              "          const element = document.querySelector('#df-525d92b8-809f-4a80-93b7-feddafa5e4be');\n",
              "          const dataTable =\n",
              "            await google.colab.kernel.invokeFunction('convertToInteractive',\n",
              "                                                     [key], {});\n",
              "          if (!dataTable) return;\n",
              "\n",
              "          const docLinkHtml = 'Like what you see? Visit the ' +\n",
              "            '<a target=\"_blank\" href=https://colab.research.google.com/notebooks/data_table.ipynb>data table notebook</a>'\n",
              "            + ' to learn more about interactive tables.';\n",
              "          element.innerHTML = '';\n",
              "          dataTable['output_type'] = 'display_data';\n",
              "          await google.colab.output.renderOutput(dataTable, element);\n",
              "          const docLink = document.createElement('div');\n",
              "          docLink.innerHTML = docLinkHtml;\n",
              "          element.appendChild(docLink);\n",
              "        }\n",
              "      </script>\n",
              "    </div>\n",
              "  </div>\n",
              "  "
            ],
            "text/plain": [
              "       count        mean       std         min         25%         50%  \\\n",
              "xs1    235.0   21.557788  0.578779   20.559286   21.064315   21.532330   \n",
              "xs2    235.0   61.577237  0.585159   60.582683   61.028447   61.526823   \n",
              "xs3    235.0  610.487905  6.221508  600.646461  605.065031  610.324552   \n",
              "xs4    235.0   92.084568  0.877038   90.559427   91.351051   92.043932   \n",
              "xs5    235.0  111.034620  0.289370  110.551314  110.772995  111.049469   \n",
              "xs6    235.0  340.663001  5.829233  330.570515  335.692032  340.431149   \n",
              "xs7    235.0  609.493586  5.968205  600.600622  604.287012  609.153894   \n",
              "xs8    235.0   91.964880  0.865867   90.550528   91.171760   91.979787   \n",
              "label  235.0    5.000000  0.000000    5.000000    5.000000    5.000000   \n",
              "\n",
              "              75%         max  \n",
              "xs1     22.084086   22.547837  \n",
              "xs2     62.107132   62.542729  \n",
              "xs3    615.838671  640.769065  \n",
              "xs4     92.885817   93.534196  \n",
              "xs5    111.290779  111.543442  \n",
              "xs6    345.587054  350.540524  \n",
              "xs7    614.635372  620.527113  \n",
              "xs8     92.629775   93.541824  \n",
              "label    5.000000    5.000000  "
            ]
          },
          "metadata": {},
          "execution_count": 16
        }
      ],
      "source": [
        "aly_xs5.describe().T"
      ]
    },
    {
      "cell_type": "markdown",
      "id": "70fe047a",
      "metadata": {
        "id": "70fe047a"
      },
      "source": [
        "# Split data into Train & Test Data for Modelling"
      ]
    },
    {
      "cell_type": "code",
      "source": [
        ""
      ],
      "metadata": {
        "id": "Z8NRGRgywG0K"
      },
      "id": "Z8NRGRgywG0K",
      "execution_count": 16,
      "outputs": []
    },
    {
      "cell_type": "code",
      "execution_count": 17,
      "id": "a39b5cd1",
      "metadata": {
        "id": "a39b5cd1"
      },
      "outputs": [],
      "source": [
        "X_data = df.iloc[:, :-1]"
      ]
    },
    {
      "cell_type": "code",
      "source": [
        "X_data.head()"
      ],
      "metadata": {
        "colab": {
          "base_uri": "https://localhost:8080/",
          "height": 206
        },
        "id": "Yayd1Hb-wLg5",
        "outputId": "1d13e959-3f56-4cb0-9bd0-1d5f942e5d38"
      },
      "id": "Yayd1Hb-wLg5",
      "execution_count": 18,
      "outputs": [
        {
          "output_type": "execute_result",
          "data": {
            "text/html": [
              "\n",
              "  <div id=\"df-c85c6d60-6d6e-4273-885a-34822218b636\">\n",
              "    <div class=\"colab-df-container\">\n",
              "      <div>\n",
              "<style scoped>\n",
              "    .dataframe tbody tr th:only-of-type {\n",
              "        vertical-align: middle;\n",
              "    }\n",
              "\n",
              "    .dataframe tbody tr th {\n",
              "        vertical-align: top;\n",
              "    }\n",
              "\n",
              "    .dataframe thead th {\n",
              "        text-align: right;\n",
              "    }\n",
              "</style>\n",
              "<table border=\"1\" class=\"dataframe\">\n",
              "  <thead>\n",
              "    <tr style=\"text-align: right;\">\n",
              "      <th></th>\n",
              "      <th>xs1</th>\n",
              "      <th>xs2</th>\n",
              "      <th>xs3</th>\n",
              "      <th>xs4</th>\n",
              "      <th>xs5</th>\n",
              "      <th>xs6</th>\n",
              "      <th>xs7</th>\n",
              "      <th>xs8</th>\n",
              "    </tr>\n",
              "  </thead>\n",
              "  <tbody>\n",
              "    <tr>\n",
              "      <th>0</th>\n",
              "      <td>22.145063</td>\n",
              "      <td>61.341648</td>\n",
              "      <td>612.720965</td>\n",
              "      <td>92.263350</td>\n",
              "      <td>110.608746</td>\n",
              "      <td>336.532519</td>\n",
              "      <td>615.487047</td>\n",
              "      <td>93.092009</td>\n",
              "    </tr>\n",
              "    <tr>\n",
              "      <th>1</th>\n",
              "      <td>21.070552</td>\n",
              "      <td>61.936690</td>\n",
              "      <td>613.288690</td>\n",
              "      <td>92.296894</td>\n",
              "      <td>111.187354</td>\n",
              "      <td>345.557790</td>\n",
              "      <td>618.298205</td>\n",
              "      <td>93.236768</td>\n",
              "    </tr>\n",
              "    <tr>\n",
              "      <th>2</th>\n",
              "      <td>22.396227</td>\n",
              "      <td>62.394607</td>\n",
              "      <td>607.706115</td>\n",
              "      <td>92.674782</td>\n",
              "      <td>111.151746</td>\n",
              "      <td>340.013010</td>\n",
              "      <td>613.013097</td>\n",
              "      <td>90.599873</td>\n",
              "    </tr>\n",
              "    <tr>\n",
              "      <th>3</th>\n",
              "      <td>20.912552</td>\n",
              "      <td>61.453081</td>\n",
              "      <td>602.733841</td>\n",
              "      <td>90.756061</td>\n",
              "      <td>111.190299</td>\n",
              "      <td>347.828972</td>\n",
              "      <td>610.310325</td>\n",
              "      <td>92.562133</td>\n",
              "    </tr>\n",
              "    <tr>\n",
              "      <th>4</th>\n",
              "      <td>22.070204</td>\n",
              "      <td>62.131923</td>\n",
              "      <td>618.636366</td>\n",
              "      <td>92.325186</td>\n",
              "      <td>110.742548</td>\n",
              "      <td>334.120888</td>\n",
              "      <td>614.771046</td>\n",
              "      <td>91.960464</td>\n",
              "    </tr>\n",
              "  </tbody>\n",
              "</table>\n",
              "</div>\n",
              "      <button class=\"colab-df-convert\" onclick=\"convertToInteractive('df-c85c6d60-6d6e-4273-885a-34822218b636')\"\n",
              "              title=\"Convert this dataframe to an interactive table.\"\n",
              "              style=\"display:none;\">\n",
              "        \n",
              "  <svg xmlns=\"http://www.w3.org/2000/svg\" height=\"24px\"viewBox=\"0 0 24 24\"\n",
              "       width=\"24px\">\n",
              "    <path d=\"M0 0h24v24H0V0z\" fill=\"none\"/>\n",
              "    <path d=\"M18.56 5.44l.94 2.06.94-2.06 2.06-.94-2.06-.94-.94-2.06-.94 2.06-2.06.94zm-11 1L8.5 8.5l.94-2.06 2.06-.94-2.06-.94L8.5 2.5l-.94 2.06-2.06.94zm10 10l.94 2.06.94-2.06 2.06-.94-2.06-.94-.94-2.06-.94 2.06-2.06.94z\"/><path d=\"M17.41 7.96l-1.37-1.37c-.4-.4-.92-.59-1.43-.59-.52 0-1.04.2-1.43.59L10.3 9.45l-7.72 7.72c-.78.78-.78 2.05 0 2.83L4 21.41c.39.39.9.59 1.41.59.51 0 1.02-.2 1.41-.59l7.78-7.78 2.81-2.81c.8-.78.8-2.07 0-2.86zM5.41 20L4 18.59l7.72-7.72 1.47 1.35L5.41 20z\"/>\n",
              "  </svg>\n",
              "      </button>\n",
              "      \n",
              "  <style>\n",
              "    .colab-df-container {\n",
              "      display:flex;\n",
              "      flex-wrap:wrap;\n",
              "      gap: 12px;\n",
              "    }\n",
              "\n",
              "    .colab-df-convert {\n",
              "      background-color: #E8F0FE;\n",
              "      border: none;\n",
              "      border-radius: 50%;\n",
              "      cursor: pointer;\n",
              "      display: none;\n",
              "      fill: #1967D2;\n",
              "      height: 32px;\n",
              "      padding: 0 0 0 0;\n",
              "      width: 32px;\n",
              "    }\n",
              "\n",
              "    .colab-df-convert:hover {\n",
              "      background-color: #E2EBFA;\n",
              "      box-shadow: 0px 1px 2px rgba(60, 64, 67, 0.3), 0px 1px 3px 1px rgba(60, 64, 67, 0.15);\n",
              "      fill: #174EA6;\n",
              "    }\n",
              "\n",
              "    [theme=dark] .colab-df-convert {\n",
              "      background-color: #3B4455;\n",
              "      fill: #D2E3FC;\n",
              "    }\n",
              "\n",
              "    [theme=dark] .colab-df-convert:hover {\n",
              "      background-color: #434B5C;\n",
              "      box-shadow: 0px 1px 3px 1px rgba(0, 0, 0, 0.15);\n",
              "      filter: drop-shadow(0px 1px 2px rgba(0, 0, 0, 0.3));\n",
              "      fill: #FFFFFF;\n",
              "    }\n",
              "  </style>\n",
              "\n",
              "      <script>\n",
              "        const buttonEl =\n",
              "          document.querySelector('#df-c85c6d60-6d6e-4273-885a-34822218b636 button.colab-df-convert');\n",
              "        buttonEl.style.display =\n",
              "          google.colab.kernel.accessAllowed ? 'block' : 'none';\n",
              "\n",
              "        async function convertToInteractive(key) {\n",
              "          const element = document.querySelector('#df-c85c6d60-6d6e-4273-885a-34822218b636');\n",
              "          const dataTable =\n",
              "            await google.colab.kernel.invokeFunction('convertToInteractive',\n",
              "                                                     [key], {});\n",
              "          if (!dataTable) return;\n",
              "\n",
              "          const docLinkHtml = 'Like what you see? Visit the ' +\n",
              "            '<a target=\"_blank\" href=https://colab.research.google.com/notebooks/data_table.ipynb>data table notebook</a>'\n",
              "            + ' to learn more about interactive tables.';\n",
              "          element.innerHTML = '';\n",
              "          dataTable['output_type'] = 'display_data';\n",
              "          await google.colab.output.renderOutput(dataTable, element);\n",
              "          const docLink = document.createElement('div');\n",
              "          docLink.innerHTML = docLinkHtml;\n",
              "          element.appendChild(docLink);\n",
              "        }\n",
              "      </script>\n",
              "    </div>\n",
              "  </div>\n",
              "  "
            ],
            "text/plain": [
              "         xs1        xs2         xs3        xs4         xs5         xs6  \\\n",
              "0  22.145063  61.341648  612.720965  92.263350  110.608746  336.532519   \n",
              "1  21.070552  61.936690  613.288690  92.296894  111.187354  345.557790   \n",
              "2  22.396227  62.394607  607.706115  92.674782  111.151746  340.013010   \n",
              "3  20.912552  61.453081  602.733841  90.756061  111.190299  347.828972   \n",
              "4  22.070204  62.131923  618.636366  92.325186  110.742548  334.120888   \n",
              "\n",
              "          xs7        xs8  \n",
              "0  615.487047  93.092009  \n",
              "1  618.298205  93.236768  \n",
              "2  613.013097  90.599873  \n",
              "3  610.310325  92.562133  \n",
              "4  614.771046  91.960464  "
            ]
          },
          "metadata": {},
          "execution_count": 18
        }
      ]
    },
    {
      "cell_type": "code",
      "execution_count": 19,
      "id": "29d8e7fa",
      "metadata": {
        "id": "29d8e7fa"
      },
      "outputs": [],
      "source": [
        "y_data = df.iloc[:, -1]"
      ]
    },
    {
      "cell_type": "code",
      "source": [
        "y_data.head()"
      ],
      "metadata": {
        "colab": {
          "base_uri": "https://localhost:8080/"
        },
        "id": "uKDjZsPawRzR",
        "outputId": "c131e785-b465-4286-bd65-65cfa6fbf952"
      },
      "id": "uKDjZsPawRzR",
      "execution_count": 20,
      "outputs": [
        {
          "output_type": "execute_result",
          "data": {
            "text/plain": [
              "0    0\n",
              "1    0\n",
              "2    0\n",
              "3    0\n",
              "4    0\n",
              "Name: label, dtype: int64"
            ]
          },
          "metadata": {},
          "execution_count": 20
        }
      ]
    },
    {
      "cell_type": "code",
      "execution_count": 21,
      "id": "e48312fa",
      "metadata": {
        "colab": {
          "base_uri": "https://localhost:8080/"
        },
        "id": "e48312fa",
        "outputId": "3fde85ff-eb8d-45bb-a979-bb9b5e4b0756"
      },
      "outputs": [
        {
          "output_type": "execute_result",
          "data": {
            "text/plain": [
              "((11148, 8), (11148,))"
            ]
          },
          "metadata": {},
          "execution_count": 21
        }
      ],
      "source": [
        "X_data.shape,y_data.shape"
      ]
    },
    {
      "cell_type": "code",
      "execution_count": 22,
      "id": "21e10898",
      "metadata": {
        "colab": {
          "base_uri": "https://localhost:8080/"
        },
        "id": "21e10898",
        "outputId": "62188844-2dbe-4118-9d71-031f7b2b1860"
      },
      "outputs": [
        {
          "output_type": "execute_result",
          "data": {
            "text/plain": [
              "0    85.010764\n",
              "5     2.108001\n",
              "1     1.991389\n",
              "2     1.982418\n",
              "4     1.937567\n",
              "8     1.803014\n",
              "6     1.749193\n",
              "3     1.722282\n",
              "7     1.695371\n",
              "Name: label, dtype: float64"
            ]
          },
          "metadata": {},
          "execution_count": 22
        }
      ],
      "source": [
        "y_data.value_counts()/y_data.shape[0]*100\n",
        "#Imbalanced Dataset"
      ]
    },
    {
      "cell_type": "code",
      "execution_count": 23,
      "id": "4e7c2ea3",
      "metadata": {
        "colab": {
          "base_uri": "https://localhost:8080/"
        },
        "id": "4e7c2ea3",
        "outputId": "32643935-5b7a-4ade-f45b-04b25f7221c2"
      },
      "outputs": [
        {
          "output_type": "execute_result",
          "data": {
            "text/plain": [
              "0    9477\n",
              "5     235\n",
              "1     222\n",
              "2     221\n",
              "4     216\n",
              "8     201\n",
              "6     195\n",
              "3     192\n",
              "7     189\n",
              "Name: label, dtype: int64"
            ]
          },
          "metadata": {},
          "execution_count": 23
        }
      ],
      "source": [
        "y_data.value_counts()"
      ]
    },
    {
      "cell_type": "code",
      "source": [
        "from tensorflow.keras.utils import to_categorical\n",
        "from sklearn.preprocessing import LabelEncoder\n",
        "labelencoder=LabelEncoder()\n",
        "y_data = to_categorical(labelencoder.fit_transform(y_data))"
      ],
      "metadata": {
        "id": "EDpJ13Cswf-I"
      },
      "id": "EDpJ13Cswf-I",
      "execution_count": 24,
      "outputs": []
    },
    {
      "cell_type": "code",
      "source": [
        "y_data[0]"
      ],
      "metadata": {
        "colab": {
          "base_uri": "https://localhost:8080/"
        },
        "id": "4l5o4TC7yS2C",
        "outputId": "b2927edb-9dd3-4b6d-a5bb-bc0ee5b60ce3"
      },
      "id": "4l5o4TC7yS2C",
      "execution_count": 25,
      "outputs": [
        {
          "output_type": "execute_result",
          "data": {
            "text/plain": [
              "array([1., 0., 0., 0., 0., 0., 0., 0., 0.], dtype=float32)"
            ]
          },
          "metadata": {},
          "execution_count": 25
        }
      ]
    },
    {
      "cell_type": "code",
      "source": [
        "y_data[11144]"
      ],
      "metadata": {
        "colab": {
          "base_uri": "https://localhost:8080/"
        },
        "id": "ZuFdRtbAygnD",
        "outputId": "b581a101-1061-4553-a542-c105759f3bdc"
      },
      "id": "ZuFdRtbAygnD",
      "execution_count": 26,
      "outputs": [
        {
          "output_type": "execute_result",
          "data": {
            "text/plain": [
              "array([0., 0., 0., 1., 0., 0., 0., 0., 0.], dtype=float32)"
            ]
          },
          "metadata": {},
          "execution_count": 26
        }
      ]
    },
    {
      "cell_type": "code",
      "execution_count": 27,
      "id": "dcb9481b",
      "metadata": {
        "id": "dcb9481b"
      },
      "outputs": [],
      "source": [
        "X_train, X_test, y_train, y_test = train_test_split(X_data, y_data, test_size = 0.2, random_state = 7)"
      ]
    },
    {
      "cell_type": "code",
      "execution_count": 28,
      "id": "b94d2bcd",
      "metadata": {
        "id": "b94d2bcd"
      },
      "outputs": [],
      "source": [
        "X_train = preprocessing.normalize(X_train)\n",
        "X_test = preprocessing.normalize(X_test)"
      ]
    },
    {
      "cell_type": "code",
      "execution_count": 29,
      "id": "f2af58bd",
      "metadata": {
        "colab": {
          "base_uri": "https://localhost:8080/",
          "height": 300
        },
        "id": "f2af58bd",
        "outputId": "5fff4760-8a44-4a80-e918-6490daa93d3a"
      },
      "outputs": [
        {
          "output_type": "execute_result",
          "data": {
            "text/html": [
              "\n",
              "  <div id=\"df-32ab53ba-6b34-4d7f-b5a8-96a23f49b5d8\">\n",
              "    <div class=\"colab-df-container\">\n",
              "      <div>\n",
              "<style scoped>\n",
              "    .dataframe tbody tr th:only-of-type {\n",
              "        vertical-align: middle;\n",
              "    }\n",
              "\n",
              "    .dataframe tbody tr th {\n",
              "        vertical-align: top;\n",
              "    }\n",
              "\n",
              "    .dataframe thead th {\n",
              "        text-align: right;\n",
              "    }\n",
              "</style>\n",
              "<table border=\"1\" class=\"dataframe\">\n",
              "  <thead>\n",
              "    <tr style=\"text-align: right;\">\n",
              "      <th></th>\n",
              "      <th>count</th>\n",
              "      <th>mean</th>\n",
              "      <th>std</th>\n",
              "      <th>min</th>\n",
              "      <th>25%</th>\n",
              "      <th>50%</th>\n",
              "      <th>75%</th>\n",
              "      <th>max</th>\n",
              "    </tr>\n",
              "  </thead>\n",
              "  <tbody>\n",
              "    <tr>\n",
              "      <th>0</th>\n",
              "      <td>8918.0</td>\n",
              "      <td>0.022773</td>\n",
              "      <td>0.000634</td>\n",
              "      <td>0.021212</td>\n",
              "      <td>0.022242</td>\n",
              "      <td>0.022767</td>\n",
              "      <td>0.023296</td>\n",
              "      <td>0.029365</td>\n",
              "    </tr>\n",
              "    <tr>\n",
              "      <th>1</th>\n",
              "      <td>8918.0</td>\n",
              "      <td>0.065059</td>\n",
              "      <td>0.000734</td>\n",
              "      <td>0.061919</td>\n",
              "      <td>0.064509</td>\n",
              "      <td>0.065063</td>\n",
              "      <td>0.065596</td>\n",
              "      <td>0.071195</td>\n",
              "    </tr>\n",
              "    <tr>\n",
              "      <th>2</th>\n",
              "      <td>8918.0</td>\n",
              "      <td>0.645289</td>\n",
              "      <td>0.004658</td>\n",
              "      <td>0.617871</td>\n",
              "      <td>0.641886</td>\n",
              "      <td>0.645241</td>\n",
              "      <td>0.648654</td>\n",
              "      <td>0.674428</td>\n",
              "    </tr>\n",
              "    <tr>\n",
              "      <th>3</th>\n",
              "      <td>8918.0</td>\n",
              "      <td>0.097312</td>\n",
              "      <td>0.001102</td>\n",
              "      <td>0.092715</td>\n",
              "      <td>0.096498</td>\n",
              "      <td>0.097322</td>\n",
              "      <td>0.098110</td>\n",
              "      <td>0.105367</td>\n",
              "    </tr>\n",
              "    <tr>\n",
              "      <th>4</th>\n",
              "      <td>8918.0</td>\n",
              "      <td>0.117375</td>\n",
              "      <td>0.000760</td>\n",
              "      <td>0.112484</td>\n",
              "      <td>0.116839</td>\n",
              "      <td>0.117371</td>\n",
              "      <td>0.117913</td>\n",
              "      <td>0.119755</td>\n",
              "    </tr>\n",
              "    <tr>\n",
              "      <th>5</th>\n",
              "      <td>8918.0</td>\n",
              "      <td>0.359972</td>\n",
              "      <td>0.005654</td>\n",
              "      <td>0.337346</td>\n",
              "      <td>0.355359</td>\n",
              "      <td>0.360014</td>\n",
              "      <td>0.364603</td>\n",
              "      <td>0.373827</td>\n",
              "    </tr>\n",
              "    <tr>\n",
              "      <th>6</th>\n",
              "      <td>8918.0</td>\n",
              "      <td>0.645352</td>\n",
              "      <td>0.004657</td>\n",
              "      <td>0.620630</td>\n",
              "      <td>0.641989</td>\n",
              "      <td>0.645379</td>\n",
              "      <td>0.648727</td>\n",
              "      <td>0.681357</td>\n",
              "    </tr>\n",
              "    <tr>\n",
              "      <th>7</th>\n",
              "      <td>8918.0</td>\n",
              "      <td>0.097292</td>\n",
              "      <td>0.001090</td>\n",
              "      <td>0.093427</td>\n",
              "      <td>0.096488</td>\n",
              "      <td>0.097290</td>\n",
              "      <td>0.098091</td>\n",
              "      <td>0.105653</td>\n",
              "    </tr>\n",
              "  </tbody>\n",
              "</table>\n",
              "</div>\n",
              "      <button class=\"colab-df-convert\" onclick=\"convertToInteractive('df-32ab53ba-6b34-4d7f-b5a8-96a23f49b5d8')\"\n",
              "              title=\"Convert this dataframe to an interactive table.\"\n",
              "              style=\"display:none;\">\n",
              "        \n",
              "  <svg xmlns=\"http://www.w3.org/2000/svg\" height=\"24px\"viewBox=\"0 0 24 24\"\n",
              "       width=\"24px\">\n",
              "    <path d=\"M0 0h24v24H0V0z\" fill=\"none\"/>\n",
              "    <path d=\"M18.56 5.44l.94 2.06.94-2.06 2.06-.94-2.06-.94-.94-2.06-.94 2.06-2.06.94zm-11 1L8.5 8.5l.94-2.06 2.06-.94-2.06-.94L8.5 2.5l-.94 2.06-2.06.94zm10 10l.94 2.06.94-2.06 2.06-.94-2.06-.94-.94-2.06-.94 2.06-2.06.94z\"/><path d=\"M17.41 7.96l-1.37-1.37c-.4-.4-.92-.59-1.43-.59-.52 0-1.04.2-1.43.59L10.3 9.45l-7.72 7.72c-.78.78-.78 2.05 0 2.83L4 21.41c.39.39.9.59 1.41.59.51 0 1.02-.2 1.41-.59l7.78-7.78 2.81-2.81c.8-.78.8-2.07 0-2.86zM5.41 20L4 18.59l7.72-7.72 1.47 1.35L5.41 20z\"/>\n",
              "  </svg>\n",
              "      </button>\n",
              "      \n",
              "  <style>\n",
              "    .colab-df-container {\n",
              "      display:flex;\n",
              "      flex-wrap:wrap;\n",
              "      gap: 12px;\n",
              "    }\n",
              "\n",
              "    .colab-df-convert {\n",
              "      background-color: #E8F0FE;\n",
              "      border: none;\n",
              "      border-radius: 50%;\n",
              "      cursor: pointer;\n",
              "      display: none;\n",
              "      fill: #1967D2;\n",
              "      height: 32px;\n",
              "      padding: 0 0 0 0;\n",
              "      width: 32px;\n",
              "    }\n",
              "\n",
              "    .colab-df-convert:hover {\n",
              "      background-color: #E2EBFA;\n",
              "      box-shadow: 0px 1px 2px rgba(60, 64, 67, 0.3), 0px 1px 3px 1px rgba(60, 64, 67, 0.15);\n",
              "      fill: #174EA6;\n",
              "    }\n",
              "\n",
              "    [theme=dark] .colab-df-convert {\n",
              "      background-color: #3B4455;\n",
              "      fill: #D2E3FC;\n",
              "    }\n",
              "\n",
              "    [theme=dark] .colab-df-convert:hover {\n",
              "      background-color: #434B5C;\n",
              "      box-shadow: 0px 1px 3px 1px rgba(0, 0, 0, 0.15);\n",
              "      filter: drop-shadow(0px 1px 2px rgba(0, 0, 0, 0.3));\n",
              "      fill: #FFFFFF;\n",
              "    }\n",
              "  </style>\n",
              "\n",
              "      <script>\n",
              "        const buttonEl =\n",
              "          document.querySelector('#df-32ab53ba-6b34-4d7f-b5a8-96a23f49b5d8 button.colab-df-convert');\n",
              "        buttonEl.style.display =\n",
              "          google.colab.kernel.accessAllowed ? 'block' : 'none';\n",
              "\n",
              "        async function convertToInteractive(key) {\n",
              "          const element = document.querySelector('#df-32ab53ba-6b34-4d7f-b5a8-96a23f49b5d8');\n",
              "          const dataTable =\n",
              "            await google.colab.kernel.invokeFunction('convertToInteractive',\n",
              "                                                     [key], {});\n",
              "          if (!dataTable) return;\n",
              "\n",
              "          const docLinkHtml = 'Like what you see? Visit the ' +\n",
              "            '<a target=\"_blank\" href=https://colab.research.google.com/notebooks/data_table.ipynb>data table notebook</a>'\n",
              "            + ' to learn more about interactive tables.';\n",
              "          element.innerHTML = '';\n",
              "          dataTable['output_type'] = 'display_data';\n",
              "          await google.colab.output.renderOutput(dataTable, element);\n",
              "          const docLink = document.createElement('div');\n",
              "          docLink.innerHTML = docLinkHtml;\n",
              "          element.appendChild(docLink);\n",
              "        }\n",
              "      </script>\n",
              "    </div>\n",
              "  </div>\n",
              "  "
            ],
            "text/plain": [
              "    count      mean       std       min       25%       50%       75%  \\\n",
              "0  8918.0  0.022773  0.000634  0.021212  0.022242  0.022767  0.023296   \n",
              "1  8918.0  0.065059  0.000734  0.061919  0.064509  0.065063  0.065596   \n",
              "2  8918.0  0.645289  0.004658  0.617871  0.641886  0.645241  0.648654   \n",
              "3  8918.0  0.097312  0.001102  0.092715  0.096498  0.097322  0.098110   \n",
              "4  8918.0  0.117375  0.000760  0.112484  0.116839  0.117371  0.117913   \n",
              "5  8918.0  0.359972  0.005654  0.337346  0.355359  0.360014  0.364603   \n",
              "6  8918.0  0.645352  0.004657  0.620630  0.641989  0.645379  0.648727   \n",
              "7  8918.0  0.097292  0.001090  0.093427  0.096488  0.097290  0.098091   \n",
              "\n",
              "        max  \n",
              "0  0.029365  \n",
              "1  0.071195  \n",
              "2  0.674428  \n",
              "3  0.105367  \n",
              "4  0.119755  \n",
              "5  0.373827  \n",
              "6  0.681357  \n",
              "7  0.105653  "
            ]
          },
          "metadata": {},
          "execution_count": 29
        }
      ],
      "source": [
        "pd.DataFrame(X_train).describe().T"
      ]
    },
    {
      "cell_type": "code",
      "execution_count": 30,
      "id": "a9ee0d5a",
      "metadata": {
        "colab": {
          "base_uri": "https://localhost:8080/"
        },
        "id": "a9ee0d5a",
        "outputId": "895d38d7-75c2-4ffd-9ea7-204106b01e3d"
      },
      "outputs": [
        {
          "output_type": "stream",
          "name": "stdout",
          "text": [
            "(8918, 8)\n",
            "(8918, 9)\n",
            "(2230, 8)\n",
            "(2230, 9)\n"
          ]
        }
      ],
      "source": [
        "print(X_train.shape)\n",
        "print(y_train.shape)\n",
        "print(X_test.shape)\n",
        "print(y_test.shape)"
      ]
    },
    {
      "cell_type": "markdown",
      "id": "44cc083d",
      "metadata": {
        "id": "44cc083d"
      },
      "source": [
        "# Creating a model\n",
        "Keras model object can be created with Sequential class\n",
        "\n",
        "At the outset, the model is empty per se. It is completed by adding additional layers and compilation"
      ]
    },
    {
      "cell_type": "code",
      "execution_count": 81,
      "id": "55a45645",
      "metadata": {
        "id": "55a45645"
      },
      "outputs": [],
      "source": [
        "tf.keras.backend.clear_session()"
      ]
    },
    {
      "cell_type": "code",
      "execution_count": 82,
      "id": "4004db66",
      "metadata": {
        "id": "4004db66"
      },
      "outputs": [],
      "source": [
        "model = Sequential()"
      ]
    },
    {
      "cell_type": "markdown",
      "id": "29d0026f",
      "metadata": {
        "id": "29d0026f"
      },
      "source": [
        "# Adding layers [layers and activations]\n",
        "Keras layers can be added to the model\n",
        "\n",
        "Adding layers are like stacking lego blocks one by one\n",
        "\n",
        "It should be noted that as this is a classification problem, sigmoid layer (softmax for multi-class problems) should be added"
      ]
    },
    {
      "cell_type": "code",
      "execution_count": 83,
      "id": "c20f8b0c",
      "metadata": {
        "id": "c20f8b0c"
      },
      "outputs": [],
      "source": [
        "model.add(Dense(100, input_shape = (8,), activation = 'relu'))\n",
        "model.add(Dense(200, activation = 'relu'))\n",
        "model.add(Dense(100, activation = 'relu'))\n",
        "model.add(Dense(9, activation = 'softmax'))\n",
        "# method.add - add dense layer - fully connected, Play with ,kernel_initializer=,bias_initializer="
      ]
    },
    {
      "cell_type": "markdown",
      "id": "ddfac3b9",
      "metadata": {
        "id": "ddfac3b9"
      },
      "source": [
        "Model compile [optimizers and loss functions]\n",
        "\n",
        "Keras model should be \"compiled\" prior to training\n",
        "\n",
        "Types of loss (function) and optimizer should be designated"
      ]
    },
    {
      "cell_type": "code",
      "execution_count": 84,
      "id": "d82b5146",
      "metadata": {
        "id": "d82b5146"
      },
      "outputs": [],
      "source": [
        "sgd = optimizers.Adam(learning_rate = 0.001)\n",
        "#Optimization Function"
      ]
    },
    {
      "cell_type": "code",
      "execution_count": 87,
      "id": "ad327cae",
      "metadata": {
        "id": "ad327cae"
      },
      "outputs": [],
      "source": [
        "model.compile(loss='categorical_crossentropy',metrics=['accuracy'],optimizer='adam')\n",
        "# Loss for compare and gives us the error,"
      ]
    },
    {
      "cell_type": "code",
      "execution_count": 88,
      "id": "d1bbb7e6",
      "metadata": {
        "colab": {
          "base_uri": "https://localhost:8080/"
        },
        "id": "d1bbb7e6",
        "outputId": "aee49595-b239-4ddb-9e46-f16f6e0eed34"
      },
      "outputs": [
        {
          "output_type": "stream",
          "name": "stdout",
          "text": [
            "Model: \"sequential\"\n",
            "_________________________________________________________________\n",
            " Layer (type)                Output Shape              Param #   \n",
            "=================================================================\n",
            " dense (Dense)               (None, 100)               900       \n",
            "                                                                 \n",
            " dense_1 (Dense)             (None, 200)               20200     \n",
            "                                                                 \n",
            " dense_2 (Dense)             (None, 100)               20100     \n",
            "                                                                 \n",
            " dense_3 (Dense)             (None, 9)                 909       \n",
            "                                                                 \n",
            "=================================================================\n",
            "Total params: 42,109\n",
            "Trainable params: 42,109\n",
            "Non-trainable params: 0\n",
            "_________________________________________________________________\n"
          ]
        }
      ],
      "source": [
        "model.summary()"
      ]
    },
    {
      "cell_type": "markdown",
      "id": "6b89ecd3",
      "metadata": {
        "id": "6b89ecd3"
      },
      "source": [
        "## Training the model"
      ]
    },
    {
      "cell_type": "code",
      "execution_count": 89,
      "id": "7e072fe5",
      "metadata": {
        "colab": {
          "base_uri": "https://localhost:8080/"
        },
        "id": "7e072fe5",
        "outputId": "c9f37c32-3f5d-47f8-84e4-733942defb5e"
      },
      "outputs": [
        {
          "output_type": "stream",
          "name": "stdout",
          "text": [
            "Epoch 1/100\n",
            "271/279 [============================>.] - ETA: 0s - loss: 0.8240 - accuracy: 0.8436\n",
            "Epoch 1: val_loss improved from inf to 0.71197, saving model to saved_models/audio_classification.hdf5\n",
            "279/279 [==============================] - 3s 9ms/step - loss: 0.8256 - accuracy: 0.8428 - val_loss: 0.7120 - val_accuracy: 0.8570\n",
            "Epoch 2/100\n",
            "265/279 [===========================>..] - ETA: 0s - loss: 0.7441 - accuracy: 0.8486\n",
            "Epoch 2: val_loss did not improve from 0.71197\n",
            "279/279 [==============================] - 1s 3ms/step - loss: 0.7447 - accuracy: 0.8484 - val_loss: 0.7182 - val_accuracy: 0.8570\n",
            "Epoch 3/100\n",
            "268/279 [===========================>..] - ETA: 0s - loss: 0.7444 - accuracy: 0.8484\n",
            "Epoch 3: val_loss improved from 0.71197 to 0.70915, saving model to saved_models/audio_classification.hdf5\n",
            "279/279 [==============================] - 1s 3ms/step - loss: 0.7444 - accuracy: 0.8484 - val_loss: 0.7092 - val_accuracy: 0.8570\n",
            "Epoch 4/100\n",
            "268/279 [===========================>..] - ETA: 0s - loss: 0.7436 - accuracy: 0.8486\n",
            "Epoch 4: val_loss did not improve from 0.70915\n",
            "279/279 [==============================] - 1s 3ms/step - loss: 0.7446 - accuracy: 0.8484 - val_loss: 0.7117 - val_accuracy: 0.8570\n",
            "Epoch 5/100\n",
            "258/279 [==========================>...] - ETA: 0s - loss: 0.7487 - accuracy: 0.8476\n",
            "Epoch 5: val_loss did not improve from 0.70915\n",
            "279/279 [==============================] - 1s 3ms/step - loss: 0.7457 - accuracy: 0.8484 - val_loss: 0.7093 - val_accuracy: 0.8570\n",
            "Epoch 6/100\n",
            "265/279 [===========================>..] - ETA: 0s - loss: 0.7467 - accuracy: 0.8483\n",
            "Epoch 6: val_loss did not improve from 0.70915\n",
            "279/279 [==============================] - 1s 3ms/step - loss: 0.7463 - accuracy: 0.8484 - val_loss: 0.7107 - val_accuracy: 0.8570\n",
            "Epoch 7/100\n",
            "263/279 [===========================>..] - ETA: 0s - loss: 0.7409 - accuracy: 0.8492\n",
            "Epoch 7: val_loss did not improve from 0.70915\n",
            "279/279 [==============================] - 1s 4ms/step - loss: 0.7447 - accuracy: 0.8484 - val_loss: 0.7189 - val_accuracy: 0.8570\n",
            "Epoch 8/100\n",
            "267/279 [===========================>..] - ETA: 0s - loss: 0.7427 - accuracy: 0.8490\n",
            "Epoch 8: val_loss did not improve from 0.70915\n",
            "279/279 [==============================] - 1s 3ms/step - loss: 0.7450 - accuracy: 0.8484 - val_loss: 0.7140 - val_accuracy: 0.8570\n",
            "Epoch 9/100\n",
            "268/279 [===========================>..] - ETA: 0s - loss: 0.7476 - accuracy: 0.8482\n",
            "Epoch 9: val_loss improved from 0.70915 to 0.70890, saving model to saved_models/audio_classification.hdf5\n",
            "279/279 [==============================] - 1s 3ms/step - loss: 0.7469 - accuracy: 0.8484 - val_loss: 0.7089 - val_accuracy: 0.8570\n",
            "Epoch 10/100\n",
            "270/279 [============================>.] - ETA: 0s - loss: 0.7460 - accuracy: 0.8480\n",
            "Epoch 10: val_loss did not improve from 0.70890\n",
            "279/279 [==============================] - 1s 3ms/step - loss: 0.7448 - accuracy: 0.8484 - val_loss: 0.7129 - val_accuracy: 0.8570\n",
            "Epoch 11/100\n",
            "265/279 [===========================>..] - ETA: 0s - loss: 0.7417 - accuracy: 0.8491\n",
            "Epoch 11: val_loss improved from 0.70890 to 0.70871, saving model to saved_models/audio_classification.hdf5\n",
            "279/279 [==============================] - 1s 3ms/step - loss: 0.7442 - accuracy: 0.8484 - val_loss: 0.7087 - val_accuracy: 0.8570\n",
            "Epoch 12/100\n",
            "279/279 [==============================] - ETA: 0s - loss: 0.7441 - accuracy: 0.8484\n",
            "Epoch 12: val_loss did not improve from 0.70871\n",
            "279/279 [==============================] - 1s 3ms/step - loss: 0.7441 - accuracy: 0.8484 - val_loss: 0.7089 - val_accuracy: 0.8570\n",
            "Epoch 13/100\n",
            "278/279 [============================>.] - ETA: 0s - loss: 0.7435 - accuracy: 0.8485\n",
            "Epoch 13: val_loss did not improve from 0.70871\n",
            "279/279 [==============================] - 1s 3ms/step - loss: 0.7438 - accuracy: 0.8484 - val_loss: 0.7111 - val_accuracy: 0.8570\n",
            "Epoch 14/100\n",
            "262/279 [===========================>..] - ETA: 0s - loss: 0.7548 - accuracy: 0.8458\n",
            "Epoch 14: val_loss did not improve from 0.70871\n",
            "279/279 [==============================] - 1s 3ms/step - loss: 0.7444 - accuracy: 0.8484 - val_loss: 0.7183 - val_accuracy: 0.8570\n",
            "Epoch 15/100\n",
            "258/279 [==========================>...] - ETA: 0s - loss: 0.7457 - accuracy: 0.8481\n",
            "Epoch 15: val_loss improved from 0.70871 to 0.70854, saving model to saved_models/audio_classification.hdf5\n",
            "279/279 [==============================] - 1s 3ms/step - loss: 0.7446 - accuracy: 0.8484 - val_loss: 0.7085 - val_accuracy: 0.8570\n",
            "Epoch 16/100\n",
            "269/279 [===========================>..] - ETA: 0s - loss: 0.7403 - accuracy: 0.8492\n",
            "Epoch 16: val_loss did not improve from 0.70854\n",
            "279/279 [==============================] - 1s 3ms/step - loss: 0.7434 - accuracy: 0.8484 - val_loss: 0.7141 - val_accuracy: 0.8570\n",
            "Epoch 17/100\n",
            "268/279 [===========================>..] - ETA: 0s - loss: 0.7470 - accuracy: 0.8476\n",
            "Epoch 17: val_loss did not improve from 0.70854\n",
            "279/279 [==============================] - 1s 3ms/step - loss: 0.7438 - accuracy: 0.8484 - val_loss: 0.7096 - val_accuracy: 0.8570\n",
            "Epoch 18/100\n",
            "271/279 [============================>.] - ETA: 0s - loss: 0.7443 - accuracy: 0.8482\n",
            "Epoch 18: val_loss improved from 0.70854 to 0.70844, saving model to saved_models/audio_classification.hdf5\n",
            "279/279 [==============================] - 1s 3ms/step - loss: 0.7440 - accuracy: 0.8484 - val_loss: 0.7084 - val_accuracy: 0.8570\n",
            "Epoch 19/100\n",
            "264/279 [===========================>..] - ETA: 0s - loss: 0.7441 - accuracy: 0.8482\n",
            "Epoch 19: val_loss did not improve from 0.70844\n",
            "279/279 [==============================] - 1s 3ms/step - loss: 0.7434 - accuracy: 0.8484 - val_loss: 0.7087 - val_accuracy: 0.8570\n",
            "Epoch 20/100\n",
            "276/279 [============================>.] - ETA: 0s - loss: 0.7454 - accuracy: 0.8482\n",
            "Epoch 20: val_loss did not improve from 0.70844\n",
            "279/279 [==============================] - 1s 3ms/step - loss: 0.7446 - accuracy: 0.8484 - val_loss: 0.7109 - val_accuracy: 0.8570\n",
            "Epoch 21/100\n",
            "263/279 [===========================>..] - ETA: 0s - loss: 0.7392 - accuracy: 0.8492\n",
            "Epoch 21: val_loss did not improve from 0.70844\n",
            "279/279 [==============================] - 1s 3ms/step - loss: 0.7426 - accuracy: 0.8484 - val_loss: 0.7172 - val_accuracy: 0.8570\n",
            "Epoch 22/100\n",
            "276/279 [============================>.] - ETA: 0s - loss: 0.7450 - accuracy: 0.8482\n",
            "Epoch 22: val_loss did not improve from 0.70844\n",
            "279/279 [==============================] - 1s 3ms/step - loss: 0.7443 - accuracy: 0.8484 - val_loss: 0.7134 - val_accuracy: 0.8570\n",
            "Epoch 23/100\n",
            "267/279 [===========================>..] - ETA: 0s - loss: 0.7434 - accuracy: 0.8484\n",
            "Epoch 23: val_loss did not improve from 0.70844\n",
            "279/279 [==============================] - 1s 3ms/step - loss: 0.7435 - accuracy: 0.8484 - val_loss: 0.7111 - val_accuracy: 0.8570\n",
            "Epoch 24/100\n",
            "264/279 [===========================>..] - ETA: 0s - loss: 0.7405 - accuracy: 0.8492\n",
            "Epoch 24: val_loss did not improve from 0.70844\n",
            "279/279 [==============================] - 1s 3ms/step - loss: 0.7435 - accuracy: 0.8484 - val_loss: 0.7114 - val_accuracy: 0.8570\n",
            "Epoch 25/100\n",
            "270/279 [============================>.] - ETA: 0s - loss: 0.7393 - accuracy: 0.8493\n",
            "Epoch 25: val_loss did not improve from 0.70844\n",
            "279/279 [==============================] - 1s 3ms/step - loss: 0.7426 - accuracy: 0.8484 - val_loss: 0.7135 - val_accuracy: 0.8570\n",
            "Epoch 26/100\n",
            "270/279 [============================>.] - ETA: 0s - loss: 0.7471 - accuracy: 0.8476\n",
            "Epoch 26: val_loss did not improve from 0.70844\n",
            "279/279 [==============================] - 1s 3ms/step - loss: 0.7439 - accuracy: 0.8484 - val_loss: 0.7098 - val_accuracy: 0.8570\n",
            "Epoch 27/100\n",
            "268/279 [===========================>..] - ETA: 0s - loss: 0.7439 - accuracy: 0.8484\n",
            "Epoch 27: val_loss improved from 0.70844 to 0.70839, saving model to saved_models/audio_classification.hdf5\n",
            "279/279 [==============================] - 1s 3ms/step - loss: 0.7438 - accuracy: 0.8484 - val_loss: 0.7084 - val_accuracy: 0.8570\n",
            "Epoch 28/100\n",
            "270/279 [============================>.] - ETA: 0s - loss: 0.7433 - accuracy: 0.8484\n",
            "Epoch 28: val_loss did not improve from 0.70839\n",
            "279/279 [==============================] - 1s 3ms/step - loss: 0.7432 - accuracy: 0.8484 - val_loss: 0.7095 - val_accuracy: 0.8570\n",
            "Epoch 29/100\n",
            "268/279 [===========================>..] - ETA: 0s - loss: 0.7439 - accuracy: 0.8482\n",
            "Epoch 29: val_loss did not improve from 0.70839\n",
            "279/279 [==============================] - 1s 3ms/step - loss: 0.7431 - accuracy: 0.8484 - val_loss: 0.7108 - val_accuracy: 0.8570\n",
            "Epoch 30/100\n",
            "270/279 [============================>.] - ETA: 0s - loss: 0.7448 - accuracy: 0.8477\n",
            "Epoch 30: val_loss did not improve from 0.70839\n",
            "279/279 [==============================] - 1s 3ms/step - loss: 0.7421 - accuracy: 0.8484 - val_loss: 0.7095 - val_accuracy: 0.8570\n",
            "Epoch 31/100\n",
            "279/279 [==============================] - ETA: 0s - loss: 0.7445 - accuracy: 0.8484\n",
            "Epoch 31: val_loss improved from 0.70839 to 0.70820, saving model to saved_models/audio_classification.hdf5\n",
            "279/279 [==============================] - 1s 3ms/step - loss: 0.7445 - accuracy: 0.8484 - val_loss: 0.7082 - val_accuracy: 0.8570\n",
            "Epoch 32/100\n",
            "266/279 [===========================>..] - ETA: 0s - loss: 0.7513 - accuracy: 0.8462\n",
            "Epoch 32: val_loss did not improve from 0.70820\n",
            "279/279 [==============================] - 1s 3ms/step - loss: 0.7431 - accuracy: 0.8484 - val_loss: 0.7084 - val_accuracy: 0.8570\n",
            "Epoch 33/100\n",
            "265/279 [===========================>..] - ETA: 0s - loss: 0.7480 - accuracy: 0.8471\n",
            "Epoch 33: val_loss did not improve from 0.70820\n",
            "279/279 [==============================] - 1s 3ms/step - loss: 0.7429 - accuracy: 0.8484 - val_loss: 0.7089 - val_accuracy: 0.8570\n",
            "Epoch 34/100\n",
            "271/279 [============================>.] - ETA: 0s - loss: 0.7411 - accuracy: 0.8491\n",
            "Epoch 34: val_loss did not improve from 0.70820\n",
            "279/279 [==============================] - 1s 3ms/step - loss: 0.7438 - accuracy: 0.8484 - val_loss: 0.7089 - val_accuracy: 0.8570\n",
            "Epoch 35/100\n",
            "267/279 [===========================>..] - ETA: 0s - loss: 0.7472 - accuracy: 0.8478\n",
            "Epoch 35: val_loss did not improve from 0.70820\n",
            "279/279 [==============================] - 1s 3ms/step - loss: 0.7451 - accuracy: 0.8484 - val_loss: 0.7094 - val_accuracy: 0.8570\n",
            "Epoch 36/100\n",
            "271/279 [============================>.] - ETA: 0s - loss: 0.7422 - accuracy: 0.8486\n",
            "Epoch 36: val_loss did not improve from 0.70820\n",
            "279/279 [==============================] - 1s 3ms/step - loss: 0.7430 - accuracy: 0.8484 - val_loss: 0.7093 - val_accuracy: 0.8570\n",
            "Epoch 37/100\n",
            "270/279 [============================>.] - ETA: 0s - loss: 0.7373 - accuracy: 0.8498\n",
            "Epoch 37: val_loss did not improve from 0.70820\n",
            "279/279 [==============================] - 1s 4ms/step - loss: 0.7424 - accuracy: 0.8484 - val_loss: 0.7173 - val_accuracy: 0.8570\n",
            "Epoch 38/100\n",
            "264/279 [===========================>..] - ETA: 0s - loss: 0.7387 - accuracy: 0.8497\n",
            "Epoch 38: val_loss did not improve from 0.70820\n",
            "279/279 [==============================] - 1s 3ms/step - loss: 0.7433 - accuracy: 0.8484 - val_loss: 0.7150 - val_accuracy: 0.8570\n",
            "Epoch 39/100\n",
            "267/279 [===========================>..] - ETA: 0s - loss: 0.7430 - accuracy: 0.8484\n",
            "Epoch 39: val_loss did not improve from 0.70820\n",
            "279/279 [==============================] - 1s 3ms/step - loss: 0.7430 - accuracy: 0.8484 - val_loss: 0.7099 - val_accuracy: 0.8570\n",
            "Epoch 40/100\n",
            "269/279 [===========================>..] - ETA: 0s - loss: 0.7447 - accuracy: 0.8478\n",
            "Epoch 40: val_loss did not improve from 0.70820\n",
            "279/279 [==============================] - 1s 3ms/step - loss: 0.7423 - accuracy: 0.8484 - val_loss: 0.7087 - val_accuracy: 0.8570\n",
            "Epoch 41/100\n",
            "275/279 [============================>.] - ETA: 0s - loss: 0.7420 - accuracy: 0.8486\n",
            "Epoch 41: val_loss did not improve from 0.70820\n",
            "279/279 [==============================] - 1s 3ms/step - loss: 0.7430 - accuracy: 0.8484 - val_loss: 0.7085 - val_accuracy: 0.8570\n",
            "Epoch 42/100\n",
            "265/279 [===========================>..] - ETA: 0s - loss: 0.7466 - accuracy: 0.8473\n",
            "Epoch 42: val_loss did not improve from 0.70820\n",
            "279/279 [==============================] - 1s 3ms/step - loss: 0.7424 - accuracy: 0.8484 - val_loss: 0.7088 - val_accuracy: 0.8570\n",
            "Epoch 43/100\n",
            "279/279 [==============================] - ETA: 0s - loss: 0.7429 - accuracy: 0.8484\n",
            "Epoch 43: val_loss did not improve from 0.70820\n",
            "279/279 [==============================] - 1s 3ms/step - loss: 0.7429 - accuracy: 0.8484 - val_loss: 0.7123 - val_accuracy: 0.8570\n",
            "Epoch 44/100\n",
            "273/279 [============================>.] - ETA: 0s - loss: 0.7416 - accuracy: 0.8484\n",
            "Epoch 44: val_loss did not improve from 0.70820\n",
            "279/279 [==============================] - 1s 3ms/step - loss: 0.7418 - accuracy: 0.8484 - val_loss: 0.7134 - val_accuracy: 0.8570\n",
            "Epoch 45/100\n",
            "272/279 [============================>.] - ETA: 0s - loss: 0.7441 - accuracy: 0.8482\n",
            "Epoch 45: val_loss did not improve from 0.70820\n",
            "279/279 [==============================] - 1s 3ms/step - loss: 0.7434 - accuracy: 0.8484 - val_loss: 0.7157 - val_accuracy: 0.8570\n",
            "Epoch 46/100\n",
            "264/279 [===========================>..] - ETA: 0s - loss: 0.7444 - accuracy: 0.8481\n",
            "Epoch 46: val_loss did not improve from 0.70820\n",
            "279/279 [==============================] - 1s 3ms/step - loss: 0.7433 - accuracy: 0.8484 - val_loss: 0.7083 - val_accuracy: 0.8570\n",
            "Epoch 47/100\n",
            "266/279 [===========================>..] - ETA: 0s - loss: 0.7424 - accuracy: 0.8484\n",
            "Epoch 47: val_loss did not improve from 0.70820\n",
            "279/279 [==============================] - 1s 3ms/step - loss: 0.7428 - accuracy: 0.8484 - val_loss: 0.7085 - val_accuracy: 0.8570\n",
            "Epoch 48/100\n",
            "270/279 [============================>.] - ETA: 0s - loss: 0.7423 - accuracy: 0.8485\n",
            "Epoch 48: val_loss did not improve from 0.70820\n",
            "279/279 [==============================] - 1s 3ms/step - loss: 0.7428 - accuracy: 0.8484 - val_loss: 0.7095 - val_accuracy: 0.8570\n",
            "Epoch 49/100\n",
            "266/279 [===========================>..] - ETA: 0s - loss: 0.7426 - accuracy: 0.8484\n",
            "Epoch 49: val_loss did not improve from 0.70820\n",
            "279/279 [==============================] - 1s 4ms/step - loss: 0.7426 - accuracy: 0.8484 - val_loss: 0.7084 - val_accuracy: 0.8570\n",
            "Epoch 50/100\n",
            "279/279 [==============================] - ETA: 0s - loss: 0.7421 - accuracy: 0.8484\n",
            "Epoch 50: val_loss did not improve from 0.70820\n",
            "279/279 [==============================] - 1s 3ms/step - loss: 0.7421 - accuracy: 0.8484 - val_loss: 0.7097 - val_accuracy: 0.8570\n",
            "Epoch 51/100\n",
            "268/279 [===========================>..] - ETA: 0s - loss: 0.7390 - accuracy: 0.8491\n",
            "Epoch 51: val_loss did not improve from 0.70820\n",
            "279/279 [==============================] - 1s 3ms/step - loss: 0.7419 - accuracy: 0.8484 - val_loss: 0.7180 - val_accuracy: 0.8570\n",
            "Epoch 52/100\n",
            "260/279 [==========================>...] - ETA: 0s - loss: 0.7477 - accuracy: 0.8471\n",
            "Epoch 52: val_loss did not improve from 0.70820\n",
            "279/279 [==============================] - 1s 3ms/step - loss: 0.7427 - accuracy: 0.8484 - val_loss: 0.7089 - val_accuracy: 0.8570\n",
            "Epoch 53/100\n",
            "267/279 [===========================>..] - ETA: 0s - loss: 0.7404 - accuracy: 0.8490\n",
            "Epoch 53: val_loss did not improve from 0.70820\n",
            "279/279 [==============================] - 1s 3ms/step - loss: 0.7427 - accuracy: 0.8484 - val_loss: 0.7094 - val_accuracy: 0.8570\n",
            "Epoch 54/100\n",
            "264/279 [===========================>..] - ETA: 0s - loss: 0.7484 - accuracy: 0.8467\n",
            "Epoch 54: val_loss did not improve from 0.70820\n",
            "279/279 [==============================] - 1s 3ms/step - loss: 0.7418 - accuracy: 0.8484 - val_loss: 0.7104 - val_accuracy: 0.8570\n",
            "Epoch 55/100\n",
            "271/279 [============================>.] - ETA: 0s - loss: 0.7431 - accuracy: 0.8482\n",
            "Epoch 55: val_loss did not improve from 0.70820\n",
            "279/279 [==============================] - 1s 3ms/step - loss: 0.7425 - accuracy: 0.8484 - val_loss: 0.7082 - val_accuracy: 0.8570\n",
            "Epoch 56/100\n",
            "269/279 [===========================>..] - ETA: 0s - loss: 0.7442 - accuracy: 0.8479\n",
            "Epoch 56: val_loss did not improve from 0.70820\n",
            "279/279 [==============================] - 1s 3ms/step - loss: 0.7428 - accuracy: 0.8484 - val_loss: 0.7138 - val_accuracy: 0.8570\n",
            "Epoch 57/100\n",
            "273/279 [============================>.] - ETA: 0s - loss: 0.7492 - accuracy: 0.8467\n",
            "Epoch 57: val_loss did not improve from 0.70820\n",
            "279/279 [==============================] - 1s 3ms/step - loss: 0.7426 - accuracy: 0.8484 - val_loss: 0.7097 - val_accuracy: 0.8570\n",
            "Epoch 58/100\n",
            "277/279 [============================>.] - ETA: 0s - loss: 0.7423 - accuracy: 0.8486\n",
            "Epoch 58: val_loss did not improve from 0.70820\n",
            "279/279 [==============================] - 1s 3ms/step - loss: 0.7430 - accuracy: 0.8484 - val_loss: 0.7114 - val_accuracy: 0.8570\n",
            "Epoch 59/100\n",
            "268/279 [===========================>..] - ETA: 0s - loss: 0.7421 - accuracy: 0.8484\n",
            "Epoch 59: val_loss improved from 0.70820 to 0.70808, saving model to saved_models/audio_classification.hdf5\n",
            "279/279 [==============================] - 1s 3ms/step - loss: 0.7423 - accuracy: 0.8484 - val_loss: 0.7081 - val_accuracy: 0.8570\n",
            "Epoch 60/100\n",
            "264/279 [===========================>..] - ETA: 0s - loss: 0.7413 - accuracy: 0.8485\n",
            "Epoch 60: val_loss did not improve from 0.70808\n",
            "279/279 [==============================] - 1s 3ms/step - loss: 0.7417 - accuracy: 0.8484 - val_loss: 0.7090 - val_accuracy: 0.8570\n",
            "Epoch 61/100\n",
            "275/279 [============================>.] - ETA: 0s - loss: 0.7426 - accuracy: 0.8483\n",
            "Epoch 61: val_loss did not improve from 0.70808\n",
            "279/279 [==============================] - 1s 3ms/step - loss: 0.7422 - accuracy: 0.8484 - val_loss: 0.7144 - val_accuracy: 0.8570\n",
            "Epoch 62/100\n",
            "268/279 [===========================>..] - ETA: 0s - loss: 0.7382 - accuracy: 0.8492\n",
            "Epoch 62: val_loss did not improve from 0.70808\n",
            "279/279 [==============================] - 1s 3ms/step - loss: 0.7414 - accuracy: 0.8484 - val_loss: 0.7094 - val_accuracy: 0.8570\n",
            "Epoch 63/100\n",
            "271/279 [============================>.] - ETA: 0s - loss: 0.7409 - accuracy: 0.8487\n",
            "Epoch 63: val_loss improved from 0.70808 to 0.70800, saving model to saved_models/audio_classification.hdf5\n",
            "279/279 [==============================] - 1s 3ms/step - loss: 0.7423 - accuracy: 0.8484 - val_loss: 0.7080 - val_accuracy: 0.8570\n",
            "Epoch 64/100\n",
            "264/279 [===========================>..] - ETA: 0s - loss: 0.7405 - accuracy: 0.8490\n",
            "Epoch 64: val_loss did not improve from 0.70800\n",
            "279/279 [==============================] - 1s 3ms/step - loss: 0.7426 - accuracy: 0.8484 - val_loss: 0.7085 - val_accuracy: 0.8570\n",
            "Epoch 65/100\n",
            "268/279 [===========================>..] - ETA: 0s - loss: 0.7411 - accuracy: 0.8486\n",
            "Epoch 65: val_loss did not improve from 0.70800\n",
            "279/279 [==============================] - 1s 3ms/step - loss: 0.7420 - accuracy: 0.8484 - val_loss: 0.7086 - val_accuracy: 0.8570\n",
            "Epoch 66/100\n",
            "261/279 [===========================>..] - ETA: 0s - loss: 0.7430 - accuracy: 0.8481\n",
            "Epoch 66: val_loss did not improve from 0.70800\n",
            "279/279 [==============================] - 1s 3ms/step - loss: 0.7417 - accuracy: 0.8484 - val_loss: 0.7086 - val_accuracy: 0.8570\n",
            "Epoch 67/100\n",
            "279/279 [==============================] - ETA: 0s - loss: 0.7427 - accuracy: 0.8484\n",
            "Epoch 67: val_loss did not improve from 0.70800\n",
            "279/279 [==============================] - 1s 3ms/step - loss: 0.7427 - accuracy: 0.8484 - val_loss: 0.7082 - val_accuracy: 0.8570\n",
            "Epoch 68/100\n",
            "266/279 [===========================>..] - ETA: 0s - loss: 0.7407 - accuracy: 0.8488\n",
            "Epoch 68: val_loss did not improve from 0.70800\n",
            "279/279 [==============================] - 1s 3ms/step - loss: 0.7423 - accuracy: 0.8484 - val_loss: 0.7083 - val_accuracy: 0.8570\n",
            "Epoch 69/100\n",
            "272/279 [============================>.] - ETA: 0s - loss: 0.7379 - accuracy: 0.8494\n",
            "Epoch 69: val_loss did not improve from 0.70800\n",
            "279/279 [==============================] - 1s 3ms/step - loss: 0.7419 - accuracy: 0.8484 - val_loss: 0.7080 - val_accuracy: 0.8570\n",
            "Epoch 70/100\n",
            "273/279 [============================>.] - ETA: 0s - loss: 0.7428 - accuracy: 0.8483\n",
            "Epoch 70: val_loss did not improve from 0.70800\n",
            "279/279 [==============================] - 1s 4ms/step - loss: 0.7425 - accuracy: 0.8484 - val_loss: 0.7092 - val_accuracy: 0.8570\n",
            "Epoch 71/100\n",
            "262/279 [===========================>..] - ETA: 0s - loss: 0.7443 - accuracy: 0.8477\n",
            "Epoch 71: val_loss did not improve from 0.70800\n",
            "279/279 [==============================] - 1s 3ms/step - loss: 0.7417 - accuracy: 0.8484 - val_loss: 0.7090 - val_accuracy: 0.8570\n",
            "Epoch 72/100\n",
            "271/279 [============================>.] - ETA: 0s - loss: 0.7450 - accuracy: 0.8476\n",
            "Epoch 72: val_loss did not improve from 0.70800\n",
            "279/279 [==============================] - 1s 3ms/step - loss: 0.7418 - accuracy: 0.8484 - val_loss: 0.7081 - val_accuracy: 0.8570\n",
            "Epoch 73/100\n",
            "276/279 [============================>.] - ETA: 0s - loss: 0.7436 - accuracy: 0.8481\n",
            "Epoch 73: val_loss did not improve from 0.70800\n",
            "279/279 [==============================] - 2s 6ms/step - loss: 0.7423 - accuracy: 0.8484 - val_loss: 0.7088 - val_accuracy: 0.8570\n",
            "Epoch 74/100\n",
            "273/279 [============================>.] - ETA: 0s - loss: 0.7427 - accuracy: 0.8481\n",
            "Epoch 74: val_loss did not improve from 0.70800\n",
            "279/279 [==============================] - 2s 8ms/step - loss: 0.7416 - accuracy: 0.8484 - val_loss: 0.7092 - val_accuracy: 0.8570\n",
            "Epoch 75/100\n",
            "277/279 [============================>.] - ETA: 0s - loss: 0.7398 - accuracy: 0.8492\n",
            "Epoch 75: val_loss improved from 0.70800 to 0.70797, saving model to saved_models/audio_classification.hdf5\n",
            "279/279 [==============================] - 1s 5ms/step - loss: 0.7427 - accuracy: 0.8484 - val_loss: 0.7080 - val_accuracy: 0.8570\n",
            "Epoch 76/100\n",
            "272/279 [============================>.] - ETA: 0s - loss: 0.7435 - accuracy: 0.8481\n",
            "Epoch 76: val_loss did not improve from 0.70797\n",
            "279/279 [==============================] - 1s 3ms/step - loss: 0.7424 - accuracy: 0.8484 - val_loss: 0.7080 - val_accuracy: 0.8570\n",
            "Epoch 77/100\n",
            "268/279 [===========================>..] - ETA: 0s - loss: 0.7427 - accuracy: 0.8481\n",
            "Epoch 77: val_loss did not improve from 0.70797\n",
            "279/279 [==============================] - 1s 3ms/step - loss: 0.7416 - accuracy: 0.8484 - val_loss: 0.7083 - val_accuracy: 0.8570\n",
            "Epoch 78/100\n",
            "264/279 [===========================>..] - ETA: 0s - loss: 0.7400 - accuracy: 0.8490\n",
            "Epoch 78: val_loss did not improve from 0.70797\n",
            "279/279 [==============================] - 1s 3ms/step - loss: 0.7421 - accuracy: 0.8484 - val_loss: 0.7093 - val_accuracy: 0.8570\n",
            "Epoch 79/100\n",
            "271/279 [============================>.] - ETA: 0s - loss: 0.7466 - accuracy: 0.8472\n",
            "Epoch 79: val_loss did not improve from 0.70797\n",
            "279/279 [==============================] - 1s 3ms/step - loss: 0.7420 - accuracy: 0.8484 - val_loss: 0.7082 - val_accuracy: 0.8570\n",
            "Epoch 80/100\n",
            "278/279 [============================>.] - ETA: 0s - loss: 0.7412 - accuracy: 0.8486\n",
            "Epoch 80: val_loss did not improve from 0.70797\n",
            "279/279 [==============================] - 1s 3ms/step - loss: 0.7419 - accuracy: 0.8484 - val_loss: 0.7082 - val_accuracy: 0.8570\n",
            "Epoch 81/100\n",
            "276/279 [============================>.] - ETA: 0s - loss: 0.7394 - accuracy: 0.8491\n",
            "Epoch 81: val_loss did not improve from 0.70797\n",
            "279/279 [==============================] - 1s 3ms/step - loss: 0.7418 - accuracy: 0.8484 - val_loss: 0.7132 - val_accuracy: 0.8570\n",
            "Epoch 82/100\n",
            "275/279 [============================>.] - ETA: 0s - loss: 0.7451 - accuracy: 0.8474\n",
            "Epoch 82: val_loss did not improve from 0.70797\n",
            "279/279 [==============================] - 1s 3ms/step - loss: 0.7411 - accuracy: 0.8484 - val_loss: 0.7130 - val_accuracy: 0.8570\n",
            "Epoch 83/100\n",
            "276/279 [============================>.] - ETA: 0s - loss: 0.7424 - accuracy: 0.8486\n",
            "Epoch 83: val_loss did not improve from 0.70797\n",
            "279/279 [==============================] - 1s 3ms/step - loss: 0.7433 - accuracy: 0.8484 - val_loss: 0.7095 - val_accuracy: 0.8570\n",
            "Epoch 84/100\n",
            "274/279 [============================>.] - ETA: 0s - loss: 0.7421 - accuracy: 0.8483\n",
            "Epoch 84: val_loss did not improve from 0.70797\n",
            "279/279 [==============================] - 1s 3ms/step - loss: 0.7418 - accuracy: 0.8484 - val_loss: 0.7082 - val_accuracy: 0.8570\n",
            "Epoch 85/100\n",
            "262/279 [===========================>..] - ETA: 0s - loss: 0.7376 - accuracy: 0.8494\n",
            "Epoch 85: val_loss did not improve from 0.70797\n",
            "279/279 [==============================] - 1s 3ms/step - loss: 0.7410 - accuracy: 0.8484 - val_loss: 0.7153 - val_accuracy: 0.8570\n",
            "Epoch 86/100\n",
            "277/279 [============================>.] - ETA: 0s - loss: 0.7434 - accuracy: 0.8481\n",
            "Epoch 86: val_loss did not improve from 0.70797\n",
            "279/279 [==============================] - 1s 4ms/step - loss: 0.7424 - accuracy: 0.8484 - val_loss: 0.7097 - val_accuracy: 0.8570\n",
            "Epoch 87/100\n",
            "269/279 [===========================>..] - ETA: 0s - loss: 0.7440 - accuracy: 0.8480\n",
            "Epoch 87: val_loss improved from 0.70797 to 0.70773, saving model to saved_models/audio_classification.hdf5\n",
            "279/279 [==============================] - 1s 4ms/step - loss: 0.7426 - accuracy: 0.8484 - val_loss: 0.7077 - val_accuracy: 0.8570\n",
            "Epoch 88/100\n",
            "266/279 [===========================>..] - ETA: 0s - loss: 0.7431 - accuracy: 0.8480\n",
            "Epoch 88: val_loss did not improve from 0.70773\n",
            "279/279 [==============================] - 1s 4ms/step - loss: 0.7416 - accuracy: 0.8484 - val_loss: 0.7085 - val_accuracy: 0.8570\n",
            "Epoch 89/100\n",
            "270/279 [============================>.] - ETA: 0s - loss: 0.7457 - accuracy: 0.8473\n",
            "Epoch 89: val_loss did not improve from 0.70773\n",
            "279/279 [==============================] - 1s 4ms/step - loss: 0.7416 - accuracy: 0.8484 - val_loss: 0.7080 - val_accuracy: 0.8570\n",
            "Epoch 90/100\n",
            "275/279 [============================>.] - ETA: 0s - loss: 0.7409 - accuracy: 0.8486\n",
            "Epoch 90: val_loss did not improve from 0.70773\n",
            "279/279 [==============================] - 1s 3ms/step - loss: 0.7418 - accuracy: 0.8484 - val_loss: 0.7100 - val_accuracy: 0.8570\n",
            "Epoch 91/100\n",
            "276/279 [============================>.] - ETA: 0s - loss: 0.7403 - accuracy: 0.8488\n",
            "Epoch 91: val_loss did not improve from 0.70773\n",
            "279/279 [==============================] - 1s 3ms/step - loss: 0.7419 - accuracy: 0.8484 - val_loss: 0.7112 - val_accuracy: 0.8570\n",
            "Epoch 92/100\n",
            "267/279 [===========================>..] - ETA: 0s - loss: 0.7419 - accuracy: 0.8484\n",
            "Epoch 92: val_loss did not improve from 0.70773\n",
            "279/279 [==============================] - 1s 3ms/step - loss: 0.7420 - accuracy: 0.8484 - val_loss: 0.7109 - val_accuracy: 0.8570\n",
            "Epoch 93/100\n",
            "268/279 [===========================>..] - ETA: 0s - loss: 0.7415 - accuracy: 0.8484\n",
            "Epoch 93: val_loss did not improve from 0.70773\n",
            "279/279 [==============================] - 1s 3ms/step - loss: 0.7415 - accuracy: 0.8484 - val_loss: 0.7112 - val_accuracy: 0.8570\n",
            "Epoch 94/100\n",
            "264/279 [===========================>..] - ETA: 0s - loss: 0.7400 - accuracy: 0.8490\n",
            "Epoch 94: val_loss did not improve from 0.70773\n",
            "279/279 [==============================] - 1s 3ms/step - loss: 0.7423 - accuracy: 0.8484 - val_loss: 0.7079 - val_accuracy: 0.8570\n",
            "Epoch 95/100\n",
            "273/279 [============================>.] - ETA: 0s - loss: 0.7411 - accuracy: 0.8487\n",
            "Epoch 95: val_loss did not improve from 0.70773\n",
            "279/279 [==============================] - 1s 3ms/step - loss: 0.7422 - accuracy: 0.8484 - val_loss: 0.7092 - val_accuracy: 0.8570\n",
            "Epoch 96/100\n",
            "268/279 [===========================>..] - ETA: 0s - loss: 0.7389 - accuracy: 0.8492\n",
            "Epoch 96: val_loss did not improve from 0.70773\n",
            "279/279 [==============================] - 1s 3ms/step - loss: 0.7420 - accuracy: 0.8484 - val_loss: 0.7091 - val_accuracy: 0.8570\n",
            "Epoch 97/100\n",
            "272/279 [============================>.] - ETA: 0s - loss: 0.7422 - accuracy: 0.8482\n",
            "Epoch 97: val_loss did not improve from 0.70773\n",
            "279/279 [==============================] - 1s 3ms/step - loss: 0.7415 - accuracy: 0.8484 - val_loss: 0.7082 - val_accuracy: 0.8570\n",
            "Epoch 98/100\n",
            "276/279 [============================>.] - ETA: 0s - loss: 0.7431 - accuracy: 0.8481\n",
            "Epoch 98: val_loss did not improve from 0.70773\n",
            "279/279 [==============================] - 1s 4ms/step - loss: 0.7418 - accuracy: 0.8484 - val_loss: 0.7085 - val_accuracy: 0.8570\n",
            "Epoch 99/100\n",
            "266/279 [===========================>..] - ETA: 0s - loss: 0.7447 - accuracy: 0.8476\n",
            "Epoch 99: val_loss did not improve from 0.70773\n",
            "279/279 [==============================] - 1s 4ms/step - loss: 0.7416 - accuracy: 0.8484 - val_loss: 0.7083 - val_accuracy: 0.8570\n",
            "Epoch 100/100\n",
            "272/279 [============================>.] - ETA: 0s - loss: 0.7362 - accuracy: 0.8500\n",
            "Epoch 100: val_loss did not improve from 0.70773\n",
            "279/279 [==============================] - 1s 4ms/step - loss: 0.7421 - accuracy: 0.8484 - val_loss: 0.7115 - val_accuracy: 0.8570\n",
            "Training completed in time:  0:02:22.863361\n"
          ]
        }
      ],
      "source": [
        "## Trianing my model\n",
        "from tensorflow.keras.callbacks import ModelCheckpoint\n",
        "from datetime import datetime \n",
        "\n",
        "num_epochs = 100\n",
        "num_batch_size = 32\n",
        "\n",
        "checkpointer = ModelCheckpoint(filepath='saved_models/audio_classification.hdf5', \n",
        "                               verbose=1, save_best_only=True)\n",
        "start = datetime.now()\n",
        "\n",
        "history = model.fit(X_train, y_train, batch_size=num_batch_size, epochs=num_epochs, validation_data=(X_test, y_test), callbacks=[checkpointer], verbose=1)\n",
        "\n",
        "\n",
        "duration = datetime.now() - start\n",
        "print(\"Training completed in time: \", duration)\n",
        "\n",
        "#history = model.fit(X_train, y_train, batch_size = 700, epochs = 50, verbose = 1,validation_split=0.2)\n",
        "# Training the model, You can use class_weight as a paramter for imbalanced here if no Over/Under Sampling performed"
      ]
    },
    {
      "cell_type": "code",
      "execution_count": 90,
      "id": "fc353861",
      "metadata": {
        "id": "fc353861"
      },
      "outputs": [],
      "source": [
        "hist  = pd.DataFrame(history.history)\n",
        "hist['epoch'] = history.epoch"
      ]
    },
    {
      "cell_type": "code",
      "execution_count": 91,
      "id": "22c06fe1",
      "metadata": {
        "colab": {
          "base_uri": "https://localhost:8080/",
          "height": 284
        },
        "id": "22c06fe1",
        "outputId": "e1293a29-48b1-4f7a-dacf-6d3e144e7ded"
      },
      "outputs": [
        {
          "output_type": "execute_result",
          "data": {
            "text/plain": [
              "<matplotlib.legend.Legend at 0x7fe7d140c950>"
            ]
          },
          "metadata": {},
          "execution_count": 91
        },
        {
          "output_type": "display_data",
          "data": {
            "image/png": "[encoded data removed]",
            "text/plain": [
              "<Figure size 432x288 with 1 Axes>"
            ]
          },
          "metadata": {}
        }
      ],
      "source": [
        "plt.plot(hist['loss'])\n",
        "plt.plot(hist['val_loss'])\n",
        "plt.legend((\"train\" , \"valid\") , loc =0)"
      ]
    },
    {
      "cell_type": "code",
      "execution_count": 92,
      "id": "d890faf4",
      "metadata": {
        "colab": {
          "base_uri": "https://localhost:8080/",
          "height": 284
        },
        "id": "d890faf4",
        "outputId": "1781a5a3-9c09-44fb-924b-7b695a404388"
      },
      "outputs": [
        {
          "output_type": "execute_result",
          "data": {
            "text/plain": [
              "<matplotlib.legend.Legend at 0x7fe7d1386fd0>"
            ]
          },
          "metadata": {},
          "execution_count": 92
        },
        {
          "output_type": "display_data",
          "data": {
            "image/png": "[encoded data removed]",
            "text/plain": [
              "<Figure size 432x288 with 1 Axes>"
            ]
          },
          "metadata": {}
        }
      ],
      "source": [
        "plt.plot(hist['accuracy'])\n",
        "plt.plot(hist['val_accuracy'])\n",
        "plt.legend((\"train\" , \"valid\") , loc =0)"
      ]
    },
    {
      "cell_type": "code",
      "execution_count": 93,
      "id": "fc9f87e5",
      "metadata": {
        "colab": {
          "base_uri": "https://localhost:8080/",
          "height": 533
        },
        "id": "fc9f87e5",
        "outputId": "e19fce68-e2f0-4a12-8ca2-90cd74aa5bf2"
      },
      "outputs": [
        {
          "output_type": "execute_result",
          "data": {
            "image/png": "[encoded data removed]",
            "text/plain": [
              "<IPython.core.display.Image object>"
            ]
          },
          "metadata": {},
          "execution_count": 93
        }
      ],
      "source": [
        "# Show the Model created\n",
        "plot_model(model, to_file='model_plot.png', show_shapes=True, show_layer_names=True)"
      ]
    },
    {
      "cell_type": "markdown",
      "id": "7d37ca1c",
      "metadata": {
        "id": "7d37ca1c"
      },
      "source": [
        "# How loss moves around with each epoch\n",
        "data_vis = [{'epoch': idx, \n",
        "         'loss': history.history['loss'][idx],  \n",
        "         'val_loss': history.history['val_loss'][idx], \n",
        "         'accuracy': history.history['accuracy'][idx], \n",
        "         'val_accuracy': history.history['val_accuracy'][idx]\n",
        "         } for idx in range(20)]\n",
        "hip.Experiment.from_iterable(data_vis).display()"
      ]
    },
    {
      "cell_type": "markdown",
      "id": "c0042f24",
      "metadata": {
        "id": "c0042f24"
      },
      "source": [
        "## Evaluation\n",
        "Keras model can be evaluated with evaluate() function\n",
        "\n",
        "Evaluation results are contained in a list"
      ]
    },
    {
      "cell_type": "code",
      "source": [
        "test_accuracy=model.evaluate(X_test,y_test,verbose=0)\n",
        "print(test_accuracy[1])"
      ],
      "metadata": {
        "colab": {
          "base_uri": "https://localhost:8080/"
        },
        "id": "O1RKq7jr67s6",
        "outputId": "92dc8aa8-0a0f-4ccb-ab3b-8c1268f4ae86"
      },
      "id": "O1RKq7jr67s6",
      "execution_count": 94,
      "outputs": [
        {
          "output_type": "stream",
          "name": "stdout",
          "text": [
            "0.8569507002830505\n"
          ]
        }
      ]
    },
    {
      "cell_type": "code",
      "execution_count": 95,
      "id": "130dece5",
      "metadata": {
        "colab": {
          "base_uri": "https://localhost:8080/"
        },
        "id": "130dece5",
        "outputId": "e31815cd-b8ab-4209-e26a-9bb6e15ac36b"
      },
      "outputs": [
        {
          "output_type": "stream",
          "name": "stdout",
          "text": [
            "70/70 [==============================] - 0s 2ms/step - loss: 0.7115 - accuracy: 0.8570\n"
          ]
        }
      ],
      "source": [
        "results = model.evaluate(X_test, y_test)"
      ]
    },
    {
      "cell_type": "code",
      "execution_count": 96,
      "id": "d51f6bc4",
      "metadata": {
        "colab": {
          "base_uri": "https://localhost:8080/"
        },
        "id": "d51f6bc4",
        "outputId": "e81b899e-8232-4a45-ed6c-fcee99249d65"
      },
      "outputs": [
        {
          "output_type": "stream",
          "name": "stdout",
          "text": [
            "['loss', 'accuracy']\n",
            "[0.7115191221237183, 0.8569507002830505]\n"
          ]
        }
      ],
      "source": [
        "print(model.metrics_names)\n",
        "print(results) "
      ]
    },
    {
      "cell_type": "code",
      "execution_count": 97,
      "id": "ffb9c419",
      "metadata": {
        "id": "ffb9c419"
      },
      "outputs": [],
      "source": [
        "from sklearn.metrics import confusion_matrix"
      ]
    },
    {
      "cell_type": "markdown",
      "id": "8366f6a5",
      "metadata": {
        "id": "8366f6a5"
      },
      "source": [
        "## Confusion Matrix"
      ]
    },
    {
      "cell_type": "code",
      "execution_count": 98,
      "id": "f808d2b6",
      "metadata": {
        "colab": {
          "base_uri": "https://localhost:8080/"
        },
        "id": "f808d2b6",
        "outputId": "fae9d7e5-9959-499b-b5e7-7394d7326667"
      },
      "outputs": [
        {
          "output_type": "stream",
          "name": "stdout",
          "text": [
            "70/70 [==============================] - 0s 1ms/step - loss: 0.7115 - accuracy: 0.8570\n",
            "Accuracy Model1 (Dropout): [0.7115191221237183, 0.8569507002830505]\n"
          ]
        }
      ],
      "source": [
        "Y_pred_cls = model.predict(X_test)\n",
        "print('Accuracy Model1 (Dropout): '+ str(model.evaluate(X_test,y_test)))"
      ]
    },
    {
      "cell_type": "markdown",
      "id": "ce177b2d",
      "metadata": {
        "id": "ce177b2d"
      },
      "source": [
        "'''\n",
        "print('Recall_score: ' + str(recall_score(y_test.values,Y_pred_cls)))\n",
        "print('Precision_score: ' + str(precision_score(y_test.values, Y_pred_cls,average='weighted')))\n",
        "print('F-score: ' + str(f1_score(y_test.values,Y_pred_cls,average='weighted')))\n",
        "#confusion_matrix(y_test.values, Y_pred_cls)\n",
        "#recall and precision high, Our model doing well\n",
        "'''"
      ]
    },
    {
      "cell_type": "code",
      "execution_count": 104,
      "id": "70520588",
      "metadata": {
        "scrolled": false,
        "colab": {
          "base_uri": "https://localhost:8080/"
        },
        "id": "70520588",
        "outputId": "62c98b43-7969-491b-aa27-294260b382a9"
      },
      "outputs": [
        {
          "output_type": "stream",
          "name": "stdout",
          "text": [
            "Accuracy Model1 (Dropout): 0.8569506726457399\n"
          ]
        }
      ],
      "source": [
        "# Predict using Threshold - Increase Probability increase threshold\n",
        "pred_y = model.predict(X_test)\n",
        "y_pred = (pred_y > 0.8)\n",
        "print('Accuracy Model1 (Dropout): '+ str(accuracy_score(y_test,y_pred)))"
      ]
    },
    {
      "cell_type": "code",
      "source": [
        "str(model.evaluate(X_test,y_test)[1])"
      ],
      "metadata": {
        "colab": {
          "base_uri": "https://localhost:8080/",
          "height": 54
        },
        "id": "mHIzGseU28RZ",
        "outputId": "54316ff4-f584-499e-cd76-f95b12a0272d"
      },
      "id": "mHIzGseU28RZ",
      "execution_count": 105,
      "outputs": [
        {
          "output_type": "stream",
          "name": "stdout",
          "text": [
            "70/70 [==============================] - 0s 1ms/step - loss: 0.7115 - accuracy: 0.8570\n"
          ]
        },
        {
          "output_type": "execute_result",
          "data": {
            "application/vnd.google.colaboratory.intrinsic+json": {
              "type": "string"
            },
            "text/plain": [
              "'0.8569507002830505'"
            ]
          },
          "metadata": {},
          "execution_count": 105
        }
      ]
    },
    {
      "cell_type": "code",
      "source": [
        "confusion_matrix(y_test.argmax(axis=1), y_pred.argmax(axis=1))"
      ],
      "metadata": {
        "colab": {
          "base_uri": "https://localhost:8080/"
        },
        "id": "5IaswEgC4LZT",
        "outputId": "c2a5ee9d-4b3a-4a4c-94e6-72e2c0879ed3"
      },
      "id": "5IaswEgC4LZT",
      "execution_count": 106,
      "outputs": [
        {
          "output_type": "execute_result",
          "data": {
            "text/plain": [
              "array([[1911,    0,    0,    0,    0,    0,    0,    0,    0],\n",
              "       [  42,    0,    0,    0,    0,    0,    0,    0,    0],\n",
              "       [  40,    0,    0,    0,    0,    0,    0,    0,    0],\n",
              "       [  37,    0,    0,    0,    0,    0,    0,    0,    0],\n",
              "       [  46,    0,    0,    0,    0,    0,    0,    0,    0],\n",
              "       [  40,    0,    0,    0,    0,    0,    0,    0,    0],\n",
              "       [  34,    0,    0,    0,    0,    0,    0,    0,    0],\n",
              "       [  34,    0,    0,    0,    0,    0,    0,    0,    0],\n",
              "       [  46,    0,    0,    0,    0,    0,    0,    0,    0]])"
            ]
          },
          "metadata": {},
          "execution_count": 106
        }
      ]
    },
    {
      "cell_type": "code",
      "source": [
        "y_data"
      ],
      "metadata": {
        "colab": {
          "base_uri": "https://localhost:8080/"
        },
        "id": "Jn3RDyRz4-0E",
        "outputId": "cf79720b-1c9a-4f0e-cb2d-721500f52b9d"
      },
      "id": "Jn3RDyRz4-0E",
      "execution_count": 107,
      "outputs": [
        {
          "output_type": "execute_result",
          "data": {
            "text/plain": [
              "array([[1., 0., 0., ..., 0., 0., 0.],\n",
              "       [1., 0., 0., ..., 0., 0., 0.],\n",
              "       [1., 0., 0., ..., 0., 0., 0.],\n",
              "       ...,\n",
              "       [1., 0., 0., ..., 0., 0., 0.],\n",
              "       [1., 0., 0., ..., 0., 0., 0.],\n",
              "       [1., 0., 0., ..., 0., 0., 0.]], dtype=float32)"
            ]
          },
          "metadata": {},
          "execution_count": 107
        }
      ]
    },
    {
      "cell_type": "code",
      "source": [
        "y_data.shape[1]"
      ],
      "metadata": {
        "colab": {
          "base_uri": "https://localhost:8080/"
        },
        "id": "WOSqYCvo5PyY",
        "outputId": "31cdac86-e512-45a9-a8b3-8b182509bc96"
      },
      "id": "WOSqYCvo5PyY",
      "execution_count": 108,
      "outputs": [
        {
          "output_type": "execute_result",
          "data": {
            "text/plain": [
              "9"
            ]
          },
          "metadata": {},
          "execution_count": 108
        }
      ]
    },
    {
      "cell_type": "code",
      "source": [
        "X_test[0]"
      ],
      "metadata": {
        "colab": {
          "base_uri": "https://localhost:8080/"
        },
        "id": "xYs_iN2V8bIo",
        "outputId": "a9b414b2-4fd2-4c39-ab5f-1af35833ce1e"
      },
      "id": "xYs_iN2V8bIo",
      "execution_count": 127,
      "outputs": [
        {
          "output_type": "execute_result",
          "data": {
            "text/plain": [
              "array([0.02190089, 0.06630566, 0.6451266 , 0.09760138, 0.11762443,\n",
              "       0.36608531, 0.64210192, 0.09623264])"
            ]
          },
          "metadata": {},
          "execution_count": 127
        }
      ]
    },
    {
      "cell_type": "code",
      "source": [
        "y_test[0]"
      ],
      "metadata": {
        "colab": {
          "base_uri": "https://localhost:8080/"
        },
        "id": "RPYJIRQy98Ao",
        "outputId": "52926bfe-7e29-4ecc-d125-5c11579b5dcb"
      },
      "id": "RPYJIRQy98Ao",
      "execution_count": 137,
      "outputs": [
        {
          "output_type": "execute_result",
          "data": {
            "text/plain": [
              "array([1., 0., 0., 0., 0., 0., 0., 0., 0.], dtype=float32)"
            ]
          },
          "metadata": {},
          "execution_count": 137
        }
      ]
    },
    {
      "cell_type": "code",
      "source": [
        "raw_model ='/content/saved_models/anomaly_classification.hdf5'"
      ],
      "metadata": {
        "id": "iKA24Snn_8Ch"
      },
      "id": "iKA24Snn_8Ch",
      "execution_count": 144,
      "outputs": []
    },
    {
      "cell_type": "code",
      "source": [
        "from keras.models import load_model\n",
        "model = load_model(raw_model)"
      ],
      "metadata": {
        "id": "L4DjnOgz_5nA"
      },
      "id": "L4DjnOgz_5nA",
      "execution_count": 145,
      "outputs": []
    },
    {
      "cell_type": "code",
      "source": [
        "model.compile(optimizer = 'adam', loss = 'binary_crossentropy', metrics = ['accuracy'])"
      ],
      "metadata": {
        "id": "8J6bTWxZAHnD"
      },
      "id": "8J6bTWxZAHnD",
      "execution_count": 146,
      "outputs": []
    },
    {
      "cell_type": "code",
      "source": [
        "test_data = X_test[0]"
      ],
      "metadata": {
        "colab": {
          "base_uri": "https://localhost:8080/"
        },
        "id": "tEyVInSGAXDh",
        "outputId": "d9620d42-3fb3-4324-9f87-b0254a8e3e7f"
      },
      "id": "tEyVInSGAXDh",
      "execution_count": 148,
      "outputs": [
        {
          "output_type": "execute_result",
          "data": {
            "text/plain": [
              "array([0.02190089, 0.06630566, 0.6451266 , 0.09760138, 0.11762443,\n",
              "       0.36608531, 0.64210192, 0.09623264])"
            ]
          },
          "metadata": {},
          "execution_count": 148
        }
      ]
    },
    {
      "cell_type": "code",
      "source": [
        "###"
      ],
      "metadata": {
        "id": "jHPrZNGoCHOh"
      },
      "id": "jHPrZNGoCHOh",
      "execution_count": null,
      "outputs": []
    },
    {
      "cell_type": "code",
      "source": [
        "test_data = np.expand_dims(X_test[0], axis = 0)\n",
        "\n",
        "#predict the result\n",
        "result = model.predict(test_data)"
      ],
      "metadata": {
        "id": "gR4HcvpcAMj3"
      },
      "id": "gR4HcvpcAMj3",
      "execution_count": 153,
      "outputs": []
    },
    {
      "cell_type": "code",
      "source": [
        "result[0]"
      ],
      "metadata": {
        "colab": {
          "base_uri": "https://localhost:8080/"
        },
        "id": "iK86GuoAAwaW",
        "outputId": "55b28b77-249f-42ee-b33e-27c8e6618457"
      },
      "id": "iK86GuoAAwaW",
      "execution_count": 162,
      "outputs": [
        {
          "output_type": "execute_result",
          "data": {
            "text/plain": [
              "array([0.8535674 , 0.01930571, 0.01838839, 0.01596997, 0.01941079,\n",
              "       0.0200903 , 0.01821754, 0.01690639, 0.01814358], dtype=float32)"
            ]
          },
          "metadata": {},
          "execution_count": 162
        }
      ]
    },
    {
      "cell_type": "code",
      "source": [
        "########\n",
        "X_test[0]"
      ],
      "metadata": {
        "colab": {
          "base_uri": "https://localhost:8080/"
        },
        "id": "toUn8J-ACINg",
        "outputId": "62913791-92e3-4ca5-d716-b6691203f74a"
      },
      "id": "toUn8J-ACINg",
      "execution_count": 154,
      "outputs": [
        {
          "output_type": "execute_result",
          "data": {
            "text/plain": [
              "array([0.02190089, 0.06630566, 0.6451266 , 0.09760138, 0.11762443,\n",
              "       0.36608531, 0.64210192, 0.09623264])"
            ]
          },
          "metadata": {},
          "execution_count": 154
        }
      ]
    },
    {
      "cell_type": "code",
      "source": [
        "Xnew = X_test[0].tolist()\n",
        "Xnew"
      ],
      "metadata": {
        "colab": {
          "base_uri": "https://localhost:8080/"
        },
        "id": "V4yrbNcVCy1Z",
        "outputId": "5bd9db6f-3f01-4df5-aadf-f78e18260cb2"
      },
      "id": "V4yrbNcVCy1Z",
      "execution_count": 157,
      "outputs": [
        {
          "output_type": "execute_result",
          "data": {
            "text/plain": [
              "[0.021900892256695833,\n",
              " 0.06630565574674228,\n",
              " 0.6451265980747246,\n",
              " 0.09760137964881281,\n",
              " 0.11762443194939598,\n",
              " 0.3660853109790173,\n",
              " 0.6421019161675683,\n",
              " 0.09623264222420141]"
            ]
          },
          "metadata": {},
          "execution_count": 157
        }
      ]
    },
    {
      "cell_type": "code",
      "source": [
        "y_test[0]"
      ],
      "metadata": {
        "colab": {
          "base_uri": "https://localhost:8080/"
        },
        "id": "i1Hrii-xDCgs",
        "outputId": "ed6f5bce-13ae-4e2c-b822-7a65ac987875"
      },
      "id": "i1Hrii-xDCgs",
      "execution_count": 158,
      "outputs": [
        {
          "output_type": "execute_result",
          "data": {
            "text/plain": [
              "array([1., 0., 0., 0., 0., 0., 0., 0., 0.], dtype=float32)"
            ]
          },
          "metadata": {},
          "execution_count": 158
        }
      ]
    },
    {
      "cell_type": "code",
      "source": [
        "from sklearn.metrics import classification_report\n",
        "rep = classification_report(y_test,y_pred)"
      ],
      "metadata": {
        "id": "sLaVuLouFQJN"
      },
      "id": "sLaVuLouFQJN",
      "execution_count": null,
      "outputs": []
    },
    {
      "cell_type": "code",
      "source": [
        "from array import array"
      ],
      "metadata": {
        "id": "HloT8qExEEyC"
      },
      "id": "HloT8qExEEyC",
      "execution_count": 164,
      "outputs": []
    },
    {
      "cell_type": "code",
      "source": [
        "ip = np.array([[0.8535674 , 0.01930571, 0.01838839, 0.01596997, 0.01941079,0.0200903 , 0.01821754, 0.01690639, 0.01814358]])"
      ],
      "metadata": {
        "id": "sz9LDyzkDPKR"
      },
      "id": "sz9LDyzkDPKR",
      "execution_count": 173,
      "outputs": []
    },
    {
      "cell_type": "code",
      "source": [
        "from sklearn.metrics import classification_report\n",
        "rep = classification_report(y_test,pred_y)"
      ],
      "metadata": {
        "colab": {
          "base_uri": "https://localhost:8080/",
          "height": 378
        },
        "id": "ilCQxzg9FbZg",
        "outputId": "59313286-1cde-4f96-e8c3-dff2ab160707"
      },
      "id": "ilCQxzg9FbZg",
      "execution_count": 175,
      "outputs": [
        {
          "output_type": "error",
          "ename": "ValueError",
          "evalue": "ignored",
          "traceback": [
            "\u001b[0;31m---------------------------------------------------------------------------\u001b[0m",
            "\u001b[0;31mValueError\u001b[0m                                Traceback (most recent call last)",
            "\u001b[0;32m<ipython-input-175-7ea2f22062b6>\u001b[0m in \u001b[0;36m<module>\u001b[0;34m()\u001b[0m\n\u001b[1;32m      1\u001b[0m \u001b[0;32mfrom\u001b[0m \u001b[0msklearn\u001b[0m\u001b[0;34m.\u001b[0m\u001b[0mmetrics\u001b[0m \u001b[0;32mimport\u001b[0m \u001b[0mclassification_report\u001b[0m\u001b[0;34m\u001b[0m\u001b[0;34m\u001b[0m\u001b[0m\n\u001b[0;32m----> 2\u001b[0;31m \u001b[0mrep\u001b[0m \u001b[0;34m=\u001b[0m \u001b[0mclassification_report\u001b[0m\u001b[0;34m(\u001b[0m\u001b[0my_test\u001b[0m\u001b[0;34m,\u001b[0m\u001b[0mpred_y\u001b[0m\u001b[0;34m)\u001b[0m\u001b[0;34m\u001b[0m\u001b[0;34m\u001b[0m\u001b[0m\n\u001b[0m",
            "\u001b[0;32m/usr/local/lib/python3.7/dist-packages/sklearn/metrics/_classification.py\u001b[0m in \u001b[0;36mclassification_report\u001b[0;34m(y_true, y_pred, labels, target_names, sample_weight, digits, output_dict, zero_division)\u001b[0m\n\u001b[1;32m   2108\u001b[0m     \"\"\"\n\u001b[1;32m   2109\u001b[0m \u001b[0;34m\u001b[0m\u001b[0m\n\u001b[0;32m-> 2110\u001b[0;31m     \u001b[0my_type\u001b[0m\u001b[0;34m,\u001b[0m \u001b[0my_true\u001b[0m\u001b[0;34m,\u001b[0m \u001b[0my_pred\u001b[0m \u001b[0;34m=\u001b[0m \u001b[0m_check_targets\u001b[0m\u001b[0;34m(\u001b[0m\u001b[0my_true\u001b[0m\u001b[0;34m,\u001b[0m \u001b[0my_pred\u001b[0m\u001b[0;34m)\u001b[0m\u001b[0;34m\u001b[0m\u001b[0;34m\u001b[0m\u001b[0m\n\u001b[0m\u001b[1;32m   2111\u001b[0m \u001b[0;34m\u001b[0m\u001b[0m\n\u001b[1;32m   2112\u001b[0m     \u001b[0;32mif\u001b[0m \u001b[0mlabels\u001b[0m \u001b[0;32mis\u001b[0m \u001b[0;32mNone\u001b[0m\u001b[0;34m:\u001b[0m\u001b[0;34m\u001b[0m\u001b[0;34m\u001b[0m\u001b[0m\n",
            "\u001b[0;32m/usr/local/lib/python3.7/dist-packages/sklearn/metrics/_classification.py\u001b[0m in \u001b[0;36m_check_targets\u001b[0;34m(y_true, y_pred)\u001b[0m\n\u001b[1;32m     93\u001b[0m         raise ValueError(\n\u001b[1;32m     94\u001b[0m             \"Classification metrics can't handle a mix of {0} and {1} targets\".format(\n\u001b[0;32m---> 95\u001b[0;31m                 \u001b[0mtype_true\u001b[0m\u001b[0;34m,\u001b[0m \u001b[0mtype_pred\u001b[0m\u001b[0;34m\u001b[0m\u001b[0;34m\u001b[0m\u001b[0m\n\u001b[0m\u001b[1;32m     96\u001b[0m             )\n\u001b[1;32m     97\u001b[0m         )\n",
            "\u001b[0;31mValueError\u001b[0m: Classification metrics can't handle a mix of multilabel-indicator and continuous-multioutput targets"
          ]
        }
      ]
    },
    {
      "cell_type": "code",
      "source": [
        "Xnew = ip\n",
        "# make a prediction\n",
        "ynew = model.predict_classes(Xnew)\n",
        "# show the inputs and predicted outputs\n",
        "print(\"X=%s, Predicted=%s\" % (Xnew[0], ynew[0]))"
      ],
      "metadata": {
        "colab": {
          "base_uri": "https://localhost:8080/",
          "height": 245
        },
        "id": "feYZqUevCIwY",
        "outputId": "4e04912f-e4e8-41cf-f989-4ddb2e09e0f1"
      },
      "id": "feYZqUevCIwY",
      "execution_count": 174,
      "outputs": [
        {
          "output_type": "error",
          "ename": "AttributeError",
          "evalue": "ignored",
          "traceback": [
            "\u001b[0;31m---------------------------------------------------------------------------\u001b[0m",
            "\u001b[0;31mAttributeError\u001b[0m                            Traceback (most recent call last)",
            "\u001b[0;32m<ipython-input-174-f1683d372738>\u001b[0m in \u001b[0;36m<module>\u001b[0;34m()\u001b[0m\n\u001b[1;32m      1\u001b[0m \u001b[0mXnew\u001b[0m \u001b[0;34m=\u001b[0m \u001b[0mip\u001b[0m\u001b[0;34m\u001b[0m\u001b[0;34m\u001b[0m\u001b[0m\n\u001b[1;32m      2\u001b[0m \u001b[0;31m# make a prediction\u001b[0m\u001b[0;34m\u001b[0m\u001b[0;34m\u001b[0m\u001b[0;34m\u001b[0m\u001b[0m\n\u001b[0;32m----> 3\u001b[0;31m \u001b[0mynew\u001b[0m \u001b[0;34m=\u001b[0m \u001b[0mmodel\u001b[0m\u001b[0;34m.\u001b[0m\u001b[0mpredict_classes\u001b[0m\u001b[0;34m(\u001b[0m\u001b[0mXnew\u001b[0m\u001b[0;34m)\u001b[0m\u001b[0;34m\u001b[0m\u001b[0;34m\u001b[0m\u001b[0m\n\u001b[0m\u001b[1;32m      4\u001b[0m \u001b[0;31m# show the inputs and predicted outputs\u001b[0m\u001b[0;34m\u001b[0m\u001b[0;34m\u001b[0m\u001b[0;34m\u001b[0m\u001b[0m\n\u001b[1;32m      5\u001b[0m \u001b[0mprint\u001b[0m\u001b[0;34m(\u001b[0m\u001b[0;34m\"X=%s, Predicted=%s\"\u001b[0m \u001b[0;34m%\u001b[0m \u001b[0;34m(\u001b[0m\u001b[0mXnew\u001b[0m\u001b[0;34m[\u001b[0m\u001b[0;36m0\u001b[0m\u001b[0;34m]\u001b[0m\u001b[0;34m,\u001b[0m \u001b[0mynew\u001b[0m\u001b[0;34m[\u001b[0m\u001b[0;36m0\u001b[0m\u001b[0;34m]\u001b[0m\u001b[0;34m)\u001b[0m\u001b[0;34m)\u001b[0m\u001b[0;34m\u001b[0m\u001b[0;34m\u001b[0m\u001b[0m\n",
            "\u001b[0;31mAttributeError\u001b[0m: 'Sequential' object has no attribute 'predict_classes'"
          ]
        }
      ]
    }
  ],
  "metadata": {
    "kernelspec": {
      "display_name": "Python 3 (ipykernel)",
      "language": "python",
      "name": "python3"
    },
    "language_info": {
      "codemirror_mode": {
        "name": "ipython",
        "version": 3
      },
      "file_extension": ".py",
      "mimetype": "text/x-python",
      "name": "python",
      "nbconvert_exporter": "python",
      "pygments_lexer": "ipython3",
      "version": "3.9.7"
    },
    "colab": {
      "name": "Anomaly_DV2_DNN.ipynb",
      "provenance": []
    }
  },
  "nbformat": 4,
  "nbformat_minor": 5
}